{
  "nbformat": 4,
  "nbformat_minor": 0,
  "metadata": {
    "colab": {
      "name": "Pandas.ipynb",
      "version": "0.3.2",
      "provenance": []
    },
    "kernelspec": {
      "display_name": "Python 2",
      "language": "python",
      "name": "python2"
    }
  },
  "cells": [
    {
      "metadata": {
        "id": "Q9rTB4jaH6d3",
        "colab_type": "code",
        "colab": {
          "base_uri": "https://localhost:8080/",
          "height": 136
        },
        "outputId": "0cd54253-0380-4ea7-e26f-f6155c01147a"
      },
      "cell_type": "code",
      "source": [
        "import pandas as pd\n",
        "import numpy as np\n",
        "\n",
        "s = pd.Series([1,3,5,np.nan,6,8])\n",
        "s"
      ],
      "execution_count": 2,
      "outputs": [
        {
          "output_type": "execute_result",
          "data": {
            "text/plain": [
              "0    1.0\n",
              "1    3.0\n",
              "2    5.0\n",
              "3    NaN\n",
              "4    6.0\n",
              "5    8.0\n",
              "dtype: float64"
            ]
          },
          "metadata": {
            "tags": []
          },
          "execution_count": 2
        }
      ]
    },
    {
      "metadata": {
        "id": "P4assJfcIPZl",
        "colab_type": "code",
        "colab": {}
      },
      "cell_type": "code",
      "source": [
        "df = pd.DataFrame({'total_bill': [16.99, 10.34, 23.68, 23.68, 24.59],\n",
        "                   'tip': [1.01, 1.66, 3.50, 3.31, 3.61],\n",
        "                   'sex': ['Female', 'Male', 'Male', 'Male', 'Female']})"
      ],
      "execution_count": 0,
      "outputs": []
    },
    {
      "metadata": {
        "id": "9yXrY67WIVk2",
        "colab_type": "code",
        "colab": {
          "base_uri": "https://localhost:8080/",
          "height": 34
        },
        "outputId": "0cb9fa19-91ef-44cc-f7df-8523c013fe5c"
      },
      "cell_type": "code",
      "source": [
        "df.dtypes\n",
        "df.index\n",
        "df.columns\n",
        "df.values\n",
        "df.shape"
      ],
      "execution_count": 8,
      "outputs": [
        {
          "output_type": "execute_result",
          "data": {
            "text/plain": [
              "(5, 3)"
            ]
          },
          "metadata": {
            "tags": []
          },
          "execution_count": 8
        }
      ]
    },
    {
      "metadata": {
        "id": "5xf3Ct60KMG1",
        "colab_type": "code",
        "colab": {}
      },
      "cell_type": "code",
      "source": [
        ""
      ],
      "execution_count": 0,
      "outputs": []
    },
    {
      "metadata": {
        "id": "CzW1jX-hH6eB",
        "colab_type": "code",
        "colab": {},
        "outputId": "4793ee35-f764-4dd4-fec8-90bfd9b69cf1"
      },
      "cell_type": "code",
      "source": [
        "dates = pd.date_range('20130101',periods = 6)\n",
        "dates"
      ],
      "execution_count": 0,
      "outputs": [
        {
          "output_type": "execute_result",
          "data": {
            "text/plain": [
              "DatetimeIndex(['2013-01-01', '2013-01-02', '2013-01-03', '2013-01-04',\n",
              "               '2013-01-05', '2013-01-06'],\n",
              "              dtype='datetime64[ns]', freq='D')"
            ]
          },
          "metadata": {
            "tags": []
          },
          "execution_count": 2
        }
      ]
    },
    {
      "metadata": {
        "id": "wizn5SbjH6eF",
        "colab_type": "code",
        "colab": {},
        "outputId": "06f2344d-c888-408d-b5a5-181310c1ebf9"
      },
      "cell_type": "code",
      "source": [
        "df = pd.DataFrame(np.random.randn(6,4),index=dates,columns=list('ABCD'))\n",
        "df"
      ],
      "execution_count": 0,
      "outputs": [
        {
          "output_type": "execute_result",
          "data": {
            "text/html": [
              "<div>\n",
              "<style scoped>\n",
              "    .dataframe tbody tr th:only-of-type {\n",
              "        vertical-align: middle;\n",
              "    }\n",
              "\n",
              "    .dataframe tbody tr th {\n",
              "        vertical-align: top;\n",
              "    }\n",
              "\n",
              "    .dataframe thead th {\n",
              "        text-align: right;\n",
              "    }\n",
              "</style>\n",
              "<table border=\"1\" class=\"dataframe\">\n",
              "  <thead>\n",
              "    <tr style=\"text-align: right;\">\n",
              "      <th></th>\n",
              "      <th>A</th>\n",
              "      <th>B</th>\n",
              "      <th>C</th>\n",
              "      <th>D</th>\n",
              "    </tr>\n",
              "  </thead>\n",
              "  <tbody>\n",
              "    <tr>\n",
              "      <th>2013-01-01</th>\n",
              "      <td>-1.321089</td>\n",
              "      <td>0.238801</td>\n",
              "      <td>0.850090</td>\n",
              "      <td>0.833603</td>\n",
              "    </tr>\n",
              "    <tr>\n",
              "      <th>2013-01-02</th>\n",
              "      <td>-1.783051</td>\n",
              "      <td>2.453829</td>\n",
              "      <td>0.203101</td>\n",
              "      <td>-0.099306</td>\n",
              "    </tr>\n",
              "    <tr>\n",
              "      <th>2013-01-03</th>\n",
              "      <td>0.416889</td>\n",
              "      <td>0.381790</td>\n",
              "      <td>1.169320</td>\n",
              "      <td>1.589493</td>\n",
              "    </tr>\n",
              "    <tr>\n",
              "      <th>2013-01-04</th>\n",
              "      <td>-0.309132</td>\n",
              "      <td>1.574709</td>\n",
              "      <td>0.505666</td>\n",
              "      <td>1.355547</td>\n",
              "    </tr>\n",
              "    <tr>\n",
              "      <th>2013-01-05</th>\n",
              "      <td>-0.010029</td>\n",
              "      <td>-1.810629</td>\n",
              "      <td>0.779344</td>\n",
              "      <td>0.337867</td>\n",
              "    </tr>\n",
              "    <tr>\n",
              "      <th>2013-01-06</th>\n",
              "      <td>-0.695331</td>\n",
              "      <td>-0.208925</td>\n",
              "      <td>0.585195</td>\n",
              "      <td>0.963289</td>\n",
              "    </tr>\n",
              "  </tbody>\n",
              "</table>\n",
              "</div>"
            ],
            "text/plain": [
              "                   A         B         C         D\n",
              "2013-01-01 -1.321089  0.238801  0.850090  0.833603\n",
              "2013-01-02 -1.783051  2.453829  0.203101 -0.099306\n",
              "2013-01-03  0.416889  0.381790  1.169320  1.589493\n",
              "2013-01-04 -0.309132  1.574709  0.505666  1.355547\n",
              "2013-01-05 -0.010029 -1.810629  0.779344  0.337867\n",
              "2013-01-06 -0.695331 -0.208925  0.585195  0.963289"
            ]
          },
          "metadata": {
            "tags": []
          },
          "execution_count": 3
        }
      ]
    },
    {
      "metadata": {
        "id": "UQbRLOWgH6eJ",
        "colab_type": "code",
        "colab": {},
        "outputId": "c8b9f92a-a936-4edb-e1c2-db0edd244609"
      },
      "cell_type": "code",
      "source": [
        "col = list('ABCD')\n",
        "col"
      ],
      "execution_count": 0,
      "outputs": [
        {
          "output_type": "execute_result",
          "data": {
            "text/plain": [
              "['A', 'B', 'C', 'D']"
            ]
          },
          "metadata": {
            "tags": []
          },
          "execution_count": 5
        }
      ]
    },
    {
      "metadata": {
        "id": "qbpJsVaQH6eN",
        "colab_type": "code",
        "colab": {},
        "outputId": "4ca83c66-e681-42b3-ecf6-5582a47fc504"
      },
      "cell_type": "code",
      "source": [
        "df2 = pd.DataFrame({'A':1.,\n",
        "                   'B':pd.Timestamp('20130102'),\n",
        "                   'C':pd.Series(1,index=list(range(4)),dtype='float32'),\n",
        "                   'D':np.array([3]*4,dtype='int32'),\n",
        "                   'E':pd.Categorical([\"test\",\"train\",\"test\",\"train\"]),\n",
        "                   'F':'foo'})\n",
        "\n",
        "df2"
      ],
      "execution_count": 0,
      "outputs": [
        {
          "output_type": "execute_result",
          "data": {
            "text/html": [
              "<div>\n",
              "<style scoped>\n",
              "    .dataframe tbody tr th:only-of-type {\n",
              "        vertical-align: middle;\n",
              "    }\n",
              "\n",
              "    .dataframe tbody tr th {\n",
              "        vertical-align: top;\n",
              "    }\n",
              "\n",
              "    .dataframe thead th {\n",
              "        text-align: right;\n",
              "    }\n",
              "</style>\n",
              "<table border=\"1\" class=\"dataframe\">\n",
              "  <thead>\n",
              "    <tr style=\"text-align: right;\">\n",
              "      <th></th>\n",
              "      <th>A</th>\n",
              "      <th>B</th>\n",
              "      <th>C</th>\n",
              "      <th>D</th>\n",
              "      <th>E</th>\n",
              "      <th>F</th>\n",
              "    </tr>\n",
              "  </thead>\n",
              "  <tbody>\n",
              "    <tr>\n",
              "      <th>0</th>\n",
              "      <td>1.0</td>\n",
              "      <td>2013-01-02</td>\n",
              "      <td>1.0</td>\n",
              "      <td>3</td>\n",
              "      <td>test</td>\n",
              "      <td>foo</td>\n",
              "    </tr>\n",
              "    <tr>\n",
              "      <th>1</th>\n",
              "      <td>1.0</td>\n",
              "      <td>2013-01-02</td>\n",
              "      <td>1.0</td>\n",
              "      <td>3</td>\n",
              "      <td>train</td>\n",
              "      <td>foo</td>\n",
              "    </tr>\n",
              "    <tr>\n",
              "      <th>2</th>\n",
              "      <td>1.0</td>\n",
              "      <td>2013-01-02</td>\n",
              "      <td>1.0</td>\n",
              "      <td>3</td>\n",
              "      <td>test</td>\n",
              "      <td>foo</td>\n",
              "    </tr>\n",
              "    <tr>\n",
              "      <th>3</th>\n",
              "      <td>1.0</td>\n",
              "      <td>2013-01-02</td>\n",
              "      <td>1.0</td>\n",
              "      <td>3</td>\n",
              "      <td>train</td>\n",
              "      <td>foo</td>\n",
              "    </tr>\n",
              "  </tbody>\n",
              "</table>\n",
              "</div>"
            ],
            "text/plain": [
              "     A          B    C  D      E    F\n",
              "0  1.0 2013-01-02  1.0  3   test  foo\n",
              "1  1.0 2013-01-02  1.0  3  train  foo\n",
              "2  1.0 2013-01-02  1.0  3   test  foo\n",
              "3  1.0 2013-01-02  1.0  3  train  foo"
            ]
          },
          "metadata": {
            "tags": []
          },
          "execution_count": 6
        }
      ]
    },
    {
      "metadata": {
        "id": "H9SIOjoEH6eQ",
        "colab_type": "code",
        "colab": {},
        "outputId": "88f93939-a1e4-4d38-d10f-ce877d989b4a"
      },
      "cell_type": "code",
      "source": [
        "df2.dtypes"
      ],
      "execution_count": 0,
      "outputs": [
        {
          "output_type": "execute_result",
          "data": {
            "text/plain": [
              "A           float64\n",
              "B    datetime64[ns]\n",
              "C           float32\n",
              "D             int32\n",
              "E          category\n",
              "F            object\n",
              "dtype: object"
            ]
          },
          "metadata": {
            "tags": []
          },
          "execution_count": 10
        }
      ]
    },
    {
      "metadata": {
        "id": "83CaXbSyH6eU",
        "colab_type": "code",
        "colab": {},
        "outputId": "5525d8eb-ba5c-4370-a8c7-0a3c5dad7ab4"
      },
      "cell_type": "code",
      "source": [
        "df.head()"
      ],
      "execution_count": 0,
      "outputs": [
        {
          "output_type": "execute_result",
          "data": {
            "text/html": [
              "<div>\n",
              "<style scoped>\n",
              "    .dataframe tbody tr th:only-of-type {\n",
              "        vertical-align: middle;\n",
              "    }\n",
              "\n",
              "    .dataframe tbody tr th {\n",
              "        vertical-align: top;\n",
              "    }\n",
              "\n",
              "    .dataframe thead th {\n",
              "        text-align: right;\n",
              "    }\n",
              "</style>\n",
              "<table border=\"1\" class=\"dataframe\">\n",
              "  <thead>\n",
              "    <tr style=\"text-align: right;\">\n",
              "      <th></th>\n",
              "      <th>A</th>\n",
              "      <th>B</th>\n",
              "      <th>C</th>\n",
              "      <th>D</th>\n",
              "    </tr>\n",
              "  </thead>\n",
              "  <tbody>\n",
              "    <tr>\n",
              "      <th>2013-01-01</th>\n",
              "      <td>-1.620992</td>\n",
              "      <td>-1.255061</td>\n",
              "      <td>0.542316</td>\n",
              "      <td>1.050026</td>\n",
              "    </tr>\n",
              "    <tr>\n",
              "      <th>2013-01-02</th>\n",
              "      <td>0.108518</td>\n",
              "      <td>1.174630</td>\n",
              "      <td>-0.730138</td>\n",
              "      <td>0.259597</td>\n",
              "    </tr>\n",
              "    <tr>\n",
              "      <th>2013-01-03</th>\n",
              "      <td>0.146063</td>\n",
              "      <td>0.669834</td>\n",
              "      <td>-0.258898</td>\n",
              "      <td>0.502883</td>\n",
              "    </tr>\n",
              "    <tr>\n",
              "      <th>2013-01-04</th>\n",
              "      <td>1.502114</td>\n",
              "      <td>-0.481438</td>\n",
              "      <td>-0.445906</td>\n",
              "      <td>1.857938</td>\n",
              "    </tr>\n",
              "    <tr>\n",
              "      <th>2013-01-05</th>\n",
              "      <td>-0.401894</td>\n",
              "      <td>-1.838668</td>\n",
              "      <td>-1.112530</td>\n",
              "      <td>0.156224</td>\n",
              "    </tr>\n",
              "  </tbody>\n",
              "</table>\n",
              "</div>"
            ],
            "text/plain": [
              "                   A         B         C         D\n",
              "2013-01-01 -1.620992 -1.255061  0.542316  1.050026\n",
              "2013-01-02  0.108518  1.174630 -0.730138  0.259597\n",
              "2013-01-03  0.146063  0.669834 -0.258898  0.502883\n",
              "2013-01-04  1.502114 -0.481438 -0.445906  1.857938\n",
              "2013-01-05 -0.401894 -1.838668 -1.112530  0.156224"
            ]
          },
          "metadata": {
            "tags": []
          },
          "execution_count": 11
        }
      ]
    },
    {
      "metadata": {
        "id": "ON04UX_YH6eY",
        "colab_type": "code",
        "colab": {},
        "outputId": "6afaac0f-0138-4d0f-d8a4-f97a1da6599a"
      },
      "cell_type": "code",
      "source": [
        "df.tail(3)"
      ],
      "execution_count": 0,
      "outputs": [
        {
          "output_type": "execute_result",
          "data": {
            "text/html": [
              "<div>\n",
              "<style scoped>\n",
              "    .dataframe tbody tr th:only-of-type {\n",
              "        vertical-align: middle;\n",
              "    }\n",
              "\n",
              "    .dataframe tbody tr th {\n",
              "        vertical-align: top;\n",
              "    }\n",
              "\n",
              "    .dataframe thead th {\n",
              "        text-align: right;\n",
              "    }\n",
              "</style>\n",
              "<table border=\"1\" class=\"dataframe\">\n",
              "  <thead>\n",
              "    <tr style=\"text-align: right;\">\n",
              "      <th></th>\n",
              "      <th>A</th>\n",
              "      <th>B</th>\n",
              "      <th>C</th>\n",
              "      <th>D</th>\n",
              "    </tr>\n",
              "  </thead>\n",
              "  <tbody>\n",
              "    <tr>\n",
              "      <th>2013-01-04</th>\n",
              "      <td>1.502114</td>\n",
              "      <td>-0.481438</td>\n",
              "      <td>-0.445906</td>\n",
              "      <td>1.857938</td>\n",
              "    </tr>\n",
              "    <tr>\n",
              "      <th>2013-01-05</th>\n",
              "      <td>-0.401894</td>\n",
              "      <td>-1.838668</td>\n",
              "      <td>-1.112530</td>\n",
              "      <td>0.156224</td>\n",
              "    </tr>\n",
              "    <tr>\n",
              "      <th>2013-01-06</th>\n",
              "      <td>0.871891</td>\n",
              "      <td>1.022357</td>\n",
              "      <td>-0.184152</td>\n",
              "      <td>-0.197625</td>\n",
              "    </tr>\n",
              "  </tbody>\n",
              "</table>\n",
              "</div>"
            ],
            "text/plain": [
              "                   A         B         C         D\n",
              "2013-01-04  1.502114 -0.481438 -0.445906  1.857938\n",
              "2013-01-05 -0.401894 -1.838668 -1.112530  0.156224\n",
              "2013-01-06  0.871891  1.022357 -0.184152 -0.197625"
            ]
          },
          "metadata": {
            "tags": []
          },
          "execution_count": 12
        }
      ]
    },
    {
      "metadata": {
        "id": "SAvnQGYlH6ed",
        "colab_type": "code",
        "colab": {},
        "outputId": "e1c643cb-faae-439e-d8b7-109628fc6989"
      },
      "cell_type": "code",
      "source": [
        "df.index"
      ],
      "execution_count": 0,
      "outputs": [
        {
          "output_type": "execute_result",
          "data": {
            "text/plain": [
              "DatetimeIndex(['2013-01-01', '2013-01-02', '2013-01-03', '2013-01-04',\n",
              "               '2013-01-05', '2013-01-06'],\n",
              "              dtype='datetime64[ns]', freq='D')"
            ]
          },
          "metadata": {
            "tags": []
          },
          "execution_count": 13
        }
      ]
    },
    {
      "metadata": {
        "id": "xHVHrEoWH6ek",
        "colab_type": "code",
        "colab": {},
        "outputId": "a5880035-9eb7-436d-de44-62927001517d"
      },
      "cell_type": "code",
      "source": [
        "df.columns"
      ],
      "execution_count": 0,
      "outputs": [
        {
          "output_type": "execute_result",
          "data": {
            "text/plain": [
              "Index([u'A', u'B', u'C', u'D'], dtype='object')"
            ]
          },
          "metadata": {
            "tags": []
          },
          "execution_count": 14
        }
      ]
    },
    {
      "metadata": {
        "id": "ZbbhYpRwH6en",
        "colab_type": "code",
        "colab": {},
        "outputId": "fe6e517c-9041-4b23-b03a-72e3fec4573a"
      },
      "cell_type": "code",
      "source": [
        "df.values"
      ],
      "execution_count": 0,
      "outputs": [
        {
          "output_type": "execute_result",
          "data": {
            "text/plain": [
              "array([[-1.6209917 , -1.25506053,  0.5423155 ,  1.050026  ],\n",
              "       [ 0.10851794,  1.17462952, -0.73013803,  0.25959749],\n",
              "       [ 0.14606318,  0.66983372, -0.2588978 ,  0.5028833 ],\n",
              "       [ 1.50211448, -0.48143807, -0.44590587,  1.85793802],\n",
              "       [-0.4018942 , -1.83866791, -1.11253022,  0.15622359],\n",
              "       [ 0.8718909 ,  1.02235741, -0.18415215, -0.19762506]])"
            ]
          },
          "metadata": {
            "tags": []
          },
          "execution_count": 15
        }
      ]
    },
    {
      "metadata": {
        "id": "FISwB9QfH6er",
        "colab_type": "code",
        "colab": {},
        "outputId": "641306e0-4b74-4fcb-880d-6871c309a72e"
      },
      "cell_type": "code",
      "source": [
        "df.describe()"
      ],
      "execution_count": 0,
      "outputs": [
        {
          "output_type": "execute_result",
          "data": {
            "text/html": [
              "<div>\n",
              "<style scoped>\n",
              "    .dataframe tbody tr th:only-of-type {\n",
              "        vertical-align: middle;\n",
              "    }\n",
              "\n",
              "    .dataframe tbody tr th {\n",
              "        vertical-align: top;\n",
              "    }\n",
              "\n",
              "    .dataframe thead th {\n",
              "        text-align: right;\n",
              "    }\n",
              "</style>\n",
              "<table border=\"1\" class=\"dataframe\">\n",
              "  <thead>\n",
              "    <tr style=\"text-align: right;\">\n",
              "      <th></th>\n",
              "      <th>A</th>\n",
              "      <th>B</th>\n",
              "      <th>C</th>\n",
              "      <th>D</th>\n",
              "    </tr>\n",
              "  </thead>\n",
              "  <tbody>\n",
              "    <tr>\n",
              "      <th>count</th>\n",
              "      <td>6.000000</td>\n",
              "      <td>6.000000</td>\n",
              "      <td>6.000000</td>\n",
              "      <td>6.000000</td>\n",
              "    </tr>\n",
              "    <tr>\n",
              "      <th>mean</th>\n",
              "      <td>0.100950</td>\n",
              "      <td>-0.118058</td>\n",
              "      <td>-0.364885</td>\n",
              "      <td>0.604841</td>\n",
              "    </tr>\n",
              "    <tr>\n",
              "      <th>std</th>\n",
              "      <td>1.074955</td>\n",
              "      <td>1.263145</td>\n",
              "      <td>0.559617</td>\n",
              "      <td>0.740708</td>\n",
              "    </tr>\n",
              "    <tr>\n",
              "      <th>min</th>\n",
              "      <td>-1.620992</td>\n",
              "      <td>-1.838668</td>\n",
              "      <td>-1.112530</td>\n",
              "      <td>-0.197625</td>\n",
              "    </tr>\n",
              "    <tr>\n",
              "      <th>25%</th>\n",
              "      <td>-0.274291</td>\n",
              "      <td>-1.061655</td>\n",
              "      <td>-0.659080</td>\n",
              "      <td>0.182067</td>\n",
              "    </tr>\n",
              "    <tr>\n",
              "      <th>50%</th>\n",
              "      <td>0.127291</td>\n",
              "      <td>0.094198</td>\n",
              "      <td>-0.352402</td>\n",
              "      <td>0.381240</td>\n",
              "    </tr>\n",
              "    <tr>\n",
              "      <th>75%</th>\n",
              "      <td>0.690434</td>\n",
              "      <td>0.934226</td>\n",
              "      <td>-0.202839</td>\n",
              "      <td>0.913240</td>\n",
              "    </tr>\n",
              "    <tr>\n",
              "      <th>max</th>\n",
              "      <td>1.502114</td>\n",
              "      <td>1.174630</td>\n",
              "      <td>0.542316</td>\n",
              "      <td>1.857938</td>\n",
              "    </tr>\n",
              "  </tbody>\n",
              "</table>\n",
              "</div>"
            ],
            "text/plain": [
              "              A         B         C         D\n",
              "count  6.000000  6.000000  6.000000  6.000000\n",
              "mean   0.100950 -0.118058 -0.364885  0.604841\n",
              "std    1.074955  1.263145  0.559617  0.740708\n",
              "min   -1.620992 -1.838668 -1.112530 -0.197625\n",
              "25%   -0.274291 -1.061655 -0.659080  0.182067\n",
              "50%    0.127291  0.094198 -0.352402  0.381240\n",
              "75%    0.690434  0.934226 -0.202839  0.913240\n",
              "max    1.502114  1.174630  0.542316  1.857938"
            ]
          },
          "metadata": {
            "tags": []
          },
          "execution_count": 16
        }
      ]
    },
    {
      "metadata": {
        "id": "eFKAhIOeH6eu",
        "colab_type": "code",
        "colab": {},
        "outputId": "4e1859f4-a270-4095-967e-b6339330c51e"
      },
      "cell_type": "code",
      "source": [
        "df.T"
      ],
      "execution_count": 0,
      "outputs": [
        {
          "output_type": "execute_result",
          "data": {
            "text/html": [
              "<div>\n",
              "<style scoped>\n",
              "    .dataframe tbody tr th:only-of-type {\n",
              "        vertical-align: middle;\n",
              "    }\n",
              "\n",
              "    .dataframe tbody tr th {\n",
              "        vertical-align: top;\n",
              "    }\n",
              "\n",
              "    .dataframe thead th {\n",
              "        text-align: right;\n",
              "    }\n",
              "</style>\n",
              "<table border=\"1\" class=\"dataframe\">\n",
              "  <thead>\n",
              "    <tr style=\"text-align: right;\">\n",
              "      <th></th>\n",
              "      <th>2013-01-01 00:00:00</th>\n",
              "      <th>2013-01-02 00:00:00</th>\n",
              "      <th>2013-01-03 00:00:00</th>\n",
              "      <th>2013-01-04 00:00:00</th>\n",
              "      <th>2013-01-05 00:00:00</th>\n",
              "      <th>2013-01-06 00:00:00</th>\n",
              "    </tr>\n",
              "  </thead>\n",
              "  <tbody>\n",
              "    <tr>\n",
              "      <th>A</th>\n",
              "      <td>-1.620992</td>\n",
              "      <td>0.108518</td>\n",
              "      <td>0.146063</td>\n",
              "      <td>1.502114</td>\n",
              "      <td>-0.401894</td>\n",
              "      <td>0.871891</td>\n",
              "    </tr>\n",
              "    <tr>\n",
              "      <th>B</th>\n",
              "      <td>-1.255061</td>\n",
              "      <td>1.174630</td>\n",
              "      <td>0.669834</td>\n",
              "      <td>-0.481438</td>\n",
              "      <td>-1.838668</td>\n",
              "      <td>1.022357</td>\n",
              "    </tr>\n",
              "    <tr>\n",
              "      <th>C</th>\n",
              "      <td>0.542316</td>\n",
              "      <td>-0.730138</td>\n",
              "      <td>-0.258898</td>\n",
              "      <td>-0.445906</td>\n",
              "      <td>-1.112530</td>\n",
              "      <td>-0.184152</td>\n",
              "    </tr>\n",
              "    <tr>\n",
              "      <th>D</th>\n",
              "      <td>1.050026</td>\n",
              "      <td>0.259597</td>\n",
              "      <td>0.502883</td>\n",
              "      <td>1.857938</td>\n",
              "      <td>0.156224</td>\n",
              "      <td>-0.197625</td>\n",
              "    </tr>\n",
              "  </tbody>\n",
              "</table>\n",
              "</div>"
            ],
            "text/plain": [
              "   2013-01-01  2013-01-02  2013-01-03  2013-01-04  2013-01-05  2013-01-06\n",
              "A   -1.620992    0.108518    0.146063    1.502114   -0.401894    0.871891\n",
              "B   -1.255061    1.174630    0.669834   -0.481438   -1.838668    1.022357\n",
              "C    0.542316   -0.730138   -0.258898   -0.445906   -1.112530   -0.184152\n",
              "D    1.050026    0.259597    0.502883    1.857938    0.156224   -0.197625"
            ]
          },
          "metadata": {
            "tags": []
          },
          "execution_count": 17
        }
      ]
    },
    {
      "metadata": {
        "id": "qaoPJ8yJH6e0",
        "colab_type": "code",
        "colab": {},
        "outputId": "68132f2b-a0e4-41e9-8576-aa80ecc3bee1"
      },
      "cell_type": "code",
      "source": [
        "df.sort_index(axis=1,ascending=False)"
      ],
      "execution_count": 0,
      "outputs": [
        {
          "output_type": "execute_result",
          "data": {
            "text/html": [
              "<div>\n",
              "<style scoped>\n",
              "    .dataframe tbody tr th:only-of-type {\n",
              "        vertical-align: middle;\n",
              "    }\n",
              "\n",
              "    .dataframe tbody tr th {\n",
              "        vertical-align: top;\n",
              "    }\n",
              "\n",
              "    .dataframe thead th {\n",
              "        text-align: right;\n",
              "    }\n",
              "</style>\n",
              "<table border=\"1\" class=\"dataframe\">\n",
              "  <thead>\n",
              "    <tr style=\"text-align: right;\">\n",
              "      <th></th>\n",
              "      <th>D</th>\n",
              "      <th>C</th>\n",
              "      <th>B</th>\n",
              "      <th>A</th>\n",
              "    </tr>\n",
              "  </thead>\n",
              "  <tbody>\n",
              "    <tr>\n",
              "      <th>2013-01-01</th>\n",
              "      <td>1.050026</td>\n",
              "      <td>0.542316</td>\n",
              "      <td>-1.255061</td>\n",
              "      <td>-1.620992</td>\n",
              "    </tr>\n",
              "    <tr>\n",
              "      <th>2013-01-02</th>\n",
              "      <td>0.259597</td>\n",
              "      <td>-0.730138</td>\n",
              "      <td>1.174630</td>\n",
              "      <td>0.108518</td>\n",
              "    </tr>\n",
              "    <tr>\n",
              "      <th>2013-01-03</th>\n",
              "      <td>0.502883</td>\n",
              "      <td>-0.258898</td>\n",
              "      <td>0.669834</td>\n",
              "      <td>0.146063</td>\n",
              "    </tr>\n",
              "    <tr>\n",
              "      <th>2013-01-04</th>\n",
              "      <td>1.857938</td>\n",
              "      <td>-0.445906</td>\n",
              "      <td>-0.481438</td>\n",
              "      <td>1.502114</td>\n",
              "    </tr>\n",
              "    <tr>\n",
              "      <th>2013-01-05</th>\n",
              "      <td>0.156224</td>\n",
              "      <td>-1.112530</td>\n",
              "      <td>-1.838668</td>\n",
              "      <td>-0.401894</td>\n",
              "    </tr>\n",
              "    <tr>\n",
              "      <th>2013-01-06</th>\n",
              "      <td>-0.197625</td>\n",
              "      <td>-0.184152</td>\n",
              "      <td>1.022357</td>\n",
              "      <td>0.871891</td>\n",
              "    </tr>\n",
              "  </tbody>\n",
              "</table>\n",
              "</div>"
            ],
            "text/plain": [
              "                   D         C         B         A\n",
              "2013-01-01  1.050026  0.542316 -1.255061 -1.620992\n",
              "2013-01-02  0.259597 -0.730138  1.174630  0.108518\n",
              "2013-01-03  0.502883 -0.258898  0.669834  0.146063\n",
              "2013-01-04  1.857938 -0.445906 -0.481438  1.502114\n",
              "2013-01-05  0.156224 -1.112530 -1.838668 -0.401894\n",
              "2013-01-06 -0.197625 -0.184152  1.022357  0.871891"
            ]
          },
          "metadata": {
            "tags": []
          },
          "execution_count": 18
        }
      ]
    },
    {
      "metadata": {
        "id": "GotlWzUXH6e6",
        "colab_type": "code",
        "colab": {},
        "outputId": "4a213376-3a14-4e89-c28a-9eeef6a5e052"
      },
      "cell_type": "code",
      "source": [
        "df.sort_values(by=['B'])"
      ],
      "execution_count": 0,
      "outputs": [
        {
          "output_type": "execute_result",
          "data": {
            "text/html": [
              "<div>\n",
              "<style scoped>\n",
              "    .dataframe tbody tr th:only-of-type {\n",
              "        vertical-align: middle;\n",
              "    }\n",
              "\n",
              "    .dataframe tbody tr th {\n",
              "        vertical-align: top;\n",
              "    }\n",
              "\n",
              "    .dataframe thead th {\n",
              "        text-align: right;\n",
              "    }\n",
              "</style>\n",
              "<table border=\"1\" class=\"dataframe\">\n",
              "  <thead>\n",
              "    <tr style=\"text-align: right;\">\n",
              "      <th></th>\n",
              "      <th>A</th>\n",
              "      <th>B</th>\n",
              "      <th>C</th>\n",
              "      <th>D</th>\n",
              "    </tr>\n",
              "  </thead>\n",
              "  <tbody>\n",
              "    <tr>\n",
              "      <th>2013-01-05</th>\n",
              "      <td>-0.401894</td>\n",
              "      <td>-1.838668</td>\n",
              "      <td>-1.112530</td>\n",
              "      <td>0.156224</td>\n",
              "    </tr>\n",
              "    <tr>\n",
              "      <th>2013-01-01</th>\n",
              "      <td>-1.620992</td>\n",
              "      <td>-1.255061</td>\n",
              "      <td>0.542316</td>\n",
              "      <td>1.050026</td>\n",
              "    </tr>\n",
              "    <tr>\n",
              "      <th>2013-01-04</th>\n",
              "      <td>1.502114</td>\n",
              "      <td>-0.481438</td>\n",
              "      <td>-0.445906</td>\n",
              "      <td>1.857938</td>\n",
              "    </tr>\n",
              "    <tr>\n",
              "      <th>2013-01-03</th>\n",
              "      <td>0.146063</td>\n",
              "      <td>0.669834</td>\n",
              "      <td>-0.258898</td>\n",
              "      <td>0.502883</td>\n",
              "    </tr>\n",
              "    <tr>\n",
              "      <th>2013-01-06</th>\n",
              "      <td>0.871891</td>\n",
              "      <td>1.022357</td>\n",
              "      <td>-0.184152</td>\n",
              "      <td>-0.197625</td>\n",
              "    </tr>\n",
              "    <tr>\n",
              "      <th>2013-01-02</th>\n",
              "      <td>0.108518</td>\n",
              "      <td>1.174630</td>\n",
              "      <td>-0.730138</td>\n",
              "      <td>0.259597</td>\n",
              "    </tr>\n",
              "  </tbody>\n",
              "</table>\n",
              "</div>"
            ],
            "text/plain": [
              "                   A         B         C         D\n",
              "2013-01-05 -0.401894 -1.838668 -1.112530  0.156224\n",
              "2013-01-01 -1.620992 -1.255061  0.542316  1.050026\n",
              "2013-01-04  1.502114 -0.481438 -0.445906  1.857938\n",
              "2013-01-03  0.146063  0.669834 -0.258898  0.502883\n",
              "2013-01-06  0.871891  1.022357 -0.184152 -0.197625\n",
              "2013-01-02  0.108518  1.174630 -0.730138  0.259597"
            ]
          },
          "metadata": {
            "tags": []
          },
          "execution_count": 20
        }
      ]
    },
    {
      "metadata": {
        "id": "0_mFemL2H6e9",
        "colab_type": "code",
        "colab": {},
        "outputId": "eb5219cd-67aa-45bc-c666-97f1ac4190ae"
      },
      "cell_type": "code",
      "source": [
        "df['A']"
      ],
      "execution_count": 0,
      "outputs": [
        {
          "output_type": "execute_result",
          "data": {
            "text/plain": [
              "2013-01-01   -1.620992\n",
              "2013-01-02    0.108518\n",
              "2013-01-03    0.146063\n",
              "2013-01-04    1.502114\n",
              "2013-01-05   -0.401894\n",
              "2013-01-06    0.871891\n",
              "Freq: D, Name: A, dtype: float64"
            ]
          },
          "metadata": {
            "tags": []
          },
          "execution_count": 22
        }
      ]
    },
    {
      "metadata": {
        "id": "oZKbOrnnH6fC",
        "colab_type": "code",
        "colab": {},
        "outputId": "0cc8f88a-d6ad-4deb-84b5-f257c8cb94dc"
      },
      "cell_type": "code",
      "source": [
        "df[0:3]"
      ],
      "execution_count": 0,
      "outputs": [
        {
          "output_type": "execute_result",
          "data": {
            "text/html": [
              "<div>\n",
              "<style scoped>\n",
              "    .dataframe tbody tr th:only-of-type {\n",
              "        vertical-align: middle;\n",
              "    }\n",
              "\n",
              "    .dataframe tbody tr th {\n",
              "        vertical-align: top;\n",
              "    }\n",
              "\n",
              "    .dataframe thead th {\n",
              "        text-align: right;\n",
              "    }\n",
              "</style>\n",
              "<table border=\"1\" class=\"dataframe\">\n",
              "  <thead>\n",
              "    <tr style=\"text-align: right;\">\n",
              "      <th></th>\n",
              "      <th>A</th>\n",
              "      <th>B</th>\n",
              "      <th>C</th>\n",
              "      <th>D</th>\n",
              "    </tr>\n",
              "  </thead>\n",
              "  <tbody>\n",
              "    <tr>\n",
              "      <th>2013-01-01</th>\n",
              "      <td>-1.620992</td>\n",
              "      <td>-1.255061</td>\n",
              "      <td>0.542316</td>\n",
              "      <td>1.050026</td>\n",
              "    </tr>\n",
              "    <tr>\n",
              "      <th>2013-01-02</th>\n",
              "      <td>0.108518</td>\n",
              "      <td>1.174630</td>\n",
              "      <td>-0.730138</td>\n",
              "      <td>0.259597</td>\n",
              "    </tr>\n",
              "    <tr>\n",
              "      <th>2013-01-03</th>\n",
              "      <td>0.146063</td>\n",
              "      <td>0.669834</td>\n",
              "      <td>-0.258898</td>\n",
              "      <td>0.502883</td>\n",
              "    </tr>\n",
              "  </tbody>\n",
              "</table>\n",
              "</div>"
            ],
            "text/plain": [
              "                   A         B         C         D\n",
              "2013-01-01 -1.620992 -1.255061  0.542316  1.050026\n",
              "2013-01-02  0.108518  1.174630 -0.730138  0.259597\n",
              "2013-01-03  0.146063  0.669834 -0.258898  0.502883"
            ]
          },
          "metadata": {
            "tags": []
          },
          "execution_count": 23
        }
      ]
    },
    {
      "metadata": {
        "id": "Jmk3N9nNH6fG",
        "colab_type": "code",
        "colab": {},
        "outputId": "c250ad4d-3d26-412d-9fbd-ecf9e129c3ee"
      },
      "cell_type": "code",
      "source": [
        "df['20130101':'20130102']"
      ],
      "execution_count": 0,
      "outputs": [
        {
          "output_type": "execute_result",
          "data": {
            "text/html": [
              "<div>\n",
              "<style scoped>\n",
              "    .dataframe tbody tr th:only-of-type {\n",
              "        vertical-align: middle;\n",
              "    }\n",
              "\n",
              "    .dataframe tbody tr th {\n",
              "        vertical-align: top;\n",
              "    }\n",
              "\n",
              "    .dataframe thead th {\n",
              "        text-align: right;\n",
              "    }\n",
              "</style>\n",
              "<table border=\"1\" class=\"dataframe\">\n",
              "  <thead>\n",
              "    <tr style=\"text-align: right;\">\n",
              "      <th></th>\n",
              "      <th>A</th>\n",
              "      <th>B</th>\n",
              "      <th>C</th>\n",
              "      <th>D</th>\n",
              "    </tr>\n",
              "  </thead>\n",
              "  <tbody>\n",
              "    <tr>\n",
              "      <th>2013-01-01</th>\n",
              "      <td>-1.620992</td>\n",
              "      <td>-1.255061</td>\n",
              "      <td>0.542316</td>\n",
              "      <td>1.050026</td>\n",
              "    </tr>\n",
              "    <tr>\n",
              "      <th>2013-01-02</th>\n",
              "      <td>0.108518</td>\n",
              "      <td>1.174630</td>\n",
              "      <td>-0.730138</td>\n",
              "      <td>0.259597</td>\n",
              "    </tr>\n",
              "  </tbody>\n",
              "</table>\n",
              "</div>"
            ],
            "text/plain": [
              "                   A         B         C         D\n",
              "2013-01-01 -1.620992 -1.255061  0.542316  1.050026\n",
              "2013-01-02  0.108518  1.174630 -0.730138  0.259597"
            ]
          },
          "metadata": {
            "tags": []
          },
          "execution_count": 24
        }
      ]
    },
    {
      "metadata": {
        "id": "yCqB8FqoH6fK",
        "colab_type": "code",
        "colab": {},
        "outputId": "823ee942-6a09-4e12-f794-0c79b633402f"
      },
      "cell_type": "code",
      "source": [
        "a = dates[0]\n",
        "df.loc[dates[0]]"
      ],
      "execution_count": 0,
      "outputs": [
        {
          "output_type": "execute_result",
          "data": {
            "text/plain": [
              "A   -1.620992\n",
              "B   -1.255061\n",
              "C    0.542316\n",
              "D    1.050026\n",
              "Name: 2013-01-01 00:00:00, dtype: float64"
            ]
          },
          "metadata": {
            "tags": []
          },
          "execution_count": 26
        }
      ]
    },
    {
      "metadata": {
        "id": "5Etyk_VEH6fO",
        "colab_type": "code",
        "colab": {},
        "outputId": "cfa62a7b-5d11-4043-ae9f-d32f46da9923"
      },
      "cell_type": "code",
      "source": [
        "df.loc[:,['A','B']]"
      ],
      "execution_count": 0,
      "outputs": [
        {
          "output_type": "execute_result",
          "data": {
            "text/html": [
              "<div>\n",
              "<style scoped>\n",
              "    .dataframe tbody tr th:only-of-type {\n",
              "        vertical-align: middle;\n",
              "    }\n",
              "\n",
              "    .dataframe tbody tr th {\n",
              "        vertical-align: top;\n",
              "    }\n",
              "\n",
              "    .dataframe thead th {\n",
              "        text-align: right;\n",
              "    }\n",
              "</style>\n",
              "<table border=\"1\" class=\"dataframe\">\n",
              "  <thead>\n",
              "    <tr style=\"text-align: right;\">\n",
              "      <th></th>\n",
              "      <th>A</th>\n",
              "      <th>B</th>\n",
              "    </tr>\n",
              "  </thead>\n",
              "  <tbody>\n",
              "    <tr>\n",
              "      <th>2013-01-01</th>\n",
              "      <td>-1.620992</td>\n",
              "      <td>-1.255061</td>\n",
              "    </tr>\n",
              "    <tr>\n",
              "      <th>2013-01-02</th>\n",
              "      <td>0.108518</td>\n",
              "      <td>1.174630</td>\n",
              "    </tr>\n",
              "    <tr>\n",
              "      <th>2013-01-03</th>\n",
              "      <td>0.146063</td>\n",
              "      <td>0.669834</td>\n",
              "    </tr>\n",
              "    <tr>\n",
              "      <th>2013-01-04</th>\n",
              "      <td>1.502114</td>\n",
              "      <td>-0.481438</td>\n",
              "    </tr>\n",
              "    <tr>\n",
              "      <th>2013-01-05</th>\n",
              "      <td>-0.401894</td>\n",
              "      <td>-1.838668</td>\n",
              "    </tr>\n",
              "    <tr>\n",
              "      <th>2013-01-06</th>\n",
              "      <td>0.871891</td>\n",
              "      <td>1.022357</td>\n",
              "    </tr>\n",
              "  </tbody>\n",
              "</table>\n",
              "</div>"
            ],
            "text/plain": [
              "                   A         B\n",
              "2013-01-01 -1.620992 -1.255061\n",
              "2013-01-02  0.108518  1.174630\n",
              "2013-01-03  0.146063  0.669834\n",
              "2013-01-04  1.502114 -0.481438\n",
              "2013-01-05 -0.401894 -1.838668\n",
              "2013-01-06  0.871891  1.022357"
            ]
          },
          "metadata": {
            "tags": []
          },
          "execution_count": 27
        }
      ]
    },
    {
      "metadata": {
        "id": "ekv9m-YZH6fS",
        "colab_type": "code",
        "colab": {},
        "outputId": "7d4d4351-dca4-4872-b09d-e45bcd09457d"
      },
      "cell_type": "code",
      "source": [
        "df.loc['20130101':'20130102',['A','B']]"
      ],
      "execution_count": 0,
      "outputs": [
        {
          "output_type": "execute_result",
          "data": {
            "text/html": [
              "<div>\n",
              "<style scoped>\n",
              "    .dataframe tbody tr th:only-of-type {\n",
              "        vertical-align: middle;\n",
              "    }\n",
              "\n",
              "    .dataframe tbody tr th {\n",
              "        vertical-align: top;\n",
              "    }\n",
              "\n",
              "    .dataframe thead th {\n",
              "        text-align: right;\n",
              "    }\n",
              "</style>\n",
              "<table border=\"1\" class=\"dataframe\">\n",
              "  <thead>\n",
              "    <tr style=\"text-align: right;\">\n",
              "      <th></th>\n",
              "      <th>A</th>\n",
              "      <th>B</th>\n",
              "    </tr>\n",
              "  </thead>\n",
              "  <tbody>\n",
              "    <tr>\n",
              "      <th>2013-01-01</th>\n",
              "      <td>-1.620992</td>\n",
              "      <td>-1.255061</td>\n",
              "    </tr>\n",
              "    <tr>\n",
              "      <th>2013-01-02</th>\n",
              "      <td>0.108518</td>\n",
              "      <td>1.174630</td>\n",
              "    </tr>\n",
              "  </tbody>\n",
              "</table>\n",
              "</div>"
            ],
            "text/plain": [
              "                   A         B\n",
              "2013-01-01 -1.620992 -1.255061\n",
              "2013-01-02  0.108518  1.174630"
            ]
          },
          "metadata": {
            "tags": []
          },
          "execution_count": 28
        }
      ]
    },
    {
      "metadata": {
        "id": "E9FjXgAdH6fV",
        "colab_type": "code",
        "colab": {},
        "outputId": "16571741-8f49-4f8c-b9cb-3b8109d600e1"
      },
      "cell_type": "code",
      "source": [
        "df.loc['20130101',['A','B']]"
      ],
      "execution_count": 0,
      "outputs": [
        {
          "output_type": "execute_result",
          "data": {
            "text/plain": [
              "A   -1.620992\n",
              "B   -1.255061\n",
              "Name: 2013-01-01 00:00:00, dtype: float64"
            ]
          },
          "metadata": {
            "tags": []
          },
          "execution_count": 29
        }
      ]
    },
    {
      "metadata": {
        "id": "LkEZA7lnH6fZ",
        "colab_type": "code",
        "colab": {},
        "outputId": "94a2bbef-643b-4d0a-a200-5235d1714996"
      },
      "cell_type": "code",
      "source": [
        "df.loc[dates[0],'A']"
      ],
      "execution_count": 0,
      "outputs": [
        {
          "output_type": "execute_result",
          "data": {
            "text/plain": [
              "-1.6209916987607436"
            ]
          },
          "metadata": {
            "tags": []
          },
          "execution_count": 30
        }
      ]
    },
    {
      "metadata": {
        "id": "k_fahrZ2H6fc",
        "colab_type": "code",
        "colab": {},
        "outputId": "5ba85a06-1716-417d-8df3-e879e5bb6425"
      },
      "cell_type": "code",
      "source": [
        "df.at[dates[0],'A']"
      ],
      "execution_count": 0,
      "outputs": [
        {
          "output_type": "execute_result",
          "data": {
            "text/plain": [
              "-1.6209916987607436"
            ]
          },
          "metadata": {
            "tags": []
          },
          "execution_count": 31
        }
      ]
    },
    {
      "metadata": {
        "id": "Xw3kVTyXH6fg",
        "colab_type": "code",
        "colab": {},
        "outputId": "3f7059d4-458a-42a4-e053-99fb16f5f8b5"
      },
      "cell_type": "code",
      "source": [
        "df.iloc[3]"
      ],
      "execution_count": 0,
      "outputs": [
        {
          "output_type": "execute_result",
          "data": {
            "text/plain": [
              "A    1.502114\n",
              "B   -0.481438\n",
              "C   -0.445906\n",
              "D    1.857938\n",
              "Name: 2013-01-04 00:00:00, dtype: float64"
            ]
          },
          "metadata": {
            "tags": []
          },
          "execution_count": 32
        }
      ]
    },
    {
      "metadata": {
        "id": "2Lu6O3P0H6fo",
        "colab_type": "code",
        "colab": {},
        "outputId": "9f2be321-4fd7-42e6-925f-4b7ed73bc357"
      },
      "cell_type": "code",
      "source": [
        "df.iloc[3:5,0:2]"
      ],
      "execution_count": 0,
      "outputs": [
        {
          "output_type": "execute_result",
          "data": {
            "text/html": [
              "<div>\n",
              "<style scoped>\n",
              "    .dataframe tbody tr th:only-of-type {\n",
              "        vertical-align: middle;\n",
              "    }\n",
              "\n",
              "    .dataframe tbody tr th {\n",
              "        vertical-align: top;\n",
              "    }\n",
              "\n",
              "    .dataframe thead th {\n",
              "        text-align: right;\n",
              "    }\n",
              "</style>\n",
              "<table border=\"1\" class=\"dataframe\">\n",
              "  <thead>\n",
              "    <tr style=\"text-align: right;\">\n",
              "      <th></th>\n",
              "      <th>A</th>\n",
              "      <th>B</th>\n",
              "    </tr>\n",
              "  </thead>\n",
              "  <tbody>\n",
              "    <tr>\n",
              "      <th>2013-01-04</th>\n",
              "      <td>1.502114</td>\n",
              "      <td>-0.481438</td>\n",
              "    </tr>\n",
              "    <tr>\n",
              "      <th>2013-01-05</th>\n",
              "      <td>-0.401894</td>\n",
              "      <td>-1.838668</td>\n",
              "    </tr>\n",
              "  </tbody>\n",
              "</table>\n",
              "</div>"
            ],
            "text/plain": [
              "                   A         B\n",
              "2013-01-04  1.502114 -0.481438\n",
              "2013-01-05 -0.401894 -1.838668"
            ]
          },
          "metadata": {
            "tags": []
          },
          "execution_count": 33
        }
      ]
    },
    {
      "metadata": {
        "id": "SmFlsqpvH6fs",
        "colab_type": "code",
        "colab": {},
        "outputId": "3f9b5e22-bb44-467f-c29b-6a84381dba18"
      },
      "cell_type": "code",
      "source": [
        "df.iloc[[1,2,4],[0,2]]"
      ],
      "execution_count": 0,
      "outputs": [
        {
          "output_type": "execute_result",
          "data": {
            "text/html": [
              "<div>\n",
              "<style scoped>\n",
              "    .dataframe tbody tr th:only-of-type {\n",
              "        vertical-align: middle;\n",
              "    }\n",
              "\n",
              "    .dataframe tbody tr th {\n",
              "        vertical-align: top;\n",
              "    }\n",
              "\n",
              "    .dataframe thead th {\n",
              "        text-align: right;\n",
              "    }\n",
              "</style>\n",
              "<table border=\"1\" class=\"dataframe\">\n",
              "  <thead>\n",
              "    <tr style=\"text-align: right;\">\n",
              "      <th></th>\n",
              "      <th>A</th>\n",
              "      <th>C</th>\n",
              "    </tr>\n",
              "  </thead>\n",
              "  <tbody>\n",
              "    <tr>\n",
              "      <th>2013-01-02</th>\n",
              "      <td>0.108518</td>\n",
              "      <td>-0.730138</td>\n",
              "    </tr>\n",
              "    <tr>\n",
              "      <th>2013-01-03</th>\n",
              "      <td>0.146063</td>\n",
              "      <td>-0.258898</td>\n",
              "    </tr>\n",
              "    <tr>\n",
              "      <th>2013-01-05</th>\n",
              "      <td>-0.401894</td>\n",
              "      <td>-1.112530</td>\n",
              "    </tr>\n",
              "  </tbody>\n",
              "</table>\n",
              "</div>"
            ],
            "text/plain": [
              "                   A         C\n",
              "2013-01-02  0.108518 -0.730138\n",
              "2013-01-03  0.146063 -0.258898\n",
              "2013-01-05 -0.401894 -1.112530"
            ]
          },
          "metadata": {
            "tags": []
          },
          "execution_count": 34
        }
      ]
    },
    {
      "metadata": {
        "id": "L8xBXpa4H6fu",
        "colab_type": "code",
        "colab": {},
        "outputId": "83f69bd4-017f-4cff-9d3f-d2d5f7a0080a"
      },
      "cell_type": "code",
      "source": [
        "df.iloc[1:3,:]"
      ],
      "execution_count": 0,
      "outputs": [
        {
          "output_type": "execute_result",
          "data": {
            "text/html": [
              "<div>\n",
              "<style scoped>\n",
              "    .dataframe tbody tr th:only-of-type {\n",
              "        vertical-align: middle;\n",
              "    }\n",
              "\n",
              "    .dataframe tbody tr th {\n",
              "        vertical-align: top;\n",
              "    }\n",
              "\n",
              "    .dataframe thead th {\n",
              "        text-align: right;\n",
              "    }\n",
              "</style>\n",
              "<table border=\"1\" class=\"dataframe\">\n",
              "  <thead>\n",
              "    <tr style=\"text-align: right;\">\n",
              "      <th></th>\n",
              "      <th>A</th>\n",
              "      <th>B</th>\n",
              "      <th>C</th>\n",
              "      <th>D</th>\n",
              "    </tr>\n",
              "  </thead>\n",
              "  <tbody>\n",
              "    <tr>\n",
              "      <th>2013-01-02</th>\n",
              "      <td>0.108518</td>\n",
              "      <td>1.174630</td>\n",
              "      <td>-0.730138</td>\n",
              "      <td>0.259597</td>\n",
              "    </tr>\n",
              "    <tr>\n",
              "      <th>2013-01-03</th>\n",
              "      <td>0.146063</td>\n",
              "      <td>0.669834</td>\n",
              "      <td>-0.258898</td>\n",
              "      <td>0.502883</td>\n",
              "    </tr>\n",
              "  </tbody>\n",
              "</table>\n",
              "</div>"
            ],
            "text/plain": [
              "                   A         B         C         D\n",
              "2013-01-02  0.108518  1.174630 -0.730138  0.259597\n",
              "2013-01-03  0.146063  0.669834 -0.258898  0.502883"
            ]
          },
          "metadata": {
            "tags": []
          },
          "execution_count": 35
        }
      ]
    },
    {
      "metadata": {
        "id": "CBnGQBa-H6fy",
        "colab_type": "code",
        "colab": {},
        "outputId": "85e309ed-d723-4b34-c09c-dc038895de92"
      },
      "cell_type": "code",
      "source": [
        "df.iloc[:,1:3]"
      ],
      "execution_count": 0,
      "outputs": [
        {
          "output_type": "execute_result",
          "data": {
            "text/html": [
              "<div>\n",
              "<style scoped>\n",
              "    .dataframe tbody tr th:only-of-type {\n",
              "        vertical-align: middle;\n",
              "    }\n",
              "\n",
              "    .dataframe tbody tr th {\n",
              "        vertical-align: top;\n",
              "    }\n",
              "\n",
              "    .dataframe thead th {\n",
              "        text-align: right;\n",
              "    }\n",
              "</style>\n",
              "<table border=\"1\" class=\"dataframe\">\n",
              "  <thead>\n",
              "    <tr style=\"text-align: right;\">\n",
              "      <th></th>\n",
              "      <th>B</th>\n",
              "      <th>C</th>\n",
              "    </tr>\n",
              "  </thead>\n",
              "  <tbody>\n",
              "    <tr>\n",
              "      <th>2013-01-01</th>\n",
              "      <td>-1.255061</td>\n",
              "      <td>0.542316</td>\n",
              "    </tr>\n",
              "    <tr>\n",
              "      <th>2013-01-02</th>\n",
              "      <td>1.174630</td>\n",
              "      <td>-0.730138</td>\n",
              "    </tr>\n",
              "    <tr>\n",
              "      <th>2013-01-03</th>\n",
              "      <td>0.669834</td>\n",
              "      <td>-0.258898</td>\n",
              "    </tr>\n",
              "    <tr>\n",
              "      <th>2013-01-04</th>\n",
              "      <td>-0.481438</td>\n",
              "      <td>-0.445906</td>\n",
              "    </tr>\n",
              "    <tr>\n",
              "      <th>2013-01-05</th>\n",
              "      <td>-1.838668</td>\n",
              "      <td>-1.112530</td>\n",
              "    </tr>\n",
              "    <tr>\n",
              "      <th>2013-01-06</th>\n",
              "      <td>1.022357</td>\n",
              "      <td>-0.184152</td>\n",
              "    </tr>\n",
              "  </tbody>\n",
              "</table>\n",
              "</div>"
            ],
            "text/plain": [
              "                   B         C\n",
              "2013-01-01 -1.255061  0.542316\n",
              "2013-01-02  1.174630 -0.730138\n",
              "2013-01-03  0.669834 -0.258898\n",
              "2013-01-04 -0.481438 -0.445906\n",
              "2013-01-05 -1.838668 -1.112530\n",
              "2013-01-06  1.022357 -0.184152"
            ]
          },
          "metadata": {
            "tags": []
          },
          "execution_count": 36
        }
      ]
    },
    {
      "metadata": {
        "id": "cyFDXnDcH6f3",
        "colab_type": "code",
        "colab": {},
        "outputId": "f4227876-a4b3-4199-a77c-68c4a0ad56c7"
      },
      "cell_type": "code",
      "source": [
        "df.iloc[1,1]"
      ],
      "execution_count": 0,
      "outputs": [
        {
          "output_type": "execute_result",
          "data": {
            "text/plain": [
              "1.1746295164248428"
            ]
          },
          "metadata": {
            "tags": []
          },
          "execution_count": 37
        }
      ]
    },
    {
      "metadata": {
        "id": "SDqFb8ABH6f6",
        "colab_type": "code",
        "colab": {},
        "outputId": "02c79006-5e8c-4f1a-f6ef-bb72957e4f11"
      },
      "cell_type": "code",
      "source": [
        "df.iat[1,1]"
      ],
      "execution_count": 0,
      "outputs": [
        {
          "output_type": "execute_result",
          "data": {
            "text/plain": [
              "1.1746295164248428"
            ]
          },
          "metadata": {
            "tags": []
          },
          "execution_count": 39
        }
      ]
    },
    {
      "metadata": {
        "id": "WOrWKzIuH6f-",
        "colab_type": "code",
        "colab": {},
        "outputId": "532d1b14-dd1b-48c9-f9b5-9d119125b14d"
      },
      "cell_type": "code",
      "source": [
        "df[df.A>0]"
      ],
      "execution_count": 0,
      "outputs": [
        {
          "output_type": "execute_result",
          "data": {
            "text/html": [
              "<div>\n",
              "<style scoped>\n",
              "    .dataframe tbody tr th:only-of-type {\n",
              "        vertical-align: middle;\n",
              "    }\n",
              "\n",
              "    .dataframe tbody tr th {\n",
              "        vertical-align: top;\n",
              "    }\n",
              "\n",
              "    .dataframe thead th {\n",
              "        text-align: right;\n",
              "    }\n",
              "</style>\n",
              "<table border=\"1\" class=\"dataframe\">\n",
              "  <thead>\n",
              "    <tr style=\"text-align: right;\">\n",
              "      <th></th>\n",
              "      <th>A</th>\n",
              "      <th>B</th>\n",
              "      <th>C</th>\n",
              "      <th>D</th>\n",
              "    </tr>\n",
              "  </thead>\n",
              "  <tbody>\n",
              "    <tr>\n",
              "      <th>2013-01-02</th>\n",
              "      <td>0.108518</td>\n",
              "      <td>1.174630</td>\n",
              "      <td>-0.730138</td>\n",
              "      <td>0.259597</td>\n",
              "    </tr>\n",
              "    <tr>\n",
              "      <th>2013-01-03</th>\n",
              "      <td>0.146063</td>\n",
              "      <td>0.669834</td>\n",
              "      <td>-0.258898</td>\n",
              "      <td>0.502883</td>\n",
              "    </tr>\n",
              "    <tr>\n",
              "      <th>2013-01-04</th>\n",
              "      <td>1.502114</td>\n",
              "      <td>-0.481438</td>\n",
              "      <td>-0.445906</td>\n",
              "      <td>1.857938</td>\n",
              "    </tr>\n",
              "    <tr>\n",
              "      <th>2013-01-06</th>\n",
              "      <td>0.871891</td>\n",
              "      <td>1.022357</td>\n",
              "      <td>-0.184152</td>\n",
              "      <td>-0.197625</td>\n",
              "    </tr>\n",
              "  </tbody>\n",
              "</table>\n",
              "</div>"
            ],
            "text/plain": [
              "                   A         B         C         D\n",
              "2013-01-02  0.108518  1.174630 -0.730138  0.259597\n",
              "2013-01-03  0.146063  0.669834 -0.258898  0.502883\n",
              "2013-01-04  1.502114 -0.481438 -0.445906  1.857938\n",
              "2013-01-06  0.871891  1.022357 -0.184152 -0.197625"
            ]
          },
          "metadata": {
            "tags": []
          },
          "execution_count": 40
        }
      ]
    },
    {
      "metadata": {
        "id": "4h9ns8nDH6gB",
        "colab_type": "code",
        "colab": {},
        "outputId": "79416561-7a35-4b31-e109-1804e9a46623"
      },
      "cell_type": "code",
      "source": [
        "df[df>0]"
      ],
      "execution_count": 0,
      "outputs": [
        {
          "output_type": "execute_result",
          "data": {
            "text/html": [
              "<div>\n",
              "<style scoped>\n",
              "    .dataframe tbody tr th:only-of-type {\n",
              "        vertical-align: middle;\n",
              "    }\n",
              "\n",
              "    .dataframe tbody tr th {\n",
              "        vertical-align: top;\n",
              "    }\n",
              "\n",
              "    .dataframe thead th {\n",
              "        text-align: right;\n",
              "    }\n",
              "</style>\n",
              "<table border=\"1\" class=\"dataframe\">\n",
              "  <thead>\n",
              "    <tr style=\"text-align: right;\">\n",
              "      <th></th>\n",
              "      <th>A</th>\n",
              "      <th>B</th>\n",
              "      <th>C</th>\n",
              "      <th>D</th>\n",
              "    </tr>\n",
              "  </thead>\n",
              "  <tbody>\n",
              "    <tr>\n",
              "      <th>2013-01-01</th>\n",
              "      <td>NaN</td>\n",
              "      <td>NaN</td>\n",
              "      <td>0.542316</td>\n",
              "      <td>1.050026</td>\n",
              "    </tr>\n",
              "    <tr>\n",
              "      <th>2013-01-02</th>\n",
              "      <td>0.108518</td>\n",
              "      <td>1.174630</td>\n",
              "      <td>NaN</td>\n",
              "      <td>0.259597</td>\n",
              "    </tr>\n",
              "    <tr>\n",
              "      <th>2013-01-03</th>\n",
              "      <td>0.146063</td>\n",
              "      <td>0.669834</td>\n",
              "      <td>NaN</td>\n",
              "      <td>0.502883</td>\n",
              "    </tr>\n",
              "    <tr>\n",
              "      <th>2013-01-04</th>\n",
              "      <td>1.502114</td>\n",
              "      <td>NaN</td>\n",
              "      <td>NaN</td>\n",
              "      <td>1.857938</td>\n",
              "    </tr>\n",
              "    <tr>\n",
              "      <th>2013-01-05</th>\n",
              "      <td>NaN</td>\n",
              "      <td>NaN</td>\n",
              "      <td>NaN</td>\n",
              "      <td>0.156224</td>\n",
              "    </tr>\n",
              "    <tr>\n",
              "      <th>2013-01-06</th>\n",
              "      <td>0.871891</td>\n",
              "      <td>1.022357</td>\n",
              "      <td>NaN</td>\n",
              "      <td>NaN</td>\n",
              "    </tr>\n",
              "  </tbody>\n",
              "</table>\n",
              "</div>"
            ],
            "text/plain": [
              "                   A         B         C         D\n",
              "2013-01-01       NaN       NaN  0.542316  1.050026\n",
              "2013-01-02  0.108518  1.174630       NaN  0.259597\n",
              "2013-01-03  0.146063  0.669834       NaN  0.502883\n",
              "2013-01-04  1.502114       NaN       NaN  1.857938\n",
              "2013-01-05       NaN       NaN       NaN  0.156224\n",
              "2013-01-06  0.871891  1.022357       NaN       NaN"
            ]
          },
          "metadata": {
            "tags": []
          },
          "execution_count": 41
        }
      ]
    },
    {
      "metadata": {
        "id": "To0hktXQH6gE",
        "colab_type": "code",
        "colab": {},
        "outputId": "e57d1a43-1be0-4845-c2e1-314eceb4a5eb"
      },
      "cell_type": "code",
      "source": [
        "df3 = df.copy()\n",
        "df3['E'] = ['one','one','two','three','four','five']\n",
        "df3"
      ],
      "execution_count": 0,
      "outputs": [
        {
          "output_type": "execute_result",
          "data": {
            "text/html": [
              "<div>\n",
              "<style scoped>\n",
              "    .dataframe tbody tr th:only-of-type {\n",
              "        vertical-align: middle;\n",
              "    }\n",
              "\n",
              "    .dataframe tbody tr th {\n",
              "        vertical-align: top;\n",
              "    }\n",
              "\n",
              "    .dataframe thead th {\n",
              "        text-align: right;\n",
              "    }\n",
              "</style>\n",
              "<table border=\"1\" class=\"dataframe\">\n",
              "  <thead>\n",
              "    <tr style=\"text-align: right;\">\n",
              "      <th></th>\n",
              "      <th>A</th>\n",
              "      <th>B</th>\n",
              "      <th>C</th>\n",
              "      <th>D</th>\n",
              "      <th>E</th>\n",
              "    </tr>\n",
              "  </thead>\n",
              "  <tbody>\n",
              "    <tr>\n",
              "      <th>2013-01-01</th>\n",
              "      <td>-1.620992</td>\n",
              "      <td>-1.255061</td>\n",
              "      <td>0.542316</td>\n",
              "      <td>1.050026</td>\n",
              "      <td>one</td>\n",
              "    </tr>\n",
              "    <tr>\n",
              "      <th>2013-01-02</th>\n",
              "      <td>0.108518</td>\n",
              "      <td>1.174630</td>\n",
              "      <td>-0.730138</td>\n",
              "      <td>0.259597</td>\n",
              "      <td>one</td>\n",
              "    </tr>\n",
              "    <tr>\n",
              "      <th>2013-01-03</th>\n",
              "      <td>0.146063</td>\n",
              "      <td>0.669834</td>\n",
              "      <td>-0.258898</td>\n",
              "      <td>0.502883</td>\n",
              "      <td>two</td>\n",
              "    </tr>\n",
              "    <tr>\n",
              "      <th>2013-01-04</th>\n",
              "      <td>1.502114</td>\n",
              "      <td>-0.481438</td>\n",
              "      <td>-0.445906</td>\n",
              "      <td>1.857938</td>\n",
              "      <td>three</td>\n",
              "    </tr>\n",
              "    <tr>\n",
              "      <th>2013-01-05</th>\n",
              "      <td>-0.401894</td>\n",
              "      <td>-1.838668</td>\n",
              "      <td>-1.112530</td>\n",
              "      <td>0.156224</td>\n",
              "      <td>four</td>\n",
              "    </tr>\n",
              "    <tr>\n",
              "      <th>2013-01-06</th>\n",
              "      <td>0.871891</td>\n",
              "      <td>1.022357</td>\n",
              "      <td>-0.184152</td>\n",
              "      <td>-0.197625</td>\n",
              "      <td>five</td>\n",
              "    </tr>\n",
              "  </tbody>\n",
              "</table>\n",
              "</div>"
            ],
            "text/plain": [
              "                   A         B         C         D      E\n",
              "2013-01-01 -1.620992 -1.255061  0.542316  1.050026    one\n",
              "2013-01-02  0.108518  1.174630 -0.730138  0.259597    one\n",
              "2013-01-03  0.146063  0.669834 -0.258898  0.502883    two\n",
              "2013-01-04  1.502114 -0.481438 -0.445906  1.857938  three\n",
              "2013-01-05 -0.401894 -1.838668 -1.112530  0.156224   four\n",
              "2013-01-06  0.871891  1.022357 -0.184152 -0.197625   five"
            ]
          },
          "metadata": {
            "tags": []
          },
          "execution_count": 43
        }
      ]
    },
    {
      "metadata": {
        "id": "brnHiPRhH6gH",
        "colab_type": "code",
        "colab": {},
        "outputId": "fe26bf91-20d4-4101-c084-e69bdfcd61a7"
      },
      "cell_type": "code",
      "source": [
        "df3[df3['E'].isin(['two','four'])]"
      ],
      "execution_count": 0,
      "outputs": [
        {
          "output_type": "execute_result",
          "data": {
            "text/html": [
              "<div>\n",
              "<style scoped>\n",
              "    .dataframe tbody tr th:only-of-type {\n",
              "        vertical-align: middle;\n",
              "    }\n",
              "\n",
              "    .dataframe tbody tr th {\n",
              "        vertical-align: top;\n",
              "    }\n",
              "\n",
              "    .dataframe thead th {\n",
              "        text-align: right;\n",
              "    }\n",
              "</style>\n",
              "<table border=\"1\" class=\"dataframe\">\n",
              "  <thead>\n",
              "    <tr style=\"text-align: right;\">\n",
              "      <th></th>\n",
              "      <th>A</th>\n",
              "      <th>B</th>\n",
              "      <th>C</th>\n",
              "      <th>D</th>\n",
              "      <th>E</th>\n",
              "    </tr>\n",
              "  </thead>\n",
              "  <tbody>\n",
              "    <tr>\n",
              "      <th>2013-01-03</th>\n",
              "      <td>0.146063</td>\n",
              "      <td>0.669834</td>\n",
              "      <td>-0.258898</td>\n",
              "      <td>0.502883</td>\n",
              "      <td>two</td>\n",
              "    </tr>\n",
              "    <tr>\n",
              "      <th>2013-01-05</th>\n",
              "      <td>-0.401894</td>\n",
              "      <td>-1.838668</td>\n",
              "      <td>-1.112530</td>\n",
              "      <td>0.156224</td>\n",
              "      <td>four</td>\n",
              "    </tr>\n",
              "  </tbody>\n",
              "</table>\n",
              "</div>"
            ],
            "text/plain": [
              "                   A         B         C         D     E\n",
              "2013-01-03  0.146063  0.669834 -0.258898  0.502883   two\n",
              "2013-01-05 -0.401894 -1.838668 -1.112530  0.156224  four"
            ]
          },
          "metadata": {
            "tags": []
          },
          "execution_count": 44
        }
      ]
    },
    {
      "metadata": {
        "id": "q9Z8UDWLH6gL",
        "colab_type": "code",
        "colab": {},
        "outputId": "e2140626-89a3-41aa-8304-69458dd3b130"
      },
      "cell_type": "code",
      "source": [
        "s1 = pd.Series([1,2,3,4,5,6],index = pd.date_range('20130102',periods=6))\n",
        "s1"
      ],
      "execution_count": 0,
      "outputs": [
        {
          "output_type": "execute_result",
          "data": {
            "text/plain": [
              "2013-01-02    1\n",
              "2013-01-03    2\n",
              "2013-01-04    3\n",
              "2013-01-05    4\n",
              "2013-01-06    5\n",
              "2013-01-07    6\n",
              "Freq: D, dtype: int64"
            ]
          },
          "metadata": {
            "tags": []
          },
          "execution_count": 5
        }
      ]
    },
    {
      "metadata": {
        "id": "M-QTk76gH6gU",
        "colab_type": "code",
        "colab": {},
        "outputId": "e19184a8-2d1f-4a69-b187-a4083756df26"
      },
      "cell_type": "code",
      "source": [
        "df['F'] = s1\n",
        "df"
      ],
      "execution_count": 0,
      "outputs": [
        {
          "output_type": "execute_result",
          "data": {
            "text/html": [
              "<div>\n",
              "<style scoped>\n",
              "    .dataframe tbody tr th:only-of-type {\n",
              "        vertical-align: middle;\n",
              "    }\n",
              "\n",
              "    .dataframe tbody tr th {\n",
              "        vertical-align: top;\n",
              "    }\n",
              "\n",
              "    .dataframe thead th {\n",
              "        text-align: right;\n",
              "    }\n",
              "</style>\n",
              "<table border=\"1\" class=\"dataframe\">\n",
              "  <thead>\n",
              "    <tr style=\"text-align: right;\">\n",
              "      <th></th>\n",
              "      <th>A</th>\n",
              "      <th>B</th>\n",
              "      <th>C</th>\n",
              "      <th>D</th>\n",
              "      <th>F</th>\n",
              "    </tr>\n",
              "  </thead>\n",
              "  <tbody>\n",
              "    <tr>\n",
              "      <th>2013-01-01</th>\n",
              "      <td>-1.321089</td>\n",
              "      <td>0.238801</td>\n",
              "      <td>0.850090</td>\n",
              "      <td>0.833603</td>\n",
              "      <td>NaN</td>\n",
              "    </tr>\n",
              "    <tr>\n",
              "      <th>2013-01-02</th>\n",
              "      <td>-1.783051</td>\n",
              "      <td>2.453829</td>\n",
              "      <td>0.203101</td>\n",
              "      <td>-0.099306</td>\n",
              "      <td>1.0</td>\n",
              "    </tr>\n",
              "    <tr>\n",
              "      <th>2013-01-03</th>\n",
              "      <td>0.416889</td>\n",
              "      <td>0.381790</td>\n",
              "      <td>1.169320</td>\n",
              "      <td>1.589493</td>\n",
              "      <td>2.0</td>\n",
              "    </tr>\n",
              "    <tr>\n",
              "      <th>2013-01-04</th>\n",
              "      <td>-0.309132</td>\n",
              "      <td>1.574709</td>\n",
              "      <td>0.505666</td>\n",
              "      <td>1.355547</td>\n",
              "      <td>3.0</td>\n",
              "    </tr>\n",
              "    <tr>\n",
              "      <th>2013-01-05</th>\n",
              "      <td>-0.010029</td>\n",
              "      <td>-1.810629</td>\n",
              "      <td>0.779344</td>\n",
              "      <td>0.337867</td>\n",
              "      <td>4.0</td>\n",
              "    </tr>\n",
              "    <tr>\n",
              "      <th>2013-01-06</th>\n",
              "      <td>-0.695331</td>\n",
              "      <td>-0.208925</td>\n",
              "      <td>0.585195</td>\n",
              "      <td>0.963289</td>\n",
              "      <td>5.0</td>\n",
              "    </tr>\n",
              "  </tbody>\n",
              "</table>\n",
              "</div>"
            ],
            "text/plain": [
              "                   A         B         C         D    F\n",
              "2013-01-01 -1.321089  0.238801  0.850090  0.833603  NaN\n",
              "2013-01-02 -1.783051  2.453829  0.203101 -0.099306  1.0\n",
              "2013-01-03  0.416889  0.381790  1.169320  1.589493  2.0\n",
              "2013-01-04 -0.309132  1.574709  0.505666  1.355547  3.0\n",
              "2013-01-05 -0.010029 -1.810629  0.779344  0.337867  4.0\n",
              "2013-01-06 -0.695331 -0.208925  0.585195  0.963289  5.0"
            ]
          },
          "metadata": {
            "tags": []
          },
          "execution_count": 6
        }
      ]
    },
    {
      "metadata": {
        "id": "XWlHmxipH6gY",
        "colab_type": "code",
        "colab": {},
        "outputId": "9472fe7b-c038-48cc-d580-312425821936"
      },
      "cell_type": "code",
      "source": [
        "df.at[dates[0],'A'] = 0\n",
        "df.iat[0,1]=0\n",
        "df"
      ],
      "execution_count": 0,
      "outputs": [
        {
          "output_type": "execute_result",
          "data": {
            "text/html": [
              "<div>\n",
              "<style scoped>\n",
              "    .dataframe tbody tr th:only-of-type {\n",
              "        vertical-align: middle;\n",
              "    }\n",
              "\n",
              "    .dataframe tbody tr th {\n",
              "        vertical-align: top;\n",
              "    }\n",
              "\n",
              "    .dataframe thead th {\n",
              "        text-align: right;\n",
              "    }\n",
              "</style>\n",
              "<table border=\"1\" class=\"dataframe\">\n",
              "  <thead>\n",
              "    <tr style=\"text-align: right;\">\n",
              "      <th></th>\n",
              "      <th>A</th>\n",
              "      <th>B</th>\n",
              "      <th>C</th>\n",
              "      <th>D</th>\n",
              "      <th>F</th>\n",
              "    </tr>\n",
              "  </thead>\n",
              "  <tbody>\n",
              "    <tr>\n",
              "      <th>2013-01-01</th>\n",
              "      <td>0.000000</td>\n",
              "      <td>0.000000</td>\n",
              "      <td>0.542316</td>\n",
              "      <td>1.050026</td>\n",
              "      <td>NaN</td>\n",
              "    </tr>\n",
              "    <tr>\n",
              "      <th>2013-01-02</th>\n",
              "      <td>0.108518</td>\n",
              "      <td>1.174630</td>\n",
              "      <td>-0.730138</td>\n",
              "      <td>0.259597</td>\n",
              "      <td>1.0</td>\n",
              "    </tr>\n",
              "    <tr>\n",
              "      <th>2013-01-03</th>\n",
              "      <td>0.146063</td>\n",
              "      <td>0.669834</td>\n",
              "      <td>-0.258898</td>\n",
              "      <td>0.502883</td>\n",
              "      <td>2.0</td>\n",
              "    </tr>\n",
              "    <tr>\n",
              "      <th>2013-01-04</th>\n",
              "      <td>1.502114</td>\n",
              "      <td>-0.481438</td>\n",
              "      <td>-0.445906</td>\n",
              "      <td>1.857938</td>\n",
              "      <td>3.0</td>\n",
              "    </tr>\n",
              "    <tr>\n",
              "      <th>2013-01-05</th>\n",
              "      <td>-0.401894</td>\n",
              "      <td>-1.838668</td>\n",
              "      <td>-1.112530</td>\n",
              "      <td>0.156224</td>\n",
              "      <td>4.0</td>\n",
              "    </tr>\n",
              "    <tr>\n",
              "      <th>2013-01-06</th>\n",
              "      <td>0.871891</td>\n",
              "      <td>1.022357</td>\n",
              "      <td>-0.184152</td>\n",
              "      <td>-0.197625</td>\n",
              "      <td>5.0</td>\n",
              "    </tr>\n",
              "  </tbody>\n",
              "</table>\n",
              "</div>"
            ],
            "text/plain": [
              "                   A         B         C         D    F\n",
              "2013-01-01  0.000000  0.000000  0.542316  1.050026  NaN\n",
              "2013-01-02  0.108518  1.174630 -0.730138  0.259597  1.0\n",
              "2013-01-03  0.146063  0.669834 -0.258898  0.502883  2.0\n",
              "2013-01-04  1.502114 -0.481438 -0.445906  1.857938  3.0\n",
              "2013-01-05 -0.401894 -1.838668 -1.112530  0.156224  4.0\n",
              "2013-01-06  0.871891  1.022357 -0.184152 -0.197625  5.0"
            ]
          },
          "metadata": {
            "tags": []
          },
          "execution_count": 48
        }
      ]
    },
    {
      "metadata": {
        "id": "RYNhz-pPH6gf",
        "colab_type": "code",
        "colab": {},
        "outputId": "1213f4f3-3c78-40a0-e64c-41f53c444b1c"
      },
      "cell_type": "code",
      "source": [
        "df.loc[:,'D'] = np.array([5]*len(df))\n",
        "df"
      ],
      "execution_count": 0,
      "outputs": [
        {
          "output_type": "execute_result",
          "data": {
            "text/html": [
              "<div>\n",
              "<style scoped>\n",
              "    .dataframe tbody tr th:only-of-type {\n",
              "        vertical-align: middle;\n",
              "    }\n",
              "\n",
              "    .dataframe tbody tr th {\n",
              "        vertical-align: top;\n",
              "    }\n",
              "\n",
              "    .dataframe thead th {\n",
              "        text-align: right;\n",
              "    }\n",
              "</style>\n",
              "<table border=\"1\" class=\"dataframe\">\n",
              "  <thead>\n",
              "    <tr style=\"text-align: right;\">\n",
              "      <th></th>\n",
              "      <th>A</th>\n",
              "      <th>B</th>\n",
              "      <th>C</th>\n",
              "      <th>D</th>\n",
              "      <th>F</th>\n",
              "    </tr>\n",
              "  </thead>\n",
              "  <tbody>\n",
              "    <tr>\n",
              "      <th>2013-01-01</th>\n",
              "      <td>0.000000</td>\n",
              "      <td>0.000000</td>\n",
              "      <td>0.542316</td>\n",
              "      <td>5</td>\n",
              "      <td>NaN</td>\n",
              "    </tr>\n",
              "    <tr>\n",
              "      <th>2013-01-02</th>\n",
              "      <td>0.108518</td>\n",
              "      <td>1.174630</td>\n",
              "      <td>-0.730138</td>\n",
              "      <td>5</td>\n",
              "      <td>1.0</td>\n",
              "    </tr>\n",
              "    <tr>\n",
              "      <th>2013-01-03</th>\n",
              "      <td>0.146063</td>\n",
              "      <td>0.669834</td>\n",
              "      <td>-0.258898</td>\n",
              "      <td>5</td>\n",
              "      <td>2.0</td>\n",
              "    </tr>\n",
              "    <tr>\n",
              "      <th>2013-01-04</th>\n",
              "      <td>1.502114</td>\n",
              "      <td>-0.481438</td>\n",
              "      <td>-0.445906</td>\n",
              "      <td>5</td>\n",
              "      <td>3.0</td>\n",
              "    </tr>\n",
              "    <tr>\n",
              "      <th>2013-01-05</th>\n",
              "      <td>-0.401894</td>\n",
              "      <td>-1.838668</td>\n",
              "      <td>-1.112530</td>\n",
              "      <td>5</td>\n",
              "      <td>4.0</td>\n",
              "    </tr>\n",
              "    <tr>\n",
              "      <th>2013-01-06</th>\n",
              "      <td>0.871891</td>\n",
              "      <td>1.022357</td>\n",
              "      <td>-0.184152</td>\n",
              "      <td>5</td>\n",
              "      <td>5.0</td>\n",
              "    </tr>\n",
              "  </tbody>\n",
              "</table>\n",
              "</div>"
            ],
            "text/plain": [
              "                   A         B         C  D    F\n",
              "2013-01-01  0.000000  0.000000  0.542316  5  NaN\n",
              "2013-01-02  0.108518  1.174630 -0.730138  5  1.0\n",
              "2013-01-03  0.146063  0.669834 -0.258898  5  2.0\n",
              "2013-01-04  1.502114 -0.481438 -0.445906  5  3.0\n",
              "2013-01-05 -0.401894 -1.838668 -1.112530  5  4.0\n",
              "2013-01-06  0.871891  1.022357 -0.184152  5  5.0"
            ]
          },
          "metadata": {
            "tags": []
          },
          "execution_count": 49
        }
      ]
    },
    {
      "metadata": {
        "id": "f1gZJi_pH6gq",
        "colab_type": "code",
        "colab": {},
        "outputId": "d75d7641-67e9-492a-96ad-9081346d0402"
      },
      "cell_type": "code",
      "source": [
        "df2 = df.copy()\n",
        "df2[df2>0]=-df2\n",
        "df2"
      ],
      "execution_count": 0,
      "outputs": [
        {
          "output_type": "execute_result",
          "data": {
            "text/html": [
              "<div>\n",
              "<style scoped>\n",
              "    .dataframe tbody tr th:only-of-type {\n",
              "        vertical-align: middle;\n",
              "    }\n",
              "\n",
              "    .dataframe tbody tr th {\n",
              "        vertical-align: top;\n",
              "    }\n",
              "\n",
              "    .dataframe thead th {\n",
              "        text-align: right;\n",
              "    }\n",
              "</style>\n",
              "<table border=\"1\" class=\"dataframe\">\n",
              "  <thead>\n",
              "    <tr style=\"text-align: right;\">\n",
              "      <th></th>\n",
              "      <th>A</th>\n",
              "      <th>B</th>\n",
              "      <th>C</th>\n",
              "      <th>D</th>\n",
              "      <th>F</th>\n",
              "    </tr>\n",
              "  </thead>\n",
              "  <tbody>\n",
              "    <tr>\n",
              "      <th>2013-01-01</th>\n",
              "      <td>0.000000</td>\n",
              "      <td>0.000000</td>\n",
              "      <td>-0.542316</td>\n",
              "      <td>-5</td>\n",
              "      <td>NaN</td>\n",
              "    </tr>\n",
              "    <tr>\n",
              "      <th>2013-01-02</th>\n",
              "      <td>-0.108518</td>\n",
              "      <td>-1.174630</td>\n",
              "      <td>-0.730138</td>\n",
              "      <td>-5</td>\n",
              "      <td>-1.0</td>\n",
              "    </tr>\n",
              "    <tr>\n",
              "      <th>2013-01-03</th>\n",
              "      <td>-0.146063</td>\n",
              "      <td>-0.669834</td>\n",
              "      <td>-0.258898</td>\n",
              "      <td>-5</td>\n",
              "      <td>-2.0</td>\n",
              "    </tr>\n",
              "    <tr>\n",
              "      <th>2013-01-04</th>\n",
              "      <td>-1.502114</td>\n",
              "      <td>-0.481438</td>\n",
              "      <td>-0.445906</td>\n",
              "      <td>-5</td>\n",
              "      <td>-3.0</td>\n",
              "    </tr>\n",
              "    <tr>\n",
              "      <th>2013-01-05</th>\n",
              "      <td>-0.401894</td>\n",
              "      <td>-1.838668</td>\n",
              "      <td>-1.112530</td>\n",
              "      <td>-5</td>\n",
              "      <td>-4.0</td>\n",
              "    </tr>\n",
              "    <tr>\n",
              "      <th>2013-01-06</th>\n",
              "      <td>-0.871891</td>\n",
              "      <td>-1.022357</td>\n",
              "      <td>-0.184152</td>\n",
              "      <td>-5</td>\n",
              "      <td>-5.0</td>\n",
              "    </tr>\n",
              "  </tbody>\n",
              "</table>\n",
              "</div>"
            ],
            "text/plain": [
              "                   A         B         C  D    F\n",
              "2013-01-01  0.000000  0.000000 -0.542316 -5  NaN\n",
              "2013-01-02 -0.108518 -1.174630 -0.730138 -5 -1.0\n",
              "2013-01-03 -0.146063 -0.669834 -0.258898 -5 -2.0\n",
              "2013-01-04 -1.502114 -0.481438 -0.445906 -5 -3.0\n",
              "2013-01-05 -0.401894 -1.838668 -1.112530 -5 -4.0\n",
              "2013-01-06 -0.871891 -1.022357 -0.184152 -5 -5.0"
            ]
          },
          "metadata": {
            "tags": []
          },
          "execution_count": 50
        }
      ]
    },
    {
      "metadata": {
        "id": "gXG2FSazH6gv",
        "colab_type": "code",
        "colab": {},
        "outputId": "0e6ea344-9825-4c70-c23a-f26b3a1546ac"
      },
      "cell_type": "code",
      "source": [
        "df1 = df.reindex(index = dates[0:4],columns = list(df.columns)+['E'])\n",
        "df1.loc[dates[0]:dates[1],'E']=1\n",
        "df1"
      ],
      "execution_count": 0,
      "outputs": [
        {
          "output_type": "execute_result",
          "data": {
            "text/html": [
              "<div>\n",
              "<style scoped>\n",
              "    .dataframe tbody tr th:only-of-type {\n",
              "        vertical-align: middle;\n",
              "    }\n",
              "\n",
              "    .dataframe tbody tr th {\n",
              "        vertical-align: top;\n",
              "    }\n",
              "\n",
              "    .dataframe thead th {\n",
              "        text-align: right;\n",
              "    }\n",
              "</style>\n",
              "<table border=\"1\" class=\"dataframe\">\n",
              "  <thead>\n",
              "    <tr style=\"text-align: right;\">\n",
              "      <th></th>\n",
              "      <th>A</th>\n",
              "      <th>B</th>\n",
              "      <th>C</th>\n",
              "      <th>D</th>\n",
              "      <th>F</th>\n",
              "      <th>E</th>\n",
              "    </tr>\n",
              "  </thead>\n",
              "  <tbody>\n",
              "    <tr>\n",
              "      <th>2013-01-01</th>\n",
              "      <td>-1.321089</td>\n",
              "      <td>0.238801</td>\n",
              "      <td>0.850090</td>\n",
              "      <td>0.833603</td>\n",
              "      <td>NaN</td>\n",
              "      <td>1.0</td>\n",
              "    </tr>\n",
              "    <tr>\n",
              "      <th>2013-01-02</th>\n",
              "      <td>-1.783051</td>\n",
              "      <td>2.453829</td>\n",
              "      <td>0.203101</td>\n",
              "      <td>-0.099306</td>\n",
              "      <td>1.0</td>\n",
              "      <td>1.0</td>\n",
              "    </tr>\n",
              "    <tr>\n",
              "      <th>2013-01-03</th>\n",
              "      <td>0.416889</td>\n",
              "      <td>0.381790</td>\n",
              "      <td>1.169320</td>\n",
              "      <td>1.589493</td>\n",
              "      <td>2.0</td>\n",
              "      <td>NaN</td>\n",
              "    </tr>\n",
              "    <tr>\n",
              "      <th>2013-01-04</th>\n",
              "      <td>-0.309132</td>\n",
              "      <td>1.574709</td>\n",
              "      <td>0.505666</td>\n",
              "      <td>1.355547</td>\n",
              "      <td>3.0</td>\n",
              "      <td>NaN</td>\n",
              "    </tr>\n",
              "  </tbody>\n",
              "</table>\n",
              "</div>"
            ],
            "text/plain": [
              "                   A         B         C         D    F    E\n",
              "2013-01-01 -1.321089  0.238801  0.850090  0.833603  NaN  1.0\n",
              "2013-01-02 -1.783051  2.453829  0.203101 -0.099306  1.0  1.0\n",
              "2013-01-03  0.416889  0.381790  1.169320  1.589493  2.0  NaN\n",
              "2013-01-04 -0.309132  1.574709  0.505666  1.355547  3.0  NaN"
            ]
          },
          "metadata": {
            "tags": []
          },
          "execution_count": 9
        }
      ]
    },
    {
      "metadata": {
        "id": "UAziYLj8H6gy",
        "colab_type": "code",
        "colab": {},
        "outputId": "30776af9-8e0a-4339-ffd8-bd25a68110ff"
      },
      "cell_type": "code",
      "source": [
        "df1.dropna(how='any')"
      ],
      "execution_count": 0,
      "outputs": [
        {
          "output_type": "execute_result",
          "data": {
            "text/html": [
              "<div>\n",
              "<style scoped>\n",
              "    .dataframe tbody tr th:only-of-type {\n",
              "        vertical-align: middle;\n",
              "    }\n",
              "\n",
              "    .dataframe tbody tr th {\n",
              "        vertical-align: top;\n",
              "    }\n",
              "\n",
              "    .dataframe thead th {\n",
              "        text-align: right;\n",
              "    }\n",
              "</style>\n",
              "<table border=\"1\" class=\"dataframe\">\n",
              "  <thead>\n",
              "    <tr style=\"text-align: right;\">\n",
              "      <th></th>\n",
              "      <th>A</th>\n",
              "      <th>B</th>\n",
              "      <th>C</th>\n",
              "      <th>D</th>\n",
              "      <th>F</th>\n",
              "      <th>E</th>\n",
              "    </tr>\n",
              "  </thead>\n",
              "  <tbody>\n",
              "    <tr>\n",
              "      <th>2013-01-02</th>\n",
              "      <td>-1.783051</td>\n",
              "      <td>2.453829</td>\n",
              "      <td>0.203101</td>\n",
              "      <td>-0.099306</td>\n",
              "      <td>1.0</td>\n",
              "      <td>1.0</td>\n",
              "    </tr>\n",
              "  </tbody>\n",
              "</table>\n",
              "</div>"
            ],
            "text/plain": [
              "                   A         B         C         D    F    E\n",
              "2013-01-02 -1.783051  2.453829  0.203101 -0.099306  1.0  1.0"
            ]
          },
          "metadata": {
            "tags": []
          },
          "execution_count": 10
        }
      ]
    },
    {
      "metadata": {
        "id": "1uvi1hcAH6g1",
        "colab_type": "code",
        "colab": {},
        "outputId": "cecab0d6-eb0d-47c1-c8e2-872014722460"
      },
      "cell_type": "code",
      "source": [
        "df1.fillna(value=5)"
      ],
      "execution_count": 0,
      "outputs": [
        {
          "output_type": "execute_result",
          "data": {
            "text/html": [
              "<div>\n",
              "<style scoped>\n",
              "    .dataframe tbody tr th:only-of-type {\n",
              "        vertical-align: middle;\n",
              "    }\n",
              "\n",
              "    .dataframe tbody tr th {\n",
              "        vertical-align: top;\n",
              "    }\n",
              "\n",
              "    .dataframe thead th {\n",
              "        text-align: right;\n",
              "    }\n",
              "</style>\n",
              "<table border=\"1\" class=\"dataframe\">\n",
              "  <thead>\n",
              "    <tr style=\"text-align: right;\">\n",
              "      <th></th>\n",
              "      <th>A</th>\n",
              "      <th>B</th>\n",
              "      <th>C</th>\n",
              "      <th>D</th>\n",
              "      <th>F</th>\n",
              "      <th>E</th>\n",
              "    </tr>\n",
              "  </thead>\n",
              "  <tbody>\n",
              "    <tr>\n",
              "      <th>2013-01-01</th>\n",
              "      <td>-1.321089</td>\n",
              "      <td>0.238801</td>\n",
              "      <td>0.850090</td>\n",
              "      <td>0.833603</td>\n",
              "      <td>5.0</td>\n",
              "      <td>1.0</td>\n",
              "    </tr>\n",
              "    <tr>\n",
              "      <th>2013-01-02</th>\n",
              "      <td>-1.783051</td>\n",
              "      <td>2.453829</td>\n",
              "      <td>0.203101</td>\n",
              "      <td>-0.099306</td>\n",
              "      <td>1.0</td>\n",
              "      <td>1.0</td>\n",
              "    </tr>\n",
              "    <tr>\n",
              "      <th>2013-01-03</th>\n",
              "      <td>0.416889</td>\n",
              "      <td>0.381790</td>\n",
              "      <td>1.169320</td>\n",
              "      <td>1.589493</td>\n",
              "      <td>2.0</td>\n",
              "      <td>5.0</td>\n",
              "    </tr>\n",
              "    <tr>\n",
              "      <th>2013-01-04</th>\n",
              "      <td>-0.309132</td>\n",
              "      <td>1.574709</td>\n",
              "      <td>0.505666</td>\n",
              "      <td>1.355547</td>\n",
              "      <td>3.0</td>\n",
              "      <td>5.0</td>\n",
              "    </tr>\n",
              "  </tbody>\n",
              "</table>\n",
              "</div>"
            ],
            "text/plain": [
              "                   A         B         C         D    F    E\n",
              "2013-01-01 -1.321089  0.238801  0.850090  0.833603  5.0  1.0\n",
              "2013-01-02 -1.783051  2.453829  0.203101 -0.099306  1.0  1.0\n",
              "2013-01-03  0.416889  0.381790  1.169320  1.589493  2.0  5.0\n",
              "2013-01-04 -0.309132  1.574709  0.505666  1.355547  3.0  5.0"
            ]
          },
          "metadata": {
            "tags": []
          },
          "execution_count": 11
        }
      ]
    },
    {
      "metadata": {
        "id": "lBU9BIJxH6g7",
        "colab_type": "code",
        "colab": {},
        "outputId": "37d83111-9af5-42c8-abcf-3c8b2c697ac7"
      },
      "cell_type": "code",
      "source": [
        "pd.isnull(df1)"
      ],
      "execution_count": 0,
      "outputs": [
        {
          "output_type": "execute_result",
          "data": {
            "text/html": [
              "<div>\n",
              "<style scoped>\n",
              "    .dataframe tbody tr th:only-of-type {\n",
              "        vertical-align: middle;\n",
              "    }\n",
              "\n",
              "    .dataframe tbody tr th {\n",
              "        vertical-align: top;\n",
              "    }\n",
              "\n",
              "    .dataframe thead th {\n",
              "        text-align: right;\n",
              "    }\n",
              "</style>\n",
              "<table border=\"1\" class=\"dataframe\">\n",
              "  <thead>\n",
              "    <tr style=\"text-align: right;\">\n",
              "      <th></th>\n",
              "      <th>A</th>\n",
              "      <th>B</th>\n",
              "      <th>C</th>\n",
              "      <th>D</th>\n",
              "      <th>F</th>\n",
              "      <th>E</th>\n",
              "    </tr>\n",
              "  </thead>\n",
              "  <tbody>\n",
              "    <tr>\n",
              "      <th>2013-01-01</th>\n",
              "      <td>False</td>\n",
              "      <td>False</td>\n",
              "      <td>False</td>\n",
              "      <td>False</td>\n",
              "      <td>True</td>\n",
              "      <td>False</td>\n",
              "    </tr>\n",
              "    <tr>\n",
              "      <th>2013-01-02</th>\n",
              "      <td>False</td>\n",
              "      <td>False</td>\n",
              "      <td>False</td>\n",
              "      <td>False</td>\n",
              "      <td>False</td>\n",
              "      <td>False</td>\n",
              "    </tr>\n",
              "    <tr>\n",
              "      <th>2013-01-03</th>\n",
              "      <td>False</td>\n",
              "      <td>False</td>\n",
              "      <td>False</td>\n",
              "      <td>False</td>\n",
              "      <td>False</td>\n",
              "      <td>True</td>\n",
              "    </tr>\n",
              "    <tr>\n",
              "      <th>2013-01-04</th>\n",
              "      <td>False</td>\n",
              "      <td>False</td>\n",
              "      <td>False</td>\n",
              "      <td>False</td>\n",
              "      <td>False</td>\n",
              "      <td>True</td>\n",
              "    </tr>\n",
              "  </tbody>\n",
              "</table>\n",
              "</div>"
            ],
            "text/plain": [
              "                A      B      C      D      F      E\n",
              "2013-01-01  False  False  False  False   True  False\n",
              "2013-01-02  False  False  False  False  False  False\n",
              "2013-01-03  False  False  False  False  False   True\n",
              "2013-01-04  False  False  False  False  False   True"
            ]
          },
          "metadata": {
            "tags": []
          },
          "execution_count": 12
        }
      ]
    },
    {
      "metadata": {
        "id": "n2Ks1OaPH6g_",
        "colab_type": "code",
        "colab": {},
        "outputId": "a726439b-e632-4833-edfc-e66e651371a7"
      },
      "cell_type": "code",
      "source": [
        "df.mean()"
      ],
      "execution_count": 0,
      "outputs": [
        {
          "output_type": "execute_result",
          "data": {
            "text/plain": [
              "A   -0.616957\n",
              "B    0.438263\n",
              "C    0.682119\n",
              "D    0.830082\n",
              "F    3.000000\n",
              "dtype: float64"
            ]
          },
          "metadata": {
            "tags": []
          },
          "execution_count": 13
        }
      ]
    },
    {
      "metadata": {
        "id": "21Pe9KBOH6hB",
        "colab_type": "code",
        "colab": {},
        "outputId": "45c28f74-615e-4882-b4d1-5b33f159a122"
      },
      "cell_type": "code",
      "source": [
        "df.mean(1)"
      ],
      "execution_count": 0,
      "outputs": [
        {
          "output_type": "execute_result",
          "data": {
            "text/plain": [
              "2013-01-01    0.150351\n",
              "2013-01-02    0.354915\n",
              "2013-01-03    1.111498\n",
              "2013-01-04    1.225358\n",
              "2013-01-05    0.659311\n",
              "2013-01-06    1.128846\n",
              "Freq: D, dtype: float64"
            ]
          },
          "metadata": {
            "tags": []
          },
          "execution_count": 14
        }
      ]
    },
    {
      "metadata": {
        "id": "IQWNjybHH6hE",
        "colab_type": "code",
        "colab": {},
        "outputId": "860109f8-862a-41a5-d2ab-a16b8fe6f3c4"
      },
      "cell_type": "code",
      "source": [
        "s = pd.Series([1,3,5,np.nan,6,8],index=dates).shift(2)\n",
        "s"
      ],
      "execution_count": 0,
      "outputs": [
        {
          "output_type": "execute_result",
          "data": {
            "text/plain": [
              "2013-01-01    NaN\n",
              "2013-01-02    NaN\n",
              "2013-01-03    1.0\n",
              "2013-01-04    3.0\n",
              "2013-01-05    5.0\n",
              "2013-01-06    NaN\n",
              "Freq: D, dtype: float64"
            ]
          },
          "metadata": {
            "tags": []
          },
          "execution_count": 15
        }
      ]
    },
    {
      "metadata": {
        "id": "TT_yUZn4H6hJ",
        "colab_type": "code",
        "colab": {},
        "outputId": "0bc5e335-ee99-4762-c890-65eb55d76203"
      },
      "cell_type": "code",
      "source": [
        "df.sub(s,axis='index')"
      ],
      "execution_count": 0,
      "outputs": [
        {
          "output_type": "execute_result",
          "data": {
            "text/html": [
              "<div>\n",
              "<style scoped>\n",
              "    .dataframe tbody tr th:only-of-type {\n",
              "        vertical-align: middle;\n",
              "    }\n",
              "\n",
              "    .dataframe tbody tr th {\n",
              "        vertical-align: top;\n",
              "    }\n",
              "\n",
              "    .dataframe thead th {\n",
              "        text-align: right;\n",
              "    }\n",
              "</style>\n",
              "<table border=\"1\" class=\"dataframe\">\n",
              "  <thead>\n",
              "    <tr style=\"text-align: right;\">\n",
              "      <th></th>\n",
              "      <th>A</th>\n",
              "      <th>B</th>\n",
              "      <th>C</th>\n",
              "      <th>D</th>\n",
              "      <th>F</th>\n",
              "    </tr>\n",
              "  </thead>\n",
              "  <tbody>\n",
              "    <tr>\n",
              "      <th>2013-01-01</th>\n",
              "      <td>NaN</td>\n",
              "      <td>NaN</td>\n",
              "      <td>NaN</td>\n",
              "      <td>NaN</td>\n",
              "      <td>NaN</td>\n",
              "    </tr>\n",
              "    <tr>\n",
              "      <th>2013-01-02</th>\n",
              "      <td>NaN</td>\n",
              "      <td>NaN</td>\n",
              "      <td>NaN</td>\n",
              "      <td>NaN</td>\n",
              "      <td>NaN</td>\n",
              "    </tr>\n",
              "    <tr>\n",
              "      <th>2013-01-03</th>\n",
              "      <td>-0.583111</td>\n",
              "      <td>-0.618210</td>\n",
              "      <td>0.169320</td>\n",
              "      <td>0.589493</td>\n",
              "      <td>1.0</td>\n",
              "    </tr>\n",
              "    <tr>\n",
              "      <th>2013-01-04</th>\n",
              "      <td>-3.309132</td>\n",
              "      <td>-1.425291</td>\n",
              "      <td>-2.494334</td>\n",
              "      <td>-1.644453</td>\n",
              "      <td>0.0</td>\n",
              "    </tr>\n",
              "    <tr>\n",
              "      <th>2013-01-05</th>\n",
              "      <td>-5.010029</td>\n",
              "      <td>-6.810629</td>\n",
              "      <td>-4.220656</td>\n",
              "      <td>-4.662133</td>\n",
              "      <td>-1.0</td>\n",
              "    </tr>\n",
              "    <tr>\n",
              "      <th>2013-01-06</th>\n",
              "      <td>NaN</td>\n",
              "      <td>NaN</td>\n",
              "      <td>NaN</td>\n",
              "      <td>NaN</td>\n",
              "      <td>NaN</td>\n",
              "    </tr>\n",
              "  </tbody>\n",
              "</table>\n",
              "</div>"
            ],
            "text/plain": [
              "                   A         B         C         D    F\n",
              "2013-01-01       NaN       NaN       NaN       NaN  NaN\n",
              "2013-01-02       NaN       NaN       NaN       NaN  NaN\n",
              "2013-01-03 -0.583111 -0.618210  0.169320  0.589493  1.0\n",
              "2013-01-04 -3.309132 -1.425291 -2.494334 -1.644453  0.0\n",
              "2013-01-05 -5.010029 -6.810629 -4.220656 -4.662133 -1.0\n",
              "2013-01-06       NaN       NaN       NaN       NaN  NaN"
            ]
          },
          "metadata": {
            "tags": []
          },
          "execution_count": 16
        }
      ]
    },
    {
      "metadata": {
        "id": "OD00wRJIH6hN",
        "colab_type": "code",
        "colab": {},
        "outputId": "6af349b6-a547-41d4-8fd5-18e127e4b129"
      },
      "cell_type": "code",
      "source": [
        "df.apply(np.cumsum)"
      ],
      "execution_count": 0,
      "outputs": [
        {
          "output_type": "execute_result",
          "data": {
            "text/html": [
              "<div>\n",
              "<style scoped>\n",
              "    .dataframe tbody tr th:only-of-type {\n",
              "        vertical-align: middle;\n",
              "    }\n",
              "\n",
              "    .dataframe tbody tr th {\n",
              "        vertical-align: top;\n",
              "    }\n",
              "\n",
              "    .dataframe thead th {\n",
              "        text-align: right;\n",
              "    }\n",
              "</style>\n",
              "<table border=\"1\" class=\"dataframe\">\n",
              "  <thead>\n",
              "    <tr style=\"text-align: right;\">\n",
              "      <th></th>\n",
              "      <th>A</th>\n",
              "      <th>B</th>\n",
              "      <th>C</th>\n",
              "      <th>D</th>\n",
              "      <th>F</th>\n",
              "    </tr>\n",
              "  </thead>\n",
              "  <tbody>\n",
              "    <tr>\n",
              "      <th>2013-01-01</th>\n",
              "      <td>-1.321089</td>\n",
              "      <td>0.238801</td>\n",
              "      <td>0.850090</td>\n",
              "      <td>0.833603</td>\n",
              "      <td>NaN</td>\n",
              "    </tr>\n",
              "    <tr>\n",
              "      <th>2013-01-02</th>\n",
              "      <td>-3.104141</td>\n",
              "      <td>2.692630</td>\n",
              "      <td>1.053190</td>\n",
              "      <td>0.734298</td>\n",
              "      <td>1.0</td>\n",
              "    </tr>\n",
              "    <tr>\n",
              "      <th>2013-01-03</th>\n",
              "      <td>-2.687252</td>\n",
              "      <td>3.074420</td>\n",
              "      <td>2.222510</td>\n",
              "      <td>2.323790</td>\n",
              "      <td>3.0</td>\n",
              "    </tr>\n",
              "    <tr>\n",
              "      <th>2013-01-04</th>\n",
              "      <td>-2.996384</td>\n",
              "      <td>4.649130</td>\n",
              "      <td>2.728176</td>\n",
              "      <td>3.679337</td>\n",
              "      <td>6.0</td>\n",
              "    </tr>\n",
              "    <tr>\n",
              "      <th>2013-01-05</th>\n",
              "      <td>-3.006414</td>\n",
              "      <td>2.838501</td>\n",
              "      <td>3.507520</td>\n",
              "      <td>4.017205</td>\n",
              "      <td>10.0</td>\n",
              "    </tr>\n",
              "    <tr>\n",
              "      <th>2013-01-06</th>\n",
              "      <td>-3.701745</td>\n",
              "      <td>2.629575</td>\n",
              "      <td>4.092715</td>\n",
              "      <td>4.980494</td>\n",
              "      <td>15.0</td>\n",
              "    </tr>\n",
              "  </tbody>\n",
              "</table>\n",
              "</div>"
            ],
            "text/plain": [
              "                   A         B         C         D     F\n",
              "2013-01-01 -1.321089  0.238801  0.850090  0.833603   NaN\n",
              "2013-01-02 -3.104141  2.692630  1.053190  0.734298   1.0\n",
              "2013-01-03 -2.687252  3.074420  2.222510  2.323790   3.0\n",
              "2013-01-04 -2.996384  4.649130  2.728176  3.679337   6.0\n",
              "2013-01-05 -3.006414  2.838501  3.507520  4.017205  10.0\n",
              "2013-01-06 -3.701745  2.629575  4.092715  4.980494  15.0"
            ]
          },
          "metadata": {
            "tags": []
          },
          "execution_count": 17
        }
      ]
    },
    {
      "metadata": {
        "id": "DnbUsizkH6hS",
        "colab_type": "code",
        "colab": {},
        "outputId": "108ed6f9-a82e-4ea1-be9f-33389c1c8244"
      },
      "cell_type": "code",
      "source": [
        "df.apply(lambda x:x.max()-x.min())"
      ],
      "execution_count": 0,
      "outputs": [
        {
          "output_type": "execute_result",
          "data": {
            "text/plain": [
              "A    2.199940\n",
              "B    4.264458\n",
              "C    0.966219\n",
              "D    1.688798\n",
              "F    4.000000\n",
              "dtype: float64"
            ]
          },
          "metadata": {
            "tags": []
          },
          "execution_count": 19
        }
      ]
    },
    {
      "metadata": {
        "id": "Sxh9CTBiH6hZ",
        "colab_type": "code",
        "colab": {},
        "outputId": "71840b1d-be33-4016-820b-bd4cf7100f14"
      },
      "cell_type": "code",
      "source": [
        "s = pd.Series(np.random.randint(0,7,size=10))\n",
        "s\n",
        "s.value_counts()"
      ],
      "execution_count": 0,
      "outputs": [
        {
          "output_type": "execute_result",
          "data": {
            "text/plain": [
              "5    3\n",
              "6    2\n",
              "3    2\n",
              "1    2\n",
              "2    1\n",
              "dtype: int64"
            ]
          },
          "metadata": {
            "tags": []
          },
          "execution_count": 21
        }
      ]
    },
    {
      "metadata": {
        "id": "R42ASEzJH6hb",
        "colab_type": "code",
        "colab": {},
        "outputId": "cff0cef2-d830-4823-dda1-ab6ea20c054d"
      },
      "cell_type": "code",
      "source": [
        "s = pd.Series(['A','b',np.nan,'Zoo'])\n",
        "s.str.lower()"
      ],
      "execution_count": 0,
      "outputs": [
        {
          "output_type": "execute_result",
          "data": {
            "text/plain": [
              "0      a\n",
              "1      b\n",
              "2    NaN\n",
              "3    zoo\n",
              "dtype: object"
            ]
          },
          "metadata": {
            "tags": []
          },
          "execution_count": 22
        }
      ]
    },
    {
      "metadata": {
        "id": "GooRUVKYH6hd",
        "colab_type": "code",
        "colab": {},
        "outputId": "c2bd237c-6662-4971-96e8-da049120a1e3"
      },
      "cell_type": "code",
      "source": [
        "df = pd.DataFrame(np.random.randn(10,4))\n",
        "df\n",
        "pieces=[df[:3],df[3:7],df[7:]]\n",
        "pieces\n",
        "pd.concat(pieces)"
      ],
      "execution_count": 0,
      "outputs": [
        {
          "output_type": "execute_result",
          "data": {
            "text/html": [
              "<div>\n",
              "<style scoped>\n",
              "    .dataframe tbody tr th:only-of-type {\n",
              "        vertical-align: middle;\n",
              "    }\n",
              "\n",
              "    .dataframe tbody tr th {\n",
              "        vertical-align: top;\n",
              "    }\n",
              "\n",
              "    .dataframe thead th {\n",
              "        text-align: right;\n",
              "    }\n",
              "</style>\n",
              "<table border=\"1\" class=\"dataframe\">\n",
              "  <thead>\n",
              "    <tr style=\"text-align: right;\">\n",
              "      <th></th>\n",
              "      <th>0</th>\n",
              "      <th>1</th>\n",
              "      <th>2</th>\n",
              "      <th>3</th>\n",
              "    </tr>\n",
              "  </thead>\n",
              "  <tbody>\n",
              "    <tr>\n",
              "      <th>0</th>\n",
              "      <td>0.167322</td>\n",
              "      <td>0.255274</td>\n",
              "      <td>-0.517351</td>\n",
              "      <td>0.576317</td>\n",
              "    </tr>\n",
              "    <tr>\n",
              "      <th>1</th>\n",
              "      <td>-0.333373</td>\n",
              "      <td>0.355930</td>\n",
              "      <td>0.622111</td>\n",
              "      <td>-1.991094</td>\n",
              "    </tr>\n",
              "    <tr>\n",
              "      <th>2</th>\n",
              "      <td>1.160651</td>\n",
              "      <td>0.123058</td>\n",
              "      <td>0.750610</td>\n",
              "      <td>0.005141</td>\n",
              "    </tr>\n",
              "    <tr>\n",
              "      <th>3</th>\n",
              "      <td>1.420931</td>\n",
              "      <td>-0.597064</td>\n",
              "      <td>-0.653332</td>\n",
              "      <td>-0.821243</td>\n",
              "    </tr>\n",
              "    <tr>\n",
              "      <th>4</th>\n",
              "      <td>-0.231473</td>\n",
              "      <td>-0.616548</td>\n",
              "      <td>-0.259622</td>\n",
              "      <td>-0.339596</td>\n",
              "    </tr>\n",
              "    <tr>\n",
              "      <th>5</th>\n",
              "      <td>-0.094038</td>\n",
              "      <td>-0.589818</td>\n",
              "      <td>-0.104433</td>\n",
              "      <td>1.873249</td>\n",
              "    </tr>\n",
              "    <tr>\n",
              "      <th>6</th>\n",
              "      <td>0.887051</td>\n",
              "      <td>0.328000</td>\n",
              "      <td>1.307583</td>\n",
              "      <td>1.722761</td>\n",
              "    </tr>\n",
              "    <tr>\n",
              "      <th>7</th>\n",
              "      <td>-0.603105</td>\n",
              "      <td>-1.903393</td>\n",
              "      <td>-0.390653</td>\n",
              "      <td>1.262644</td>\n",
              "    </tr>\n",
              "    <tr>\n",
              "      <th>8</th>\n",
              "      <td>-0.985885</td>\n",
              "      <td>1.494969</td>\n",
              "      <td>-0.037523</td>\n",
              "      <td>0.354343</td>\n",
              "    </tr>\n",
              "    <tr>\n",
              "      <th>9</th>\n",
              "      <td>0.789825</td>\n",
              "      <td>0.251882</td>\n",
              "      <td>0.177619</td>\n",
              "      <td>1.141129</td>\n",
              "    </tr>\n",
              "  </tbody>\n",
              "</table>\n",
              "</div>"
            ],
            "text/plain": [
              "          0         1         2         3\n",
              "0  0.167322  0.255274 -0.517351  0.576317\n",
              "1 -0.333373  0.355930  0.622111 -1.991094\n",
              "2  1.160651  0.123058  0.750610  0.005141\n",
              "3  1.420931 -0.597064 -0.653332 -0.821243\n",
              "4 -0.231473 -0.616548 -0.259622 -0.339596\n",
              "5 -0.094038 -0.589818 -0.104433  1.873249\n",
              "6  0.887051  0.328000  1.307583  1.722761\n",
              "7 -0.603105 -1.903393 -0.390653  1.262644\n",
              "8 -0.985885  1.494969 -0.037523  0.354343\n",
              "9  0.789825  0.251882  0.177619  1.141129"
            ]
          },
          "metadata": {
            "tags": []
          },
          "execution_count": 26
        }
      ]
    },
    {
      "metadata": {
        "id": "7A5mlEm9H6hf",
        "colab_type": "code",
        "colab": {},
        "outputId": "49c88678-96d7-47df-e7d7-fe912c5c0ee0"
      },
      "cell_type": "code",
      "source": [
        "left = pd.DataFrame({'key':['foo','foo'],'lval':[1,2]})\n",
        "right = pd.DataFrame({'key':['foo','foo'],'rval':[4,5]})\n",
        "print left\n",
        "print right"
      ],
      "execution_count": 0,
      "outputs": [
        {
          "output_type": "stream",
          "text": [
            "   key  lval\n",
            "0  foo     1\n",
            "1  foo     2\n",
            "   key  rval\n",
            "0  foo     4\n",
            "1  foo     5\n"
          ],
          "name": "stdout"
        }
      ]
    },
    {
      "metadata": {
        "id": "v2kq32KZH6hl",
        "colab_type": "code",
        "colab": {},
        "outputId": "be20f76b-20e0-4cce-f51e-21d7b421f3b3"
      },
      "cell_type": "code",
      "source": [
        "pd.merge(left,right,on='key')"
      ],
      "execution_count": 0,
      "outputs": [
        {
          "output_type": "execute_result",
          "data": {
            "text/html": [
              "<div>\n",
              "<style scoped>\n",
              "    .dataframe tbody tr th:only-of-type {\n",
              "        vertical-align: middle;\n",
              "    }\n",
              "\n",
              "    .dataframe tbody tr th {\n",
              "        vertical-align: top;\n",
              "    }\n",
              "\n",
              "    .dataframe thead th {\n",
              "        text-align: right;\n",
              "    }\n",
              "</style>\n",
              "<table border=\"1\" class=\"dataframe\">\n",
              "  <thead>\n",
              "    <tr style=\"text-align: right;\">\n",
              "      <th></th>\n",
              "      <th>key</th>\n",
              "      <th>lval</th>\n",
              "      <th>rval</th>\n",
              "    </tr>\n",
              "  </thead>\n",
              "  <tbody>\n",
              "    <tr>\n",
              "      <th>0</th>\n",
              "      <td>foo</td>\n",
              "      <td>1</td>\n",
              "      <td>4</td>\n",
              "    </tr>\n",
              "    <tr>\n",
              "      <th>1</th>\n",
              "      <td>foo</td>\n",
              "      <td>1</td>\n",
              "      <td>5</td>\n",
              "    </tr>\n",
              "    <tr>\n",
              "      <th>2</th>\n",
              "      <td>foo</td>\n",
              "      <td>2</td>\n",
              "      <td>4</td>\n",
              "    </tr>\n",
              "    <tr>\n",
              "      <th>3</th>\n",
              "      <td>foo</td>\n",
              "      <td>2</td>\n",
              "      <td>5</td>\n",
              "    </tr>\n",
              "  </tbody>\n",
              "</table>\n",
              "</div>"
            ],
            "text/plain": [
              "   key  lval  rval\n",
              "0  foo     1     4\n",
              "1  foo     1     5\n",
              "2  foo     2     4\n",
              "3  foo     2     5"
            ]
          },
          "metadata": {
            "tags": []
          },
          "execution_count": 28
        }
      ]
    },
    {
      "metadata": {
        "id": "3t-0AFYEH6ho",
        "colab_type": "code",
        "colab": {},
        "outputId": "e3887279-6d1d-4bf6-91f4-b39f216b6bbc"
      },
      "cell_type": "code",
      "source": [
        "df = pd.DataFrame(np.random.randn(8,4),columns=['A','B','C','D'])\n",
        "df"
      ],
      "execution_count": 0,
      "outputs": [
        {
          "output_type": "execute_result",
          "data": {
            "text/html": [
              "<div>\n",
              "<style scoped>\n",
              "    .dataframe tbody tr th:only-of-type {\n",
              "        vertical-align: middle;\n",
              "    }\n",
              "\n",
              "    .dataframe tbody tr th {\n",
              "        vertical-align: top;\n",
              "    }\n",
              "\n",
              "    .dataframe thead th {\n",
              "        text-align: right;\n",
              "    }\n",
              "</style>\n",
              "<table border=\"1\" class=\"dataframe\">\n",
              "  <thead>\n",
              "    <tr style=\"text-align: right;\">\n",
              "      <th></th>\n",
              "      <th>A</th>\n",
              "      <th>B</th>\n",
              "      <th>C</th>\n",
              "      <th>D</th>\n",
              "    </tr>\n",
              "  </thead>\n",
              "  <tbody>\n",
              "    <tr>\n",
              "      <th>0</th>\n",
              "      <td>-2.424901</td>\n",
              "      <td>0.165901</td>\n",
              "      <td>-1.735809</td>\n",
              "      <td>-0.936549</td>\n",
              "    </tr>\n",
              "    <tr>\n",
              "      <th>1</th>\n",
              "      <td>0.646017</td>\n",
              "      <td>1.194361</td>\n",
              "      <td>0.066393</td>\n",
              "      <td>-2.808754</td>\n",
              "    </tr>\n",
              "    <tr>\n",
              "      <th>2</th>\n",
              "      <td>-0.668425</td>\n",
              "      <td>-1.255281</td>\n",
              "      <td>-0.769340</td>\n",
              "      <td>-2.043201</td>\n",
              "    </tr>\n",
              "    <tr>\n",
              "      <th>3</th>\n",
              "      <td>0.440904</td>\n",
              "      <td>0.847900</td>\n",
              "      <td>0.997143</td>\n",
              "      <td>-0.765167</td>\n",
              "    </tr>\n",
              "    <tr>\n",
              "      <th>4</th>\n",
              "      <td>-0.021888</td>\n",
              "      <td>-0.777663</td>\n",
              "      <td>0.834270</td>\n",
              "      <td>-0.941428</td>\n",
              "    </tr>\n",
              "    <tr>\n",
              "      <th>5</th>\n",
              "      <td>0.961929</td>\n",
              "      <td>-0.728217</td>\n",
              "      <td>0.433482</td>\n",
              "      <td>-2.089846</td>\n",
              "    </tr>\n",
              "    <tr>\n",
              "      <th>6</th>\n",
              "      <td>-1.537739</td>\n",
              "      <td>2.308719</td>\n",
              "      <td>0.095189</td>\n",
              "      <td>0.342524</td>\n",
              "    </tr>\n",
              "    <tr>\n",
              "      <th>7</th>\n",
              "      <td>-0.265976</td>\n",
              "      <td>0.668162</td>\n",
              "      <td>-0.366181</td>\n",
              "      <td>-0.284529</td>\n",
              "    </tr>\n",
              "  </tbody>\n",
              "</table>\n",
              "</div>"
            ],
            "text/plain": [
              "          A         B         C         D\n",
              "0 -2.424901  0.165901 -1.735809 -0.936549\n",
              "1  0.646017  1.194361  0.066393 -2.808754\n",
              "2 -0.668425 -1.255281 -0.769340 -2.043201\n",
              "3  0.440904  0.847900  0.997143 -0.765167\n",
              "4 -0.021888 -0.777663  0.834270 -0.941428\n",
              "5  0.961929 -0.728217  0.433482 -2.089846\n",
              "6 -1.537739  2.308719  0.095189  0.342524\n",
              "7 -0.265976  0.668162 -0.366181 -0.284529"
            ]
          },
          "metadata": {
            "tags": []
          },
          "execution_count": 29
        }
      ]
    },
    {
      "metadata": {
        "id": "xa8i2ft_H6hs",
        "colab_type": "code",
        "colab": {},
        "outputId": "a6b328b7-37d6-45d1-ad0d-b3784f9d1621"
      },
      "cell_type": "code",
      "source": [
        "s = df.iloc[3]\n",
        "df.append(s,ignore_index=True)"
      ],
      "execution_count": 0,
      "outputs": [
        {
          "output_type": "execute_result",
          "data": {
            "text/html": [
              "<div>\n",
              "<style scoped>\n",
              "    .dataframe tbody tr th:only-of-type {\n",
              "        vertical-align: middle;\n",
              "    }\n",
              "\n",
              "    .dataframe tbody tr th {\n",
              "        vertical-align: top;\n",
              "    }\n",
              "\n",
              "    .dataframe thead th {\n",
              "        text-align: right;\n",
              "    }\n",
              "</style>\n",
              "<table border=\"1\" class=\"dataframe\">\n",
              "  <thead>\n",
              "    <tr style=\"text-align: right;\">\n",
              "      <th></th>\n",
              "      <th>A</th>\n",
              "      <th>B</th>\n",
              "      <th>C</th>\n",
              "      <th>D</th>\n",
              "    </tr>\n",
              "  </thead>\n",
              "  <tbody>\n",
              "    <tr>\n",
              "      <th>0</th>\n",
              "      <td>-2.424901</td>\n",
              "      <td>0.165901</td>\n",
              "      <td>-1.735809</td>\n",
              "      <td>-0.936549</td>\n",
              "    </tr>\n",
              "    <tr>\n",
              "      <th>1</th>\n",
              "      <td>0.646017</td>\n",
              "      <td>1.194361</td>\n",
              "      <td>0.066393</td>\n",
              "      <td>-2.808754</td>\n",
              "    </tr>\n",
              "    <tr>\n",
              "      <th>2</th>\n",
              "      <td>-0.668425</td>\n",
              "      <td>-1.255281</td>\n",
              "      <td>-0.769340</td>\n",
              "      <td>-2.043201</td>\n",
              "    </tr>\n",
              "    <tr>\n",
              "      <th>3</th>\n",
              "      <td>0.440904</td>\n",
              "      <td>0.847900</td>\n",
              "      <td>0.997143</td>\n",
              "      <td>-0.765167</td>\n",
              "    </tr>\n",
              "    <tr>\n",
              "      <th>4</th>\n",
              "      <td>-0.021888</td>\n",
              "      <td>-0.777663</td>\n",
              "      <td>0.834270</td>\n",
              "      <td>-0.941428</td>\n",
              "    </tr>\n",
              "    <tr>\n",
              "      <th>5</th>\n",
              "      <td>0.961929</td>\n",
              "      <td>-0.728217</td>\n",
              "      <td>0.433482</td>\n",
              "      <td>-2.089846</td>\n",
              "    </tr>\n",
              "    <tr>\n",
              "      <th>6</th>\n",
              "      <td>-1.537739</td>\n",
              "      <td>2.308719</td>\n",
              "      <td>0.095189</td>\n",
              "      <td>0.342524</td>\n",
              "    </tr>\n",
              "    <tr>\n",
              "      <th>7</th>\n",
              "      <td>-0.265976</td>\n",
              "      <td>0.668162</td>\n",
              "      <td>-0.366181</td>\n",
              "      <td>-0.284529</td>\n",
              "    </tr>\n",
              "    <tr>\n",
              "      <th>8</th>\n",
              "      <td>0.440904</td>\n",
              "      <td>0.847900</td>\n",
              "      <td>0.997143</td>\n",
              "      <td>-0.765167</td>\n",
              "    </tr>\n",
              "  </tbody>\n",
              "</table>\n",
              "</div>"
            ],
            "text/plain": [
              "          A         B         C         D\n",
              "0 -2.424901  0.165901 -1.735809 -0.936549\n",
              "1  0.646017  1.194361  0.066393 -2.808754\n",
              "2 -0.668425 -1.255281 -0.769340 -2.043201\n",
              "3  0.440904  0.847900  0.997143 -0.765167\n",
              "4 -0.021888 -0.777663  0.834270 -0.941428\n",
              "5  0.961929 -0.728217  0.433482 -2.089846\n",
              "6 -1.537739  2.308719  0.095189  0.342524\n",
              "7 -0.265976  0.668162 -0.366181 -0.284529\n",
              "8  0.440904  0.847900  0.997143 -0.765167"
            ]
          },
          "metadata": {
            "tags": []
          },
          "execution_count": 30
        }
      ]
    },
    {
      "metadata": {
        "id": "TRWW6gC6H6hw",
        "colab_type": "code",
        "colab": {},
        "outputId": "8c35d20e-8a54-4c25-8687-2ad24c26faff"
      },
      "cell_type": "code",
      "source": [
        "df = pd.DataFrame({'A':['foo','bar','foo','bar',\n",
        "                       'foo','bar','foo','bar'],\n",
        "                   'B':['one','one','two','three',\n",
        "                       'two','two','one','three'],\n",
        "                   'C':np.random.randn(8),\n",
        "                   'D':np.random.randn(8)\n",
        "                  })\n",
        "df"
      ],
      "execution_count": 0,
      "outputs": [
        {
          "output_type": "execute_result",
          "data": {
            "text/html": [
              "<div>\n",
              "<style scoped>\n",
              "    .dataframe tbody tr th:only-of-type {\n",
              "        vertical-align: middle;\n",
              "    }\n",
              "\n",
              "    .dataframe tbody tr th {\n",
              "        vertical-align: top;\n",
              "    }\n",
              "\n",
              "    .dataframe thead th {\n",
              "        text-align: right;\n",
              "    }\n",
              "</style>\n",
              "<table border=\"1\" class=\"dataframe\">\n",
              "  <thead>\n",
              "    <tr style=\"text-align: right;\">\n",
              "      <th></th>\n",
              "      <th>A</th>\n",
              "      <th>B</th>\n",
              "      <th>C</th>\n",
              "      <th>D</th>\n",
              "    </tr>\n",
              "  </thead>\n",
              "  <tbody>\n",
              "    <tr>\n",
              "      <th>0</th>\n",
              "      <td>foo</td>\n",
              "      <td>one</td>\n",
              "      <td>-1.054405</td>\n",
              "      <td>1.354575</td>\n",
              "    </tr>\n",
              "    <tr>\n",
              "      <th>1</th>\n",
              "      <td>bar</td>\n",
              "      <td>one</td>\n",
              "      <td>0.417249</td>\n",
              "      <td>-0.213798</td>\n",
              "    </tr>\n",
              "    <tr>\n",
              "      <th>2</th>\n",
              "      <td>foo</td>\n",
              "      <td>two</td>\n",
              "      <td>2.193068</td>\n",
              "      <td>-0.002561</td>\n",
              "    </tr>\n",
              "    <tr>\n",
              "      <th>3</th>\n",
              "      <td>bar</td>\n",
              "      <td>three</td>\n",
              "      <td>0.416475</td>\n",
              "      <td>-0.956096</td>\n",
              "    </tr>\n",
              "    <tr>\n",
              "      <th>4</th>\n",
              "      <td>foo</td>\n",
              "      <td>two</td>\n",
              "      <td>-1.198165</td>\n",
              "      <td>-0.667392</td>\n",
              "    </tr>\n",
              "    <tr>\n",
              "      <th>5</th>\n",
              "      <td>bar</td>\n",
              "      <td>two</td>\n",
              "      <td>-0.600790</td>\n",
              "      <td>-0.550899</td>\n",
              "    </tr>\n",
              "    <tr>\n",
              "      <th>6</th>\n",
              "      <td>foo</td>\n",
              "      <td>one</td>\n",
              "      <td>-0.056549</td>\n",
              "      <td>1.405969</td>\n",
              "    </tr>\n",
              "    <tr>\n",
              "      <th>7</th>\n",
              "      <td>bar</td>\n",
              "      <td>three</td>\n",
              "      <td>-1.297545</td>\n",
              "      <td>-0.613981</td>\n",
              "    </tr>\n",
              "  </tbody>\n",
              "</table>\n",
              "</div>"
            ],
            "text/plain": [
              "     A      B         C         D\n",
              "0  foo    one -1.054405  1.354575\n",
              "1  bar    one  0.417249 -0.213798\n",
              "2  foo    two  2.193068 -0.002561\n",
              "3  bar  three  0.416475 -0.956096\n",
              "4  foo    two -1.198165 -0.667392\n",
              "5  bar    two -0.600790 -0.550899\n",
              "6  foo    one -0.056549  1.405969\n",
              "7  bar  three -1.297545 -0.613981"
            ]
          },
          "metadata": {
            "tags": []
          },
          "execution_count": 3
        }
      ]
    },
    {
      "metadata": {
        "id": "oj9i1cQ5H6hy",
        "colab_type": "code",
        "colab": {},
        "outputId": "c99a0806-1ef7-4fa3-f00d-5cbc045c1c99"
      },
      "cell_type": "code",
      "source": [
        "df.groupby('A').sum()"
      ],
      "execution_count": 0,
      "outputs": [
        {
          "output_type": "execute_result",
          "data": {
            "text/html": [
              "<div>\n",
              "<style scoped>\n",
              "    .dataframe tbody tr th:only-of-type {\n",
              "        vertical-align: middle;\n",
              "    }\n",
              "\n",
              "    .dataframe tbody tr th {\n",
              "        vertical-align: top;\n",
              "    }\n",
              "\n",
              "    .dataframe thead th {\n",
              "        text-align: right;\n",
              "    }\n",
              "</style>\n",
              "<table border=\"1\" class=\"dataframe\">\n",
              "  <thead>\n",
              "    <tr style=\"text-align: right;\">\n",
              "      <th></th>\n",
              "      <th>C</th>\n",
              "      <th>D</th>\n",
              "    </tr>\n",
              "    <tr>\n",
              "      <th>A</th>\n",
              "      <th></th>\n",
              "      <th></th>\n",
              "    </tr>\n",
              "  </thead>\n",
              "  <tbody>\n",
              "    <tr>\n",
              "      <th>bar</th>\n",
              "      <td>-1.064611</td>\n",
              "      <td>-2.334774</td>\n",
              "    </tr>\n",
              "    <tr>\n",
              "      <th>foo</th>\n",
              "      <td>-0.116051</td>\n",
              "      <td>2.090592</td>\n",
              "    </tr>\n",
              "  </tbody>\n",
              "</table>\n",
              "</div>"
            ],
            "text/plain": [
              "            C         D\n",
              "A                      \n",
              "bar -1.064611 -2.334774\n",
              "foo -0.116051  2.090592"
            ]
          },
          "metadata": {
            "tags": []
          },
          "execution_count": 4
        }
      ]
    },
    {
      "metadata": {
        "id": "zVuGI0i3H6hz",
        "colab_type": "code",
        "colab": {},
        "outputId": "ae2bd561-91d6-4ed9-a767-f4957355803e"
      },
      "cell_type": "code",
      "source": [
        "df.groupby(['A','B']).sum()"
      ],
      "execution_count": 0,
      "outputs": [
        {
          "output_type": "execute_result",
          "data": {
            "text/html": [
              "<div>\n",
              "<style scoped>\n",
              "    .dataframe tbody tr th:only-of-type {\n",
              "        vertical-align: middle;\n",
              "    }\n",
              "\n",
              "    .dataframe tbody tr th {\n",
              "        vertical-align: top;\n",
              "    }\n",
              "\n",
              "    .dataframe thead th {\n",
              "        text-align: right;\n",
              "    }\n",
              "</style>\n",
              "<table border=\"1\" class=\"dataframe\">\n",
              "  <thead>\n",
              "    <tr style=\"text-align: right;\">\n",
              "      <th></th>\n",
              "      <th></th>\n",
              "      <th>C</th>\n",
              "      <th>D</th>\n",
              "    </tr>\n",
              "    <tr>\n",
              "      <th>A</th>\n",
              "      <th>B</th>\n",
              "      <th></th>\n",
              "      <th></th>\n",
              "    </tr>\n",
              "  </thead>\n",
              "  <tbody>\n",
              "    <tr>\n",
              "      <th rowspan=\"3\" valign=\"top\">bar</th>\n",
              "      <th>one</th>\n",
              "      <td>0.417249</td>\n",
              "      <td>-0.213798</td>\n",
              "    </tr>\n",
              "    <tr>\n",
              "      <th>three</th>\n",
              "      <td>-0.881070</td>\n",
              "      <td>-1.570078</td>\n",
              "    </tr>\n",
              "    <tr>\n",
              "      <th>two</th>\n",
              "      <td>-0.600790</td>\n",
              "      <td>-0.550899</td>\n",
              "    </tr>\n",
              "    <tr>\n",
              "      <th rowspan=\"2\" valign=\"top\">foo</th>\n",
              "      <th>one</th>\n",
              "      <td>-1.110954</td>\n",
              "      <td>2.760545</td>\n",
              "    </tr>\n",
              "    <tr>\n",
              "      <th>two</th>\n",
              "      <td>0.994903</td>\n",
              "      <td>-0.669953</td>\n",
              "    </tr>\n",
              "  </tbody>\n",
              "</table>\n",
              "</div>"
            ],
            "text/plain": [
              "                  C         D\n",
              "A   B                        \n",
              "bar one    0.417249 -0.213798\n",
              "    three -0.881070 -1.570078\n",
              "    two   -0.600790 -0.550899\n",
              "foo one   -1.110954  2.760545\n",
              "    two    0.994903 -0.669953"
            ]
          },
          "metadata": {
            "tags": []
          },
          "execution_count": 6
        }
      ]
    },
    {
      "metadata": {
        "id": "nJTLK4TtH6h2",
        "colab_type": "code",
        "colab": {},
        "outputId": "b913007e-83fa-4f8d-95ab-33697397812b"
      },
      "cell_type": "code",
      "source": [
        "tuples = list(zip(*[['bar','bar','baz','baz','foo','foo','quz','quz'],\n",
        "      ['one','two','one','two','one','two','one','two']]))\n",
        "\n",
        "index = pd.MultiIndex.from_tuples(tuples,names=['first','second'])\n",
        "\n",
        "df = pd.DataFrame(np.random.randn(8,2),index=index,columns=['A','B'])\n",
        "\n",
        "df"
      ],
      "execution_count": 0,
      "outputs": [
        {
          "output_type": "execute_result",
          "data": {
            "text/html": [
              "<div>\n",
              "<style scoped>\n",
              "    .dataframe tbody tr th:only-of-type {\n",
              "        vertical-align: middle;\n",
              "    }\n",
              "\n",
              "    .dataframe tbody tr th {\n",
              "        vertical-align: top;\n",
              "    }\n",
              "\n",
              "    .dataframe thead th {\n",
              "        text-align: right;\n",
              "    }\n",
              "</style>\n",
              "<table border=\"1\" class=\"dataframe\">\n",
              "  <thead>\n",
              "    <tr style=\"text-align: right;\">\n",
              "      <th></th>\n",
              "      <th></th>\n",
              "      <th>A</th>\n",
              "      <th>B</th>\n",
              "    </tr>\n",
              "    <tr>\n",
              "      <th>first</th>\n",
              "      <th>second</th>\n",
              "      <th></th>\n",
              "      <th></th>\n",
              "    </tr>\n",
              "  </thead>\n",
              "  <tbody>\n",
              "    <tr>\n",
              "      <th rowspan=\"2\" valign=\"top\">bar</th>\n",
              "      <th>one</th>\n",
              "      <td>0.036437</td>\n",
              "      <td>-0.565147</td>\n",
              "    </tr>\n",
              "    <tr>\n",
              "      <th>two</th>\n",
              "      <td>0.122068</td>\n",
              "      <td>-0.260710</td>\n",
              "    </tr>\n",
              "    <tr>\n",
              "      <th rowspan=\"2\" valign=\"top\">baz</th>\n",
              "      <th>one</th>\n",
              "      <td>-0.333542</td>\n",
              "      <td>-2.723581</td>\n",
              "    </tr>\n",
              "    <tr>\n",
              "      <th>two</th>\n",
              "      <td>0.886391</td>\n",
              "      <td>-0.011198</td>\n",
              "    </tr>\n",
              "    <tr>\n",
              "      <th rowspan=\"2\" valign=\"top\">foo</th>\n",
              "      <th>one</th>\n",
              "      <td>-1.257910</td>\n",
              "      <td>-1.178678</td>\n",
              "    </tr>\n",
              "    <tr>\n",
              "      <th>two</th>\n",
              "      <td>1.207816</td>\n",
              "      <td>-0.556158</td>\n",
              "    </tr>\n",
              "    <tr>\n",
              "      <th rowspan=\"2\" valign=\"top\">quz</th>\n",
              "      <th>one</th>\n",
              "      <td>-0.088058</td>\n",
              "      <td>1.051124</td>\n",
              "    </tr>\n",
              "    <tr>\n",
              "      <th>two</th>\n",
              "      <td>-0.954071</td>\n",
              "      <td>0.048336</td>\n",
              "    </tr>\n",
              "  </tbody>\n",
              "</table>\n",
              "</div>"
            ],
            "text/plain": [
              "                     A         B\n",
              "first second                    \n",
              "bar   one     0.036437 -0.565147\n",
              "      two     0.122068 -0.260710\n",
              "baz   one    -0.333542 -2.723581\n",
              "      two     0.886391 -0.011198\n",
              "foo   one    -1.257910 -1.178678\n",
              "      two     1.207816 -0.556158\n",
              "quz   one    -0.088058  1.051124\n",
              "      two    -0.954071  0.048336"
            ]
          },
          "metadata": {
            "tags": []
          },
          "execution_count": 12
        }
      ]
    },
    {
      "metadata": {
        "id": "muPCPWUiH6h4",
        "colab_type": "code",
        "colab": {},
        "outputId": "fab48730-a716-4025-e71f-735ef453ae52"
      },
      "cell_type": "code",
      "source": [
        "df2 = df[:4]\n",
        "stacked = df2.stack()\n",
        "stacked"
      ],
      "execution_count": 0,
      "outputs": [
        {
          "output_type": "execute_result",
          "data": {
            "text/plain": [
              "first  second   \n",
              "bar    one     A    0.036437\n",
              "               B   -0.565147\n",
              "       two     A    0.122068\n",
              "               B   -0.260710\n",
              "baz    one     A   -0.333542\n",
              "               B   -2.723581\n",
              "       two     A    0.886391\n",
              "               B   -0.011198\n",
              "dtype: float64"
            ]
          },
          "metadata": {
            "tags": []
          },
          "execution_count": 13
        }
      ]
    },
    {
      "metadata": {
        "id": "vaIXWArSH6h8",
        "colab_type": "code",
        "colab": {},
        "outputId": "e82d17cb-28ae-4045-ed9b-940e567a5561"
      },
      "cell_type": "code",
      "source": [
        "stacked.unstack()"
      ],
      "execution_count": 0,
      "outputs": [
        {
          "output_type": "execute_result",
          "data": {
            "text/html": [
              "<div>\n",
              "<style scoped>\n",
              "    .dataframe tbody tr th:only-of-type {\n",
              "        vertical-align: middle;\n",
              "    }\n",
              "\n",
              "    .dataframe tbody tr th {\n",
              "        vertical-align: top;\n",
              "    }\n",
              "\n",
              "    .dataframe thead th {\n",
              "        text-align: right;\n",
              "    }\n",
              "</style>\n",
              "<table border=\"1\" class=\"dataframe\">\n",
              "  <thead>\n",
              "    <tr style=\"text-align: right;\">\n",
              "      <th></th>\n",
              "      <th></th>\n",
              "      <th>A</th>\n",
              "      <th>B</th>\n",
              "    </tr>\n",
              "    <tr>\n",
              "      <th>first</th>\n",
              "      <th>second</th>\n",
              "      <th></th>\n",
              "      <th></th>\n",
              "    </tr>\n",
              "  </thead>\n",
              "  <tbody>\n",
              "    <tr>\n",
              "      <th rowspan=\"2\" valign=\"top\">bar</th>\n",
              "      <th>one</th>\n",
              "      <td>0.036437</td>\n",
              "      <td>-0.565147</td>\n",
              "    </tr>\n",
              "    <tr>\n",
              "      <th>two</th>\n",
              "      <td>0.122068</td>\n",
              "      <td>-0.260710</td>\n",
              "    </tr>\n",
              "    <tr>\n",
              "      <th rowspan=\"2\" valign=\"top\">baz</th>\n",
              "      <th>one</th>\n",
              "      <td>-0.333542</td>\n",
              "      <td>-2.723581</td>\n",
              "    </tr>\n",
              "    <tr>\n",
              "      <th>two</th>\n",
              "      <td>0.886391</td>\n",
              "      <td>-0.011198</td>\n",
              "    </tr>\n",
              "  </tbody>\n",
              "</table>\n",
              "</div>"
            ],
            "text/plain": [
              "                     A         B\n",
              "first second                    \n",
              "bar   one     0.036437 -0.565147\n",
              "      two     0.122068 -0.260710\n",
              "baz   one    -0.333542 -2.723581\n",
              "      two     0.886391 -0.011198"
            ]
          },
          "metadata": {
            "tags": []
          },
          "execution_count": 14
        }
      ]
    },
    {
      "metadata": {
        "id": "hWLt3Zh3H6h-",
        "colab_type": "code",
        "colab": {},
        "outputId": "ca3df668-731c-4e7d-93f2-aaac0b6b1041"
      },
      "cell_type": "code",
      "source": [
        "stacked.unstack(0)"
      ],
      "execution_count": 0,
      "outputs": [
        {
          "output_type": "execute_result",
          "data": {
            "text/html": [
              "<div>\n",
              "<style scoped>\n",
              "    .dataframe tbody tr th:only-of-type {\n",
              "        vertical-align: middle;\n",
              "    }\n",
              "\n",
              "    .dataframe tbody tr th {\n",
              "        vertical-align: top;\n",
              "    }\n",
              "\n",
              "    .dataframe thead th {\n",
              "        text-align: right;\n",
              "    }\n",
              "</style>\n",
              "<table border=\"1\" class=\"dataframe\">\n",
              "  <thead>\n",
              "    <tr style=\"text-align: right;\">\n",
              "      <th></th>\n",
              "      <th>first</th>\n",
              "      <th>bar</th>\n",
              "      <th>baz</th>\n",
              "    </tr>\n",
              "    <tr>\n",
              "      <th>second</th>\n",
              "      <th></th>\n",
              "      <th></th>\n",
              "      <th></th>\n",
              "    </tr>\n",
              "  </thead>\n",
              "  <tbody>\n",
              "    <tr>\n",
              "      <th rowspan=\"2\" valign=\"top\">one</th>\n",
              "      <th>A</th>\n",
              "      <td>0.036437</td>\n",
              "      <td>-0.333542</td>\n",
              "    </tr>\n",
              "    <tr>\n",
              "      <th>B</th>\n",
              "      <td>-0.565147</td>\n",
              "      <td>-2.723581</td>\n",
              "    </tr>\n",
              "    <tr>\n",
              "      <th rowspan=\"2\" valign=\"top\">two</th>\n",
              "      <th>A</th>\n",
              "      <td>0.122068</td>\n",
              "      <td>0.886391</td>\n",
              "    </tr>\n",
              "    <tr>\n",
              "      <th>B</th>\n",
              "      <td>-0.260710</td>\n",
              "      <td>-0.011198</td>\n",
              "    </tr>\n",
              "  </tbody>\n",
              "</table>\n",
              "</div>"
            ],
            "text/plain": [
              "first          bar       baz\n",
              "second                      \n",
              "one    A  0.036437 -0.333542\n",
              "       B -0.565147 -2.723581\n",
              "two    A  0.122068  0.886391\n",
              "       B -0.260710 -0.011198"
            ]
          },
          "metadata": {
            "tags": []
          },
          "execution_count": 15
        }
      ]
    },
    {
      "metadata": {
        "id": "ZkvLl07cH6iB",
        "colab_type": "code",
        "colab": {}
      },
      "cell_type": "code",
      "source": [
        ""
      ],
      "execution_count": 0,
      "outputs": []
    }
  ]
}