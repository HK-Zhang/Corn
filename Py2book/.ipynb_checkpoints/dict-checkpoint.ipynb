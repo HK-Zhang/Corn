{
 "cells": [
  {
   "cell_type": "code",
   "execution_count": 4,
   "metadata": {},
   "outputs": [
    {
     "name": "stdout",
     "output_type": "stream",
     "text": [
      "{'a': 'apple', 'w': 'watermelon', 'b': 'banana', 'o': 'orange', 'g': 'grape'}\n",
      "{'w': 'watermelon', 'b': 'banana', 'o': 'orange', 'g': 'grape'}\n",
      "banana\n",
      "{'w': 'watermelon', 'o': 'orange', 'g': 'grapefruit'}\n",
      "{}\n"
     ]
    }
   ],
   "source": [
    "dict = {\"a\" : \"apple\", \"b\" : \"banana\", \"g\" : \"grape\", \"o\" : \"orange\"}\n",
    "dict[\"w\"] = \"watermelon\"\n",
    "print dict\n",
    "del(dict[\"a\"])\n",
    "print dict\n",
    "dict[\"g\"] = \"grapefruit\"\n",
    "print dict.pop(\"b\")\n",
    "print dict\n",
    "dict.clear()\n",
    "print dict"
   ]
  },
  {
   "cell_type": "code",
   "execution_count": 5,
   "metadata": {},
   "outputs": [
    {
     "name": "stdout",
     "output_type": "stream",
     "text": [
      "dict[a] = apple\n",
      "dict[b] = banana\n",
      "dict[o] = orange\n",
      "dict[g] = grape\n"
     ]
    }
   ],
   "source": [
    "dict = {\"a\" : \"apple\", \"b\" : \"banana\", \"g\" : \"grape\", \"o\" : \"orange\"}\n",
    "for k in dict:\n",
    "    print \"dict[%s] =\" % k,dict[k]"
   ]
  },
  {
   "cell_type": "code",
   "execution_count": 6,
   "metadata": {},
   "outputs": [
    {
     "name": "stdout",
     "output_type": "stream",
     "text": [
      "[('a', 'apple'), ('b', 'banana'), ('o', 'orange'), ('g', 'grape')]\n"
     ]
    }
   ],
   "source": [
    "print dict.items()"
   ]
  },
  {
   "cell_type": "code",
   "execution_count": 7,
   "metadata": {},
   "outputs": [
    {
     "name": "stdout",
     "output_type": "stream",
     "text": [
      "dict[a] = apple\n",
      "dict[b] = banana\n",
      "dict[o] = orange\n",
      "dict[g] = grape\n"
     ]
    }
   ],
   "source": [
    "dict = {\"a\" : \"apple\", \"b\" : \"banana\", \"g\" : \"grape\", \"o\" : \"orange\"}\n",
    "for (k, v) in dict.items():\n",
    "    print \"dict[%s] =\" % k, v"
   ]
  },
  {
   "cell_type": "code",
   "execution_count": 8,
   "metadata": {},
   "outputs": [
    {
     "name": "stdout",
     "output_type": "stream",
     "text": [
      "<dictionary-itemiterator object at 0x7f29e425f368>\n",
      "dict[a] = apple\n",
      "dict[c] = grape\n",
      "dict[b] = banana\n",
      "dict[d] = orange\n",
      "dict[a] = apple\n",
      "dict[c] = grape\n",
      "dict[b] = banana\n",
      "dict[d] = orange\n"
     ]
    }
   ],
   "source": [
    "dict = {\"a\" : \"apple\", \"b\" : \"banana\", \"c\" : \"grape\", \"d\" : \"orange\"}\n",
    "print dict.iteritems()\n",
    "for k, v in dict.iteritems():\n",
    "    print \"dict[%s] =\" % k, v\n",
    "for (k, v) in zip(dict.iterkeys(), dict.itervalues()):\n",
    "    print \"dict[%s] =\" % k, v"
   ]
  },
  {
   "cell_type": "code",
   "execution_count": 9,
   "metadata": {},
   "outputs": [
    {
     "name": "stdout",
     "output_type": "stream",
     "text": [
      "('apple',)\n",
      "apple\n",
      "{'b': 'banana', 'o': 'orange'}\n",
      "orange\n",
      "['grape', 'grapefruit']\n",
      "grapefruit\n"
     ]
    }
   ],
   "source": [
    "dict = {\"a\" : (\"apple\",), \"bo\" : {\"b\" : \"banana\", \"o\" : \"orange\"}, \"g\" : [\"grape\",\"grapefruit\"]}\n",
    "print dict[\"a\"]\n",
    "print dict[\"a\"][0]\n",
    "print dict[\"bo\"]\n",
    "print dict[\"bo\"][\"o\"]\n",
    "print dict[\"g\"]\n",
    "print dict[\"g\"][1]"
   ]
  },
  {
   "cell_type": "code",
   "execution_count": 10,
   "metadata": {},
   "outputs": [
    {
     "name": "stdout",
     "output_type": "stream",
     "text": [
      "['a', 'c', 'b', 'd']\n",
      "['apple', 'grape', 'banana', 'orange']\n"
     ]
    }
   ],
   "source": [
    "dict = {\"a\" : \"apple\", \"b\" : \"banana\", \"c\" : \"grape\", \"d\" : \"orange\"}\n",
    "print dict.keys()\n",
    "print dict.values()"
   ]
  },
  {
   "cell_type": "code",
   "execution_count": 11,
   "metadata": {},
   "outputs": [
    {
     "name": "stdout",
     "output_type": "stream",
     "text": [
      "{'a': 'apple', 'c': 'grape', 'b': 'banana', 'd': 'orange'}\n",
      "grape\n",
      "apple\n"
     ]
    }
   ],
   "source": [
    "dict = {\"a\" : \"apple\", \"b\" : \"banana\", \"c\" : \"grape\", \"d\" : \"orange\"}\n",
    "print dict\n",
    "print dict.get(\"c\", \"apple\")         \n",
    "print dict.get(\"e\", \"apple\")"
   ]
  },
  {
   "cell_type": "code",
   "execution_count": 12,
   "metadata": {},
   "outputs": [
    {
     "name": "stdout",
     "output_type": "stream",
     "text": [
      "{'a': 'apple', 'b': 'banana'}\n",
      "{'a': 'apple', 'c': 'grape', 'b': 'banana', 'd': 'orange'}\n"
     ]
    }
   ],
   "source": [
    "dict = {\"a\" : \"apple\", \"b\" : \"banana\"}\n",
    "print dict\n",
    "dict2 = {\"c\" : \"grape\", \"d\" : \"orange\"}\n",
    "dict.update(dict2)\n",
    "print dict"
   ]
  },
  {
   "cell_type": "code",
   "execution_count": 13,
   "metadata": {},
   "outputs": [
    {
     "name": "stdout",
     "output_type": "stream",
     "text": [
      "{'a': None}\n",
      "{'a': 'apple'}\n"
     ]
    }
   ],
   "source": [
    "dict = {}\n",
    "dict.setdefault(\"a\")\n",
    "print dict\n",
    "dict[\"a\"] = \"apple\"\n",
    "dict.setdefault(\"a\",\"default\")\n",
    "print dict"
   ]
  },
  {
   "cell_type": "code",
   "execution_count": 14,
   "metadata": {},
   "outputs": [
    {
     "name": "stdout",
     "output_type": "stream",
     "text": [
      "{'a': 'apple', 'c': 'orange', 'b': 'grape', 'd': 'banana'}\n",
      "[('a', 'apple'), ('b', 'grape'), ('c', 'orange'), ('d', 'banana')]\n",
      "[('a', 'apple'), ('d', 'banana'), ('b', 'grape'), ('c', 'orange')]\n"
     ]
    }
   ],
   "source": [
    "dict = {\"a\" : \"apple\", \"b\" : \"grape\", \"c\" : \"orange\", \"d\" : \"banana\"}\n",
    "print dict  \n",
    "print sorted(dict.items(), key=lambda d: d[0])\n",
    "print sorted(dict.items(), key=lambda d: d[1])"
   ]
  },
  {
   "cell_type": "code",
   "execution_count": 15,
   "metadata": {},
   "outputs": [
    {
     "name": "stdout",
     "output_type": "stream",
     "text": [
      "{'a': 'apple', 'b': 'grape'}\n"
     ]
    }
   ],
   "source": [
    "dict = {\"a\" : \"apple\", \"b\" : \"grape\"}\n",
    "dict2 = {\"c\" : \"orange\", \"d\" : \"banana\"}\n",
    "dict2 = dict.copy()\n",
    "print dict2"
   ]
  },
  {
   "cell_type": "code",
   "execution_count": 16,
   "metadata": {},
   "outputs": [
    {
     "name": "stdout",
     "output_type": "stream",
     "text": [
      "{'a': 'apple', 'b': {'o': 'orange', 'g': 'grape'}}\n",
      "{'a': 'apple', 'b': {'o': 'orange', 'g': 'orange'}}\n"
     ]
    }
   ],
   "source": [
    "import copy\n",
    "dict = {\"a\" : \"apple\", \"b\" : {\"g\" : \"grape\",\"o\" : \"orange\"}}\n",
    "dict2 = copy.deepcopy(dict)\n",
    "dict3 = copy.copy(dict)\n",
    "dict2[\"b\"][\"g\"] = \"orange\"\n",
    "print dict\n",
    "dict3[\"b\"][\"g\"] = \"orange\"\n",
    "print dict"
   ]
  },
  {
   "cell_type": "code",
   "execution_count": 18,
   "metadata": {},
   "outputs": [
    {
     "name": "stdout",
     "output_type": "stream",
     "text": [
      "{'abcd': 123, 'age': 23, 'name': 'jack'}\n"
     ]
    }
   ],
   "source": [
    "d = {\"name\":\"nico\", \"age\":23}  \n",
    "d2 = {\"name\":\"jack\", \"abcd\":123}  \n",
    "d.update(d2)  \n",
    "print d"
   ]
  },
  {
   "cell_type": "code",
   "execution_count": 19,
   "metadata": {},
   "outputs": [
    {
     "name": "stdout",
     "output_type": "stream",
     "text": [
      "('age', 23)\n",
      "('name', 'nico')\n"
     ]
    },
    {
     "ename": "KeyError",
     "evalue": "'popitem(): dictionary is empty'",
     "output_type": "error",
     "traceback": [
      "\u001b[0;31m---------------------------------------------------------------------------\u001b[0m",
      "\u001b[0;31mKeyError\u001b[0m                                  Traceback (most recent call last)",
      "\u001b[0;32m<ipython-input-19-83e15183ea47>\u001b[0m in \u001b[0;36m<module>\u001b[0;34m()\u001b[0m\n\u001b[1;32m      2\u001b[0m \u001b[0;32mprint\u001b[0m \u001b[0md\u001b[0m\u001b[0;34m.\u001b[0m\u001b[0mpopitem\u001b[0m\u001b[0;34m(\u001b[0m\u001b[0;34m)\u001b[0m       \u001b[0;31m#('age', 23)\u001b[0m\u001b[0;34m\u001b[0m\u001b[0m\n\u001b[1;32m      3\u001b[0m \u001b[0;32mprint\u001b[0m \u001b[0md\u001b[0m\u001b[0;34m.\u001b[0m\u001b[0mpopitem\u001b[0m\u001b[0;34m(\u001b[0m\u001b[0;34m)\u001b[0m       \u001b[0;31m#('name', 'nico')\u001b[0m\u001b[0;34m\u001b[0m\u001b[0m\n\u001b[0;32m----> 4\u001b[0;31m \u001b[0;32mprint\u001b[0m \u001b[0md\u001b[0m\u001b[0;34m.\u001b[0m\u001b[0mpopitem\u001b[0m\u001b[0;34m(\u001b[0m\u001b[0;34m)\u001b[0m\u001b[0;34m\u001b[0m\u001b[0m\n\u001b[0m",
      "\u001b[0;31mKeyError\u001b[0m: 'popitem(): dictionary is empty'"
     ]
    }
   ],
   "source": [
    "d = {\"name\":\"nico\", \"age\":23}  \n",
    "print d.popitem()       #('age', 23)  \n",
    "print d.popitem()       #('name', 'nico') \n",
    "print d.popitem() "
   ]
  },
  {
   "cell_type": "code",
   "execution_count": 20,
   "metadata": {},
   "outputs": [
    {
     "name": "stdout",
     "output_type": "stream",
     "text": [
      "{'age': 23}\n"
     ]
    }
   ],
   "source": [
    "d = {\"name\":\"nico\", \"age\":23}  \n",
    "del d[\"name\"]\n",
    "print d"
   ]
  },
  {
   "cell_type": "code",
   "execution_count": 21,
   "metadata": {},
   "outputs": [
    {
     "name": "stdout",
     "output_type": "stream",
     "text": [
      "{'age': 23, 'name': 'nico'}\n",
      "{'cc': 'aaaaaa', 'age': 23, 'name': 'nico'}\n",
      "dict_items([('cc', 'aaaaaa'), ('age', 23), ('name', 'nico')])\n"
     ]
    }
   ],
   "source": [
    "d = {\"name\":\"nico\", \"age\":23}  \n",
    "d1 = d.copy()\n",
    "d2 = d1.viewitems()  \n",
    "d1[\"cc\"] = \"aaaaaa\"   \n",
    "print d\n",
    "print d1\n",
    "print d2"
   ]
  },
  {
   "cell_type": "code",
   "execution_count": 22,
   "metadata": {},
   "outputs": [
    {
     "name": "stdout",
     "output_type": "stream",
     "text": [
      "key=age, value=23\n",
      "key=name, value=nico\n",
      "key=age, value=23\n",
      "key=name, value=nico\n",
      "key=age, value=23\n",
      "key=name, value=nico\n",
      "key=age, value=23\n",
      "key=name, value=nico\n",
      "key=age, value=23\n",
      "key=name, value=nico\n"
     ]
    }
   ],
   "source": [
    "d = {\"name\":\"nico\", \"age\":23}  \n",
    "for key in d:  \n",
    "    print \"key=%s, value=%s\" % (key, d[key])  \n",
    "      \n",
    "for key in d.iterkeys():  \n",
    "    print \"key=%s, value=%s\" % (key, d[key])  \n",
    "      \n",
    "for key in d.keys():  \n",
    "    print \"key=%s, value=%s\" % (key, d[key])  \n",
    "      \n",
    "for key in iter(d):  \n",
    "    print \"key=%s, value=%s\" % (key, d[key])  \n",
    "      \n",
    "for key,item in d.items():  \n",
    "    print \"key=%s, value=%s\" % (key, item)  "
   ]
  },
  {
   "cell_type": "code",
   "execution_count": null,
   "metadata": {},
   "outputs": [],
   "source": []
  }
 ],
 "metadata": {
  "kernelspec": {
   "display_name": "Python 2",
   "language": "python",
   "name": "python2"
  },
  "language_info": {
   "codemirror_mode": {
    "name": "ipython",
    "version": 2
   },
   "file_extension": ".py",
   "mimetype": "text/x-python",
   "name": "python",
   "nbconvert_exporter": "python",
   "pygments_lexer": "ipython2",
   "version": "2.7.12"
  }
 },
 "nbformat": 4,
 "nbformat_minor": 2
}
