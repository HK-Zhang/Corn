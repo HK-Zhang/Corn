{
 "cells": [
  {
   "cell_type": "code",
   "execution_count": 1,
   "metadata": {},
   "outputs": [
    {
     "name": "stdout",
     "output_type": "stream",
     "text": [
      "140452908815384 27324744\n"
     ]
    }
   ],
   "source": [
    "a = \"str\"\n",
    "b = 3\n",
    "print id(a), id(b)"
   ]
  },
  {
   "cell_type": "code",
   "execution_count": 2,
   "metadata": {},
   "outputs": [
    {
     "name": "stdout",
     "output_type": "stream",
     "text": [
      "140452907417248 140452907417248\n",
      "27324720 27324720\n"
     ]
    }
   ],
   "source": [
    "name = \"test\"\n",
    "age = \"test\"\n",
    "three = 4\n",
    "san = 4\n",
    "print id(name),id(age)\n",
    "print id(three),id(san)"
   ]
  },
  {
   "cell_type": "code",
   "execution_count": 5,
   "metadata": {},
   "outputs": [
    {
     "name": "stdout",
     "output_type": "stream",
     "text": [
      "This\n",
      "T\n",
      "140452750658376\n",
      "['This', 'is', 'a', 'pig']\n",
      "140452750658376\n"
     ]
    }
   ],
   "source": [
    "l1=[\"This\",\"is\",\"a\",\"pig\"]\n",
    "print l1[0]\n",
    "print l1[0][0]\n",
    "print id(l1)\n",
    "l1[3] = \"pig\"\n",
    "print l1\n",
    "print id(l1)"
   ]
  },
  {
   "cell_type": "code",
   "execution_count": 8,
   "metadata": {},
   "outputs": [
    {
     "name": "stdout",
     "output_type": "stream",
     "text": [
      "This\n",
      "T\n"
     ]
    }
   ],
   "source": [
    "t1=(\"This\",\"is\",\"a\",\"pig\")\n",
    "print t1[0]\n",
    "print t1[0][0]"
   ]
  },
  {
   "cell_type": "code",
   "execution_count": null,
   "metadata": {},
   "outputs": [],
   "source": [
    "t1[3] = \"pig\""
   ]
  },
  {
   "cell_type": "code",
   "execution_count": 9,
   "metadata": {},
   "outputs": [
    {
     "name": "stdout",
     "output_type": "stream",
     "text": [
      "refox\n"
     ]
    }
   ],
   "source": [
    "name = \"firefox\"\n",
    "print name[2:]"
   ]
  },
  {
   "cell_type": "code",
   "execution_count": null,
   "metadata": {},
   "outputs": [],
   "source": []
  }
 ],
 "metadata": {
  "kernelspec": {
   "display_name": "Python 2",
   "language": "python",
   "name": "python2"
  },
  "language_info": {
   "codemirror_mode": {
    "name": "ipython",
    "version": 2
   },
   "file_extension": ".py",
   "mimetype": "text/x-python",
   "name": "python",
   "nbconvert_exporter": "python",
   "pygments_lexer": "ipython2",
   "version": "2.7.12"
  }
 },
 "nbformat": 4,
 "nbformat_minor": 2
}
