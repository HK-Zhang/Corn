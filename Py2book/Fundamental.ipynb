{
 "cells": [
  {
   "cell_type": "code",
   "execution_count": 1,
   "metadata": {},
   "outputs": [
    {
     "name": "stdout",
     "output_type": "stream",
     "text": [
      "140452908815384 27324744\n"
     ]
    }
   ],
   "source": [
    "a = \"str\"\n",
    "b = 3\n",
    "print id(a), id(b)"
   ]
  },
  {
   "cell_type": "code",
   "execution_count": 2,
   "metadata": {},
   "outputs": [
    {
     "name": "stdout",
     "output_type": "stream",
     "text": [
      "140452907417248 140452907417248\n",
      "27324720 27324720\n"
     ]
    }
   ],
   "source": [
    "name = \"test\"\n",
    "age = \"test\"\n",
    "three = 4\n",
    "san = 4\n",
    "print id(name),id(age)\n",
    "print id(three),id(san)"
   ]
  },
  {
   "cell_type": "code",
   "execution_count": 5,
   "metadata": {},
   "outputs": [
    {
     "name": "stdout",
     "output_type": "stream",
     "text": [
      "This\n",
      "T\n",
      "140452750658376\n",
      "['This', 'is', 'a', 'pig']\n",
      "140452750658376\n"
     ]
    }
   ],
   "source": [
    "l1=[\"This\",\"is\",\"a\",\"pig\"]\n",
    "print l1[0]\n",
    "print l1[0][0]\n",
    "print id(l1)\n",
    "l1[3] = \"pig\"\n",
    "print l1\n",
    "print id(l1)"
   ]
  },
  {
   "cell_type": "code",
   "execution_count": 8,
   "metadata": {},
   "outputs": [
    {
     "name": "stdout",
     "output_type": "stream",
     "text": [
      "This\n",
      "T\n"
     ]
    }
   ],
   "source": [
    "t1=(\"This\",\"is\",\"a\",\"pig\")\n",
    "print t1[0]\n",
    "print t1[0][0]"
   ]
  },
  {
   "cell_type": "code",
   "execution_count": null,
   "metadata": {},
   "outputs": [],
   "source": [
    "t1[3] = \"pig\""
   ]
  },
  {
   "cell_type": "code",
   "execution_count": 9,
   "metadata": {},
   "outputs": [
    {
     "name": "stdout",
     "output_type": "stream",
     "text": [
      "refox\n"
     ]
    }
   ],
   "source": [
    "name = \"firefox\"\n",
    "print name[2:]"
   ]
  },
  {
   "cell_type": "code",
   "execution_count": 1,
   "metadata": {},
   "outputs": [
    {
     "data": {
      "text/plain": [
       "True"
      ]
     },
     "execution_count": 1,
     "metadata": {},
     "output_type": "execute_result"
    }
   ],
   "source": [
    "name = \"Tom\"\n",
    "test = \"Tom\"\n",
    "name is test"
   ]
  },
  {
   "cell_type": "code",
   "execution_count": 2,
   "metadata": {},
   "outputs": [
    {
     "data": {
      "text/plain": [
       "False"
      ]
     },
     "execution_count": 2,
     "metadata": {},
     "output_type": "execute_result"
    }
   ],
   "source": [
    "test = \"firefox\"\n",
    "name is test"
   ]
  },
  {
   "cell_type": "code",
   "execution_count": 3,
   "metadata": {},
   "outputs": [
    {
     "data": {
      "text/plain": [
       "True"
      ]
     },
     "execution_count": 3,
     "metadata": {},
     "output_type": "execute_result"
    }
   ],
   "source": [
    "type(name) is type(test)"
   ]
  },
  {
   "cell_type": "code",
   "execution_count": 7,
   "metadata": {},
   "outputs": [
    {
     "name": "stdout",
     "output_type": "stream",
     "text": [
      "The num is 1.900000\n",
      "The num is 1\n",
      "The num is 1.900000e+00\n",
      "The num is 1.9\n"
     ]
    }
   ],
   "source": [
    "num = 1.9\n",
    "print \"The num is %f\" %num\n",
    "print \"The num is %d\" %num\n",
    "print \"The num is %e\" %num\n",
    "print \"The num is %s\" %num"
   ]
  },
  {
   "cell_type": "code",
   "execution_count": 8,
   "metadata": {},
   "outputs": [
    {
     "name": "stdout",
     "output_type": "stream",
     "text": [
      "<type 'str'> <type 'float'>\n"
     ]
    }
   ],
   "source": [
    "test = str(num)\n",
    "print type(test),type(num)"
   ]
  },
  {
   "cell_type": "code",
   "execution_count": 9,
   "metadata": {},
   "outputs": [
    {
     "name": "stdout",
     "output_type": "stream",
     "text": [
      "www.17jo.com\n"
     ]
    }
   ],
   "source": [
    "Name = '17jo'\n",
    "Zone = 'com'\n",
    "print 'www.%s.%s'%(Name,Zone)"
   ]
  },
  {
   "cell_type": "code",
   "execution_count": 10,
   "metadata": {},
   "outputs": [
    {
     "name": "stdout",
     "output_type": "stream",
     "text": [
      "2018-08-18\n"
     ]
    }
   ],
   "source": [
    "nYear = 2018\n",
    "nMonth = 8\n",
    "nDay = 18\n",
    "print  '%04d-%02d-%02d'%(nYear,nMonth,nDay)"
   ]
  },
  {
   "cell_type": "code",
   "execution_count": 11,
   "metadata": {},
   "outputs": [
    {
     "name": "stdout",
     "output_type": "stream",
     "text": [
      "008.12\n"
     ]
    }
   ],
   "source": [
    "fValue = 8.123\n",
    "print '%06.2f'%fValue"
   ]
  },
  {
   "cell_type": "code",
   "execution_count": 12,
   "metadata": {},
   "outputs": [
    {
     "name": "stdout",
     "output_type": "stream",
     "text": [
      "10\n",
      "12\n",
      "0a\n",
      "000A\n",
      "1.29e+00\n"
     ]
    }
   ],
   "source": [
    "print '%d'%10\n",
    "print '%o'%10\n",
    "print '%02x'%10\n",
    "print '%04X'%10\n",
    "print '%.2e'%1.2888"
   ]
  }
 ],
 "metadata": {
  "kernelspec": {
   "display_name": "Python 2",
   "language": "python",
   "name": "python2"
  },
  "language_info": {
   "codemirror_mode": {
    "name": "ipython",
    "version": 2
   },
   "file_extension": ".py",
   "mimetype": "text/x-python",
   "name": "python",
   "nbconvert_exporter": "python",
   "pygments_lexer": "ipython2",
   "version": "2.7.12"
  }
 },
 "nbformat": 4,
 "nbformat_minor": 2
}
