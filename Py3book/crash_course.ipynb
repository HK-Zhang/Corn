{
  "nbformat": 4,
  "nbformat_minor": 0,
  "metadata": {
    "colab": {
      "name": "crash course.ipynb",
      "version": "0.3.2",
      "provenance": [],
      "include_colab_link": true
    },
    "kernelspec": {
      "name": "python3",
      "display_name": "Python 3"
    }
  },
  "cells": [
    {
      "cell_type": "markdown",
      "metadata": {
        "id": "view-in-github",
        "colab_type": "text"
      },
      "source": [
        "<a href=\"https://colab.research.google.com/github/HK-Zhang/Corn/blob/master/Py3book/crash_course.ipynb\" target=\"_parent\"><img src=\"https://colab.research.google.com/assets/colab-badge.svg\" alt=\"Open In Colab\"/></a>"
      ]
    },
    {
      "metadata": {
        "id": "-zisNE0vcqa7",
        "colab_type": "text"
      },
      "cell_type": "markdown",
      "source": [
        "https://www.youtube.com/watch?v=f79MRyMsjrQ"
      ]
    },
    {
      "metadata": {
        "id": "kTctq01vckj8",
        "colab_type": "code",
        "colab": {
          "base_uri": "https://localhost:8080/",
          "height": 34
        },
        "outputId": "6087681e-1384-4136-89ed-24d74bb4714c"
      },
      "cell_type": "code",
      "source": [
        "print(\"*\" * 10)"
      ],
      "execution_count": 1,
      "outputs": [
        {
          "output_type": "stream",
          "text": [
            "**********\n"
          ],
          "name": "stdout"
        }
      ]
    },
    {
      "metadata": {
        "id": "Aqw_iyEMjOb7",
        "colab_type": "code",
        "colab": {
          "base_uri": "https://localhost:8080/",
          "height": 34
        },
        "outputId": "822fe9a6-e78c-4b5a-8fe0-829a7b407ff2"
      },
      "cell_type": "code",
      "source": [
        "students_count = 1000\n",
        "rating = 4.99\n",
        "is_published = False\n",
        "course_name = \"\"\"\n",
        "Multiple\n",
        "Lines\n",
        "\"\"\"\n",
        "x, y = 1, 2\n",
        "\n",
        "type(students_count)"
      ],
      "execution_count": 2,
      "outputs": [
        {
          "output_type": "execute_result",
          "data": {
            "text/plain": [
              "int"
            ]
          },
          "metadata": {
            "tags": []
          },
          "execution_count": 2
        }
      ]
    },
    {
      "metadata": {
        "id": "8MehwcIHkbdE",
        "colab_type": "code",
        "colab": {
          "base_uri": "https://localhost:8080/",
          "height": 34
        },
        "outputId": "d8f530b4-0a9e-4d9d-a8cd-7d28c4d1927b"
      },
      "cell_type": "code",
      "source": [
        "age = 20\n",
        "age = \"Python\"\n",
        "print(age)"
      ],
      "execution_count": 3,
      "outputs": [
        {
          "output_type": "stream",
          "text": [
            "Python\n"
          ],
          "name": "stdout"
        }
      ]
    },
    {
      "metadata": {
        "id": "u8FKpq_yklju",
        "colab_type": "code",
        "colab": {
          "base_uri": "https://localhost:8080/",
          "height": 34
        },
        "outputId": "7eee7f98-0f35-49c6-ca71-fe368a7b0927"
      },
      "cell_type": "code",
      "source": [
        "age: int = 20\n",
        "age = \"python\"\n",
        "print(age)"
      ],
      "execution_count": 4,
      "outputs": [
        {
          "output_type": "stream",
          "text": [
            "python\n"
          ],
          "name": "stdout"
        }
      ]
    },
    {
      "metadata": {
        "id": "nPaWANMzkztL",
        "colab_type": "code",
        "colab": {
          "base_uri": "https://localhost:8080/",
          "height": 34
        },
        "outputId": "c19ee08b-1495-4a47-90f8-4289bdb94abb"
      },
      "cell_type": "code",
      "source": [
        "x = 1\n",
        "print(id(x))"
      ],
      "execution_count": 5,
      "outputs": [
        {
          "output_type": "stream",
          "text": [
            "10910400\n"
          ],
          "name": "stdout"
        }
      ]
    },
    {
      "metadata": {
        "id": "wmA6ZMUvlL-8",
        "colab_type": "code",
        "colab": {
          "base_uri": "https://localhost:8080/",
          "height": 34
        },
        "outputId": "94f68cad-f08b-4605-bfa1-4488c465b8db"
      },
      "cell_type": "code",
      "source": [
        "x = x + 1\n",
        "print(id(x))"
      ],
      "execution_count": 6,
      "outputs": [
        {
          "output_type": "stream",
          "text": [
            "10910432\n"
          ],
          "name": "stdout"
        }
      ]
    },
    {
      "metadata": {
        "id": "Ado94gzelTR8",
        "colab_type": "code",
        "colab": {
          "base_uri": "https://localhost:8080/",
          "height": 51
        },
        "outputId": "528f47f4-37f5-4259-f19a-003e7864cf1b"
      },
      "cell_type": "code",
      "source": [
        "x = [1,2,3]\n",
        "print(id(x))\n",
        "x.append(4)\n",
        "print(id(x))"
      ],
      "execution_count": 7,
      "outputs": [
        {
          "output_type": "stream",
          "text": [
            "140130419856008\n",
            "140130419856008\n"
          ],
          "name": "stdout"
        }
      ]
    },
    {
      "metadata": {
        "id": "8bn9r3UMlfO0",
        "colab_type": "code",
        "colab": {
          "base_uri": "https://localhost:8080/",
          "height": 170
        },
        "outputId": "082fa507-3cdb-4232-a89f-e671f72bd7c2"
      },
      "cell_type": "code",
      "source": [
        "course = \"Python Programming\"\n",
        "print(len(course))\n",
        "print(course[0])\n",
        "print(course[-1])\n",
        "print(course[0:3])\n",
        "print(course[:3])\n",
        "print(course[0:])\n",
        "print(course[:])\n",
        "\n",
        "print(id(course))\n",
        "print(id(course[0]))\n"
      ],
      "execution_count": 15,
      "outputs": [
        {
          "output_type": "stream",
          "text": [
            "18\n",
            "P\n",
            "g\n",
            "Pyt\n",
            "Pyt\n",
            "Python Programming\n",
            "Python Programming\n",
            "140130419860584\n",
            "140131061998960\n"
          ],
          "name": "stdout"
        }
      ]
    },
    {
      "metadata": {
        "id": "Lou4xAaTml80",
        "colab_type": "code",
        "colab": {
          "base_uri": "https://localhost:8080/",
          "height": 85
        },
        "outputId": "05ae709f-da6f-48c8-db74-8c82d313aab2"
      },
      "cell_type": "code",
      "source": [
        "# \\\"\n",
        "message = \"Python \\\"Programming\"\n",
        "\n",
        "print(message)\n",
        "\n",
        "message = \"\"\"Python\n",
        "Programming\n",
        "\"\"\"\n",
        "\n",
        "print(message)"
      ],
      "execution_count": 17,
      "outputs": [
        {
          "output_type": "stream",
          "text": [
            "Python \"Programming\n",
            "Python\n",
            "Programming\n",
            "\n"
          ],
          "name": "stdout"
        }
      ]
    },
    {
      "metadata": {
        "id": "fxaib-cnnQjE",
        "colab_type": "code",
        "colab": {
          "base_uri": "https://localhost:8080/",
          "height": 34
        },
        "outputId": "159f2f94-00d0-4cb2-dd8f-c28e1ce961ac"
      },
      "cell_type": "code",
      "source": [
        "first = \"Mosh\"\n",
        "last = \"Hamedani\"\n",
        "full = f\"{first} {last}\"\n",
        "print(full)"
      ],
      "execution_count": 18,
      "outputs": [
        {
          "output_type": "stream",
          "text": [
            "Mosh Hamedani\n"
          ],
          "name": "stdout"
        }
      ]
    },
    {
      "metadata": {
        "id": "lpXD9n04nw69",
        "colab_type": "code",
        "colab": {
          "base_uri": "https://localhost:8080/",
          "height": 153
        },
        "outputId": "256fc293-18d7-41d3-81e2-5cb97c378802"
      },
      "cell_type": "code",
      "source": [
        "course = \"  Python Programming\"\n",
        "print(course.upper())\n",
        "print(course.lower())\n",
        "print(course.title())\n",
        "\n",
        "print(course.strip())\n",
        "\n",
        "print(course.find(\"Pro\"))\n",
        "\n",
        "print(course.replace(\"P\",\"-\"))\n",
        "\n",
        "print(\"Programming\" in course)\n",
        "print(\"Programming\" not in course)\n",
        "\n"
      ],
      "execution_count": 25,
      "outputs": [
        {
          "output_type": "stream",
          "text": [
            "  PYTHON PROGRAMMING\n",
            "  python programming\n",
            "  Python Programming\n",
            "Python Programming\n",
            "9\n",
            "  -ython -rogramming\n",
            "True\n",
            "False\n"
          ],
          "name": "stdout"
        }
      ]
    },
    {
      "metadata": {
        "id": "acN08a8vojuV",
        "colab_type": "code",
        "colab": {
          "base_uri": "https://localhost:8080/",
          "height": 102
        },
        "outputId": "88e611d6-36fe-4bd6-d1ce-875595c7a039"
      },
      "cell_type": "code",
      "source": [
        "x = 0b10\n",
        "print(x)\n",
        "print(bin(x))\n",
        "\n",
        "x=0x12c\n",
        "print(x)\n",
        "print(hex(x))\n",
        "\n",
        "x = 1+2j\n",
        "print(x)"
      ],
      "execution_count": 30,
      "outputs": [
        {
          "output_type": "stream",
          "text": [
            "2\n",
            "0b10\n",
            "300\n",
            "0x12c\n",
            "(1+2j)\n"
          ],
          "name": "stdout"
        }
      ]
    },
    {
      "metadata": {
        "id": "qrcm3TV1pEHY",
        "colab_type": "code",
        "colab": {
          "base_uri": "https://localhost:8080/",
          "height": 85
        },
        "outputId": "862e8068-bb93-4deb-dc16-311a4072d128"
      },
      "cell_type": "code",
      "source": [
        "x = 10/3\n",
        "print(x)\n",
        "\n",
        "x = 10//3\n",
        "print(x)\n",
        "\n",
        "x = 10%3\n",
        "print(x)\n",
        "\n",
        "x = 10**3\n",
        "print(x)"
      ],
      "execution_count": 32,
      "outputs": [
        {
          "output_type": "stream",
          "text": [
            "3.3333333333333335\n",
            "3\n",
            "1\n",
            "1000\n"
          ],
          "name": "stdout"
        }
      ]
    },
    {
      "metadata": {
        "id": "5I-PlLV5pcPt",
        "colab_type": "code",
        "colab": {
          "base_uri": "https://localhost:8080/",
          "height": 68
        },
        "outputId": "d91c0f13-f8bc-44ff-ecd3-84da45198f0e"
      },
      "cell_type": "code",
      "source": [
        "import math\n",
        "\n",
        "PI = 3.14\n",
        "print(round(PI))\n",
        "print(abs(PI))\n",
        "\n",
        "print(math.floor(PI))\n"
      ],
      "execution_count": 34,
      "outputs": [
        {
          "output_type": "stream",
          "text": [
            "3\n",
            "3.14\n",
            "3\n"
          ],
          "name": "stdout"
        }
      ]
    },
    {
      "metadata": {
        "id": "FIXdjSmgqEEA",
        "colab_type": "code",
        "colab": {
          "base_uri": "https://localhost:8080/",
          "height": 68
        },
        "outputId": "c320403e-6cf9-43c3-f64b-5ee85d4669f1"
      },
      "cell_type": "code",
      "source": [
        "x = input(\"x: \")\n",
        "y = x + \"2\"\n",
        "print(y)\n",
        "\n",
        "y = int(x) +1\n",
        "print(y)"
      ],
      "execution_count": 37,
      "outputs": [
        {
          "output_type": "stream",
          "text": [
            "x: 3\n",
            "32\n",
            "4\n"
          ],
          "name": "stdout"
        }
      ]
    },
    {
      "metadata": {
        "id": "SyOEJOmUrD5m",
        "colab_type": "code",
        "colab": {
          "base_uri": "https://localhost:8080/",
          "height": 51
        },
        "outputId": "d2993bb1-27e1-4355-f9fe-10688997e333"
      },
      "cell_type": "code",
      "source": [
        "age = 22\n",
        "if age >= 18:\n",
        "  print(\"Adult\")\n",
        "  print(\"Adult\")  \n",
        "elif age >= 13:\n",
        "  print(\"Teenager\")\n",
        "else:\n",
        "  print(\"child\")"
      ],
      "execution_count": 38,
      "outputs": [
        {
          "output_type": "stream",
          "text": [
            "Adult\n",
            "Adult\n"
          ],
          "name": "stdout"
        }
      ]
    },
    {
      "metadata": {
        "id": "SRWls_qVr3sO",
        "colab_type": "code",
        "colab": {
          "base_uri": "https://localhost:8080/",
          "height": 51
        },
        "outputId": "d45a591a-726f-402f-8259-5c4fed1e3f82"
      },
      "cell_type": "code",
      "source": [
        "name = \"\"\n",
        "if not name:\n",
        "  print(\"Name is empty\")\n",
        "\n",
        "age = 22\n",
        "if 18<=age<65:\n",
        "  print(\"Elogible\")"
      ],
      "execution_count": 40,
      "outputs": [
        {
          "output_type": "stream",
          "text": [
            "Name is empty\n",
            "Elogible\n"
          ],
          "name": "stdout"
        }
      ]
    },
    {
      "metadata": {
        "id": "xnobStOCslIY",
        "colab_type": "code",
        "colab": {
          "base_uri": "https://localhost:8080/",
          "height": 34
        },
        "outputId": "f81fff38-56dc-4e85-c862-6bb15e8c3c52"
      },
      "cell_type": "code",
      "source": [
        "age = 22\n",
        "message = \"Eligible\" if age >= 18 else \"Not\"\n",
        "\n",
        "print(message)"
      ],
      "execution_count": 41,
      "outputs": [
        {
          "output_type": "stream",
          "text": [
            "Eligible\n"
          ],
          "name": "stdout"
        }
      ]
    },
    {
      "metadata": {
        "id": "X6ZrwUpps7dn",
        "colab_type": "code",
        "colab": {
          "base_uri": "https://localhost:8080/",
          "height": 289
        },
        "outputId": "b9872e81-7276-4f70-cb4a-b23955ff0e53"
      },
      "cell_type": "code",
      "source": [
        "for x in \"Python\":\n",
        "  print(x)\n",
        "  \n",
        "for x in ['a','b','c']:\n",
        "  print(x)\n",
        "  \n",
        "for x in range(0,10,2):\n",
        "  print(x)\n",
        "  \n",
        "print(range(0,10,2))\n",
        "\n",
        "print([1,2,3])"
      ],
      "execution_count": 47,
      "outputs": [
        {
          "output_type": "stream",
          "text": [
            "P\n",
            "y\n",
            "t\n",
            "h\n",
            "o\n",
            "n\n",
            "a\n",
            "b\n",
            "c\n",
            "0\n",
            "2\n",
            "4\n",
            "6\n",
            "8\n",
            "range(0, 10, 2)\n",
            "[1, 2, 3]\n"
          ],
          "name": "stdout"
        }
      ]
    },
    {
      "metadata": {
        "id": "7j3CT820t1x_",
        "colab_type": "code",
        "colab": {
          "base_uri": "https://localhost:8080/",
          "height": 34
        },
        "outputId": "6a84332c-82cf-41fa-a389-0ce3abe19f26"
      },
      "cell_type": "code",
      "source": [
        "names = [\"AJohn\",\"Mary\"]\n",
        "for name in names:\n",
        "  if name.startswith(\"J\"):\n",
        "    print(\"Found\")\n",
        "    break\n",
        "else:\n",
        "  print(\"Not Found\")"
      ],
      "execution_count": 50,
      "outputs": [
        {
          "output_type": "stream",
          "text": [
            "Not Found\n"
          ],
          "name": "stdout"
        }
      ]
    },
    {
      "metadata": {
        "id": "vG3Xq2E-ua7v",
        "colab_type": "code",
        "colab": {
          "base_uri": "https://localhost:8080/",
          "height": 34
        },
        "outputId": "9021b467-0c8f-445f-9930-7f8ce759a892"
      },
      "cell_type": "code",
      "source": [
        "guess = 0\n",
        "answer = 5\n",
        "\n",
        "while answer != guess:\n",
        "  guess = int(input(\"Guess: \"))\n",
        "else:\n",
        "  pass"
      ],
      "execution_count": 53,
      "outputs": [
        {
          "output_type": "stream",
          "text": [
            "Guess: 5\n"
          ],
          "name": "stdout"
        }
      ]
    },
    {
      "metadata": {
        "id": "wwWT3HtSu8di",
        "colab_type": "code",
        "colab": {
          "base_uri": "https://localhost:8080/",
          "height": 51
        },
        "outputId": "6afa1f92-9b31-4fcd-c619-02d5d4c045b4"
      },
      "cell_type": "code",
      "source": [
        "def increment(number,by=1):\n",
        "  return (number,number+by)\n",
        "\n",
        "print(increment(2,by = 3))\n",
        "\n",
        "\n",
        "print(increment(2))"
      ],
      "execution_count": 57,
      "outputs": [
        {
          "output_type": "stream",
          "text": [
            "(2, 5)\n",
            "(2, 3)\n"
          ],
          "name": "stdout"
        }
      ]
    },
    {
      "metadata": {
        "id": "rYyIop-Fv9kY",
        "colab_type": "code",
        "colab": {
          "base_uri": "https://localhost:8080/",
          "height": 51
        },
        "outputId": "4cfe3b18-0b92-4678-fe20-f40137b6633a"
      },
      "cell_type": "code",
      "source": [
        "def increment(number:int,by:int=1) -> tuple:\n",
        "  return (number,number+by)\n",
        "\n",
        "print(increment(2,by = 3))\n",
        "\n",
        "\n",
        "print(increment(2))"
      ],
      "execution_count": 58,
      "outputs": [
        {
          "output_type": "stream",
          "text": [
            "(2, 5)\n",
            "(2, 3)\n"
          ],
          "name": "stdout"
        }
      ]
    },
    {
      "metadata": {
        "id": "lyLWH9-xwC2Q",
        "colab_type": "code",
        "colab": {
          "base_uri": "https://localhost:8080/",
          "height": 34
        },
        "outputId": "46d3f52f-99b9-4f59-a283-5e584b633634"
      },
      "cell_type": "code",
      "source": [
        "def multiply(*list):\n",
        "  print(list)\n",
        "\n",
        "multiply(2,3,4,5)"
      ],
      "execution_count": 59,
      "outputs": [
        {
          "output_type": "stream",
          "text": [
            "(2, 3, 4, 5)\n"
          ],
          "name": "stdout"
        }
      ]
    },
    {
      "metadata": {
        "id": "pgpFtBsEwfLw",
        "colab_type": "code",
        "colab": {
          "base_uri": "https://localhost:8080/",
          "height": 34
        },
        "outputId": "a742b8d3-a22c-41ca-d20e-716a68fc6319"
      },
      "cell_type": "code",
      "source": [
        "def multiply(*list):\n",
        "  total =1\n",
        "  for number in list:\n",
        "    total *=number\n",
        "  return total\n",
        "\n",
        "print(multiply(2,3,4,5))"
      ],
      "execution_count": 60,
      "outputs": [
        {
          "output_type": "stream",
          "text": [
            "120\n"
          ],
          "name": "stdout"
        }
      ]
    },
    {
      "metadata": {
        "id": "FErM1wv8wsFw",
        "colab_type": "code",
        "colab": {
          "base_uri": "https://localhost:8080/",
          "height": 34
        },
        "outputId": "1cbadba0-a0f4-4d77-908b-25e06edb1d43"
      },
      "cell_type": "code",
      "source": [
        "def save_user(**user):\n",
        "  print(user[\"id\"])\n",
        "  \n",
        "save_user(id=1,name=\"admin\")"
      ],
      "execution_count": 64,
      "outputs": [
        {
          "output_type": "stream",
          "text": [
            "1\n"
          ],
          "name": "stdout"
        }
      ]
    }
  ]
}