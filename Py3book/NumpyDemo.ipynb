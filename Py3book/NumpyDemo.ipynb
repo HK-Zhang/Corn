{
 "cells": [
  {
   "cell_type": "code",
   "execution_count": 2,
   "metadata": {},
   "outputs": [
    {
     "data": {
      "image/png": "[encoded data removed]",
      "text/plain": [
       "<matplotlib.figure.Figure at 0x2031ce3a320>"
      ]
     },
     "metadata": {},
     "output_type": "display_data"
    }
   ],
   "source": [
    "import numpy as np\n",
    "import scipy as sp\n",
    "import pylab as pl\n",
    "\n",
    "# 从0到4pi之间，取100个样点\n",
    "x = np.linspace(0,4*np.pi,100)\n",
    "\n",
    "pl.plot(x,np.sin(x))\n",
    "pl.show()"
   ]
  },
  {
   "cell_type": "code",
   "execution_count": 5,
   "metadata": {},
   "outputs": [
    {
     "name": "stdout",
     "output_type": "stream",
     "text": [
      "[[1 2 3 4 5 6]]\n",
      "(6,)\n",
      "(1, 6)\n",
      "[1 2 3 4 5 6] [[1]\n",
      " [2]\n",
      " [3]\n",
      " [4]\n",
      " [5]\n",
      " [6]]\n"
     ]
    }
   ],
   "source": [
    "b = np.array([1, 2, 3, 4, 5, 6])\n",
    "print(b[np.newaxis])\n",
    "c = b[np.newaxis]\n",
    "print(b.shape)\n",
    "print(c.shape)\n",
    "d=np.transpose(b)\n",
    "e=np.transpose(c)\n",
    "print(d,e)"
   ]
  },
  {
   "cell_type": "code",
   "execution_count": 6,
   "metadata": {},
   "outputs": [
    {
     "name": "stdout",
     "output_type": "stream",
     "text": [
      "[1 2 3]\n",
      "[[1 2 3]]\n",
      "(3,) (1, 3)\n"
     ]
    }
   ],
   "source": [
    "a = np.array([1,2,3])\n",
    "print(a)\n",
    "b = a[None]\n",
    "print(b)\n",
    "print(a.shape,b.shape)"
   ]
  },
  {
   "cell_type": "code",
   "execution_count": 11,
   "metadata": {},
   "outputs": [
    {
     "name": "stdout",
     "output_type": "stream",
     "text": [
      "(10,)\n",
      "(1, 10)\n",
      "[[-1.        ]\n",
      " [-0.77777778]\n",
      " [-0.55555556]\n",
      " [-0.33333333]\n",
      " [-0.11111111]\n",
      " [ 0.11111111]\n",
      " [ 0.33333333]\n",
      " [ 0.55555556]\n",
      " [ 0.77777778]\n",
      " [ 1.        ]]\n"
     ]
    }
   ],
   "source": [
    "d=np.linspace(-1,1,10)\n",
    "print(d.shape)\n",
    "\n",
    "e=d[np.newaxis]\n",
    "print(e.shape)\n",
    "\n",
    "x_data = np.linspace(-1,1,10)[:,np.newaxis]\n",
    "print(x_data)"
   ]
  },
  {
   "cell_type": "code",
   "execution_count": 8,
   "metadata": {},
   "outputs": [
    {
     "data": {
      "text/plain": [
       "(10, 1)"
      ]
     },
     "execution_count": 8,
     "metadata": {},
     "output_type": "execute_result"
    }
   ],
   "source": [
    "x_data.shape"
   ]
  },
  {
   "cell_type": "code",
   "execution_count": 5,
   "metadata": {},
   "outputs": [
    {
     "name": "stdout",
     "output_type": "stream",
     "text": [
      "[[ 0.50156162]\n",
      " [ 0.05055229]\n",
      " [-0.16414565]\n",
      " [-0.3245032 ]\n",
      " [-0.43640944]\n",
      " [-0.46665039]\n",
      " [-0.41263722]\n",
      " [-0.22238674]\n",
      " [ 0.10664586]\n",
      " [ 0.45988033]]\n"
     ]
    }
   ],
   "source": [
    "import numpy as np\n",
    "x_data = np.linspace(-1,1,10)[:,np.newaxis]\n",
    "noise = np.random.normal(0,0.05,x_data.shape)\n",
    "y_data = np.square(x_data) - 0.5 + noise\n",
    "print(y_data)"
   ]
  },
  {
   "cell_type": "code",
   "execution_count": null,
   "metadata": {
    "collapsed": true
   },
   "outputs": [],
   "source": []
  }
 ],
 "metadata": {
  "kernelspec": {
   "display_name": "Python 3",
   "language": "python",
   "name": "python3"
  },
  "language_info": {
   "codemirror_mode": {
    "name": "ipython",
    "version": 3
   },
   "file_extension": ".py",
   "mimetype": "text/x-python",
   "name": "python",
   "nbconvert_exporter": "python",
   "pygments_lexer": "ipython3",
   "version": "3.6.2"
  }
 },
 "nbformat": 4,
 "nbformat_minor": 2
}
