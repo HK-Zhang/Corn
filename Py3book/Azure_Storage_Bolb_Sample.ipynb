{
  "nbformat": 4,
  "nbformat_minor": 0,
  "metadata": {
    "colab": {
      "name": "Azure Storage Bolb Sample.ipynb",
      "version": "0.3.2",
      "provenance": [],
      "include_colab_link": true
    },
    "kernelspec": {
      "name": "python3",
      "display_name": "Python 3"
    }
  },
  "cells": [
    {
      "cell_type": "markdown",
      "metadata": {
        "id": "view-in-github",
        "colab_type": "text"
      },
      "source": [
        "<a href=\"https://colab.research.google.com/github/HK-Zhang/Corn/blob/master/Py3book/Azure_Storage_Bolb_Sample.ipynb\" target=\"_parent\"><img src=\"https://colab.research.google.com/assets/colab-badge.svg\" alt=\"Open In Colab\"/></a>"
      ]
    },
    {
      "metadata": {
        "id": "iIAOaBz_zCI4",
        "colab_type": "code",
        "colab": {
          "base_uri": "https://localhost:8080/",
          "height": 425
        },
        "outputId": "c5ffb7c7-7297-4b1e-e22a-3b992a51a1f7"
      },
      "cell_type": "code",
      "source": [
        "!pip install azure-storage"
      ],
      "execution_count": 6,
      "outputs": [
        {
          "output_type": "stream",
          "text": [
            "Collecting azure-storage\n",
            "\u001b[?25l  Downloading https://files.pythonhosted.org/packages/76/26/482c033f8f3a48d16cf75aad91c3e1256856719f4117fabb4696d33aa5da/azure_storage-0.36.0-py2.py3-none-any.whl (190kB)\n",
            "\u001b[K    100% |████████████████████████████████| 194kB 10.2MB/s \n",
            "\u001b[?25hRequirement already satisfied: python-dateutil in /usr/local/lib/python3.6/dist-packages (from azure-storage) (2.5.3)\n",
            "Collecting azure-common>=1.1.5 (from azure-storage)\n",
            "  Downloading https://files.pythonhosted.org/packages/ac/d3/055ce7ad06459a415ff9ca210e04c6cbb51bd6564815b7c8ac34bf5a1c39/azure_common-1.1.16-py2.py3-none-any.whl\n",
            "Requirement already satisfied: requests in /usr/local/lib/python3.6/dist-packages (from azure-storage) (2.18.4)\n",
            "Collecting azure-nspkg>=2.0.0 (from azure-storage)\n",
            "  Downloading https://files.pythonhosted.org/packages/c4/0c/c562be95a9a2ed52454f598571cf300b1114d0db2aa27f5b8ed3bb9cd0c0/azure_nspkg-3.0.2-py3-none-any.whl\n",
            "Collecting cryptography (from azure-storage)\n",
            "\u001b[?25l  Downloading https://files.pythonhosted.org/packages/60/c7/99b33c53cf3f20a97a4c4bfd3ab66dcc93d99da0a97cc9597aa36ae6bb62/cryptography-2.4.2-cp34-abi3-manylinux1_x86_64.whl (2.1MB)\n",
            "\u001b[K    100% |████████████████████████████████| 2.1MB 9.4MB/s \n",
            "\u001b[?25hRequirement already satisfied: six>=1.5 in /usr/local/lib/python3.6/dist-packages (from python-dateutil->azure-storage) (1.11.0)\n",
            "Requirement already satisfied: certifi>=2017.4.17 in /usr/local/lib/python3.6/dist-packages (from requests->azure-storage) (2018.11.29)\n",
            "Requirement already satisfied: chardet<3.1.0,>=3.0.2 in /usr/local/lib/python3.6/dist-packages (from requests->azure-storage) (3.0.4)\n",
            "Requirement already satisfied: idna<2.7,>=2.5 in /usr/local/lib/python3.6/dist-packages (from requests->azure-storage) (2.6)\n",
            "Requirement already satisfied: urllib3<1.23,>=1.21.1 in /usr/local/lib/python3.6/dist-packages (from requests->azure-storage) (1.22)\n",
            "Collecting asn1crypto>=0.21.0 (from cryptography->azure-storage)\n",
            "\u001b[?25l  Downloading https://files.pythonhosted.org/packages/ea/cd/35485615f45f30a510576f1a56d1e0a7ad7bd8ab5ed7cdc600ef7cd06222/asn1crypto-0.24.0-py2.py3-none-any.whl (101kB)\n",
            "\u001b[K    100% |████████████████████████████████| 102kB 28.4MB/s \n",
            "\u001b[?25hRequirement already satisfied: cffi!=1.11.3,>=1.7 in /usr/local/lib/python3.6/dist-packages (from cryptography->azure-storage) (1.11.5)\n",
            "Requirement already satisfied: pycparser in /usr/local/lib/python3.6/dist-packages (from cffi!=1.11.3,>=1.7->cryptography->azure-storage) (2.19)\n",
            "Installing collected packages: azure-common, azure-nspkg, asn1crypto, cryptography, azure-storage\n",
            "Successfully installed asn1crypto-0.24.0 azure-common-1.1.16 azure-nspkg-3.0.2 azure-storage-0.36.0 cryptography-2.4.2\n"
          ],
          "name": "stdout"
        }
      ]
    },
    {
      "metadata": {
        "id": "GUNwA1t99Jeu",
        "colab_type": "code",
        "colab": {
          "base_uri": "https://localhost:8080/",
          "height": 34
        },
        "outputId": "a85d558c-ffc7-44ec-f5c9-0392191ed9be"
      },
      "cell_type": "code",
      "source": [
        "!pwd"
      ],
      "execution_count": 38,
      "outputs": [
        {
          "output_type": "stream",
          "text": [
            "/content\n"
          ],
          "name": "stdout"
        }
      ]
    },
    {
      "metadata": {
        "id": "MLNSJi3F9Mgz",
        "colab_type": "code",
        "colab": {
          "base_uri": "https://localhost:8080/",
          "height": 34
        },
        "outputId": "b1484551-a0e0-475d-ec1e-118d6591ab10"
      },
      "cell_type": "code",
      "source": [
        "!ls"
      ],
      "execution_count": 53,
      "outputs": [
        {
          "output_type": "stream",
          "text": [
            "azureblob.csv  result_azureblob.csv  sample_data\n"
          ],
          "name": "stdout"
        }
      ]
    },
    {
      "metadata": {
        "id": "4vxDFgDNzjJF",
        "colab_type": "code",
        "colab": {}
      },
      "cell_type": "code",
      "source": [
        "import os, uuid, sys\n",
        "from datetime import datetime, timedelta\n",
        "from azure.storage.blob import BlockBlobService, PublicAccess,ContainerPermissions\n",
        "\n",
        "def run_sample():\n",
        "    try:\n",
        "#         blobService = BlockBlobService(account_name='aspreactstorage', account_key='*****')\n",
        "#         sas_token1 = blobService.generate_container_shared_access_signature(\"2018demo\",ContainerPermissions.LIST, datetime.utcnow() + timedelta(hours=1))\n",
        "#         print(sas_token1)\n",
        "\n",
        "        # Create the BlockBlockService that is used to call the Blob service for the storage account\n",
        "        container_name = '2018demo'\n",
        "        block_blob_service = BlockBlobService(account_name='aspreactstorage', account_key=None, sas_token='*****') # the first character ? should be removed from sas_token, otherwise the authorization will failed.\n",
        "\n",
        "        # List the blobs in the container\n",
        "        print(\"\\nList blobs in the container\")\n",
        "        generator = block_blob_service.list_blobs(\"2018demo\",\"pythontest/\")\n",
        "        for blob in generator:\n",
        "          if blob.name.lower().endswith('.csv'):\n",
        "            str.replace(blob.name ,'.csv', '_DOWNLOADED.csv')\n",
        "            block_blob_service.get_blob_to_path(container_name, blob.name, blob.name.split('/')[-1])\n",
        "\n",
        "        # Download the blob(s).\n",
        "        # Add '_DOWNLOADED' as prefix to '.txt' so you can see both files in Documents.\n",
        "#         full_path_to_file2 = os.path.join(local_path, str.replace(local_file_name ,'.txt', '_DOWNLOADED.txt'))\n",
        "#         print(\"\\nDownloading blob to \" + full_path_to_file2)\n",
        "#         block_blob_service.get_blob_to_path(container_name, local_file_name, full_path_to_file2)\n",
        "\n",
        "#         sys.stdout.write(\"Sample finished running. When you hit <any key>, the sample will be deleted and the sample \"\n",
        "#                          \"application will exit.\")\n",
        "#         sys.stdout.flush()\n",
        "#         input()\n",
        "\n",
        "    except Exception as e:\n",
        "        print(e)\n",
        "        "
      ],
      "execution_count": 0,
      "outputs": []
    },
    {
      "metadata": {
        "id": "b08dJyBb3uey",
        "colab_type": "code",
        "colab": {
          "base_uri": "https://localhost:8080/",
          "height": 51
        },
        "outputId": "b9f2ba2a-5f7c-46b9-a41d-6456ba822dc0"
      },
      "cell_type": "code",
      "source": [
        "run_sample()"
      ],
      "execution_count": 46,
      "outputs": [
        {
          "output_type": "stream",
          "text": [
            "\n",
            "List blobs in the container\n"
          ],
          "name": "stdout"
        }
      ]
    },
    {
      "metadata": {
        "id": "rSgF1DDm_vYM",
        "colab_type": "code",
        "colab": {
          "base_uri": "https://localhost:8080/",
          "height": 80
        },
        "outputId": "7fef404f-f214-4459-ec7b-3b6ee04192ca"
      },
      "cell_type": "code",
      "source": [
        "import pandas as pd\n",
        "df = pd.read_csv('azureblob.csv',sep=';')\n",
        "df"
      ],
      "execution_count": 50,
      "outputs": [
        {
          "output_type": "execute_result",
          "data": {
            "text/html": [
              "<div>\n",
              "<style scoped>\n",
              "    .dataframe tbody tr th:only-of-type {\n",
              "        vertical-align: middle;\n",
              "    }\n",
              "\n",
              "    .dataframe tbody tr th {\n",
              "        vertical-align: top;\n",
              "    }\n",
              "\n",
              "    .dataframe thead th {\n",
              "        text-align: right;\n",
              "    }\n",
              "</style>\n",
              "<table border=\"1\" class=\"dataframe\">\n",
              "  <thead>\n",
              "    <tr style=\"text-align: right;\">\n",
              "      <th></th>\n",
              "      <th>Name</th>\n",
              "      <th>Age</th>\n",
              "    </tr>\n",
              "  </thead>\n",
              "  <tbody>\n",
              "    <tr>\n",
              "      <th>0</th>\n",
              "      <td>JIM</td>\n",
              "      <td>36</td>\n",
              "    </tr>\n",
              "  </tbody>\n",
              "</table>\n",
              "</div>"
            ],
            "text/plain": [
              "  Name  Age\n",
              "0  JIM   36"
            ]
          },
          "metadata": {
            "tags": []
          },
          "execution_count": 50
        }
      ]
    },
    {
      "metadata": {
        "id": "keVC1Cm3A06J",
        "colab_type": "code",
        "colab": {
          "base_uri": "https://localhost:8080/",
          "height": 111
        },
        "outputId": "3dc80ea9-3fe6-4b1a-aae7-c17830da4f32"
      },
      "cell_type": "code",
      "source": [
        "newdf = df.append({'Name' : 'Sahil' , 'Age' : 22} , ignore_index=True)\n",
        "newdf"
      ],
      "execution_count": 51,
      "outputs": [
        {
          "output_type": "execute_result",
          "data": {
            "text/html": [
              "<div>\n",
              "<style scoped>\n",
              "    .dataframe tbody tr th:only-of-type {\n",
              "        vertical-align: middle;\n",
              "    }\n",
              "\n",
              "    .dataframe tbody tr th {\n",
              "        vertical-align: top;\n",
              "    }\n",
              "\n",
              "    .dataframe thead th {\n",
              "        text-align: right;\n",
              "    }\n",
              "</style>\n",
              "<table border=\"1\" class=\"dataframe\">\n",
              "  <thead>\n",
              "    <tr style=\"text-align: right;\">\n",
              "      <th></th>\n",
              "      <th>Name</th>\n",
              "      <th>Age</th>\n",
              "    </tr>\n",
              "  </thead>\n",
              "  <tbody>\n",
              "    <tr>\n",
              "      <th>0</th>\n",
              "      <td>JIM</td>\n",
              "      <td>36</td>\n",
              "    </tr>\n",
              "    <tr>\n",
              "      <th>1</th>\n",
              "      <td>Sahil</td>\n",
              "      <td>22</td>\n",
              "    </tr>\n",
              "  </tbody>\n",
              "</table>\n",
              "</div>"
            ],
            "text/plain": [
              "    Name  Age\n",
              "0    JIM   36\n",
              "1  Sahil   22"
            ]
          },
          "metadata": {
            "tags": []
          },
          "execution_count": 51
        }
      ]
    },
    {
      "metadata": {
        "id": "cHyrUtujCAnU",
        "colab_type": "code",
        "colab": {}
      },
      "cell_type": "code",
      "source": [
        "newdf.to_csv('result_azureblob.csv',sep=';')"
      ],
      "execution_count": 0,
      "outputs": []
    },
    {
      "metadata": {
        "id": "ZU1gsX6ICmUF",
        "colab_type": "code",
        "colab": {}
      },
      "cell_type": "code",
      "source": [
        "import os, uuid, sys\n",
        "from datetime import datetime, timedelta\n",
        "from azure.storage.blob import BlockBlobService, PublicAccess,ContainerPermissions\n",
        "\n",
        "def write_to_azure_sample():\n",
        "  try:\n",
        "    container_name = '2018demo'\n",
        "    block_blob_service = BlockBlobService(account_name='aspreactstorage', account_key=None, sas_token='*******')\n",
        "    block_blob_service.create_blob_from_path(container_name, 'pythontest/result_azureblob.csv', 'result_azureblob.csv')\n",
        "  except Exception as e:\n",
        "    print(e)"
      ],
      "execution_count": 0,
      "outputs": []
    },
    {
      "metadata": {
        "id": "dMLRIU6IDDeP",
        "colab_type": "code",
        "colab": {}
      },
      "cell_type": "code",
      "source": [
        "write_to_azure_sample()"
      ],
      "execution_count": 0,
      "outputs": []
    },
    {
      "metadata": {
        "id": "ssZNWsADDfBS",
        "colab_type": "code",
        "colab": {
          "base_uri": "https://localhost:8080/",
          "height": 68
        },
        "outputId": "661463f3-0ca1-45fc-d05c-77f862df8753"
      },
      "cell_type": "code",
      "source": [
        "!cat result_azureblob.csv"
      ],
      "execution_count": 60,
      "outputs": [
        {
          "output_type": "stream",
          "text": [
            "Name;Age\n",
            "JIM;36\n",
            "Sahil;22\n"
          ],
          "name": "stdout"
        }
      ]
    },
    {
      "metadata": {
        "id": "Cg4rqlM5EBF3",
        "colab_type": "code",
        "colab": {}
      },
      "cell_type": "code",
      "source": [
        "newdf.to_csv('result_azureblob.csv',sep=';',index=False)"
      ],
      "execution_count": 0,
      "outputs": []
    },
    {
      "metadata": {
        "id": "DhHhKQki-9SZ",
        "colab_type": "code",
        "colab": {
          "base_uri": "https://localhost:8080/",
          "height": 34
        },
        "outputId": "d2d2c6c3-f73c-4f69-d642-502f8e3eb6dc"
      },
      "cell_type": "code",
      "source": [
        "a = 'pythontest/azureblob.csv'\n",
        "a.split('/')[-1]"
      ],
      "execution_count": 44,
      "outputs": [
        {
          "output_type": "execute_result",
          "data": {
            "text/plain": [
              "'azureblob.csv'"
            ]
          },
          "metadata": {
            "tags": []
          },
          "execution_count": 44
        }
      ]
    },
    {
      "metadata": {
        "id": "NOHMVEIKFF9Z",
        "colab_type": "code",
        "colab": {
          "base_uri": "https://localhost:8080/",
          "height": 34
        },
        "outputId": "2dd845cc-4b39-463d-903a-9a7c5681f949"
      },
      "cell_type": "code",
      "source": [
        "a = '?abc'\n",
        "\n",
        "r = a[1:] if a[0]=='?' else a\n",
        "\n",
        "r"
      ],
      "execution_count": 66,
      "outputs": [
        {
          "output_type": "execute_result",
          "data": {
            "text/plain": [
              "'abc'"
            ]
          },
          "metadata": {
            "tags": []
          },
          "execution_count": 66
        }
      ]
    }
  ]
}