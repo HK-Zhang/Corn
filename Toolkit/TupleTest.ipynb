{
  "nbformat": 4,
  "nbformat_minor": 0,
  "metadata": {
    "colab": {
      "name": "TupleTest.ipynb",
      "version": "0.3.2",
      "provenance": []
    },
    "kernelspec": {
      "name": "python3",
      "display_name": "Python 3"
    }
  },
  "cells": [
    {
      "cell_type": "markdown",
      "metadata": {
        "id": "view-in-github",
        "colab_type": "text"
      },
      "source": [
        "[View in Colaboratory](https://colab.research.google.com/github/HK-Zhang/Corn/blob/master/Toolkit/TupleTest.ipynb)"
      ]
    },
    {
      "metadata": {
        "id": "U3e0Bi36Qwos",
        "colab_type": "text"
      },
      "cell_type": "markdown",
      "source": [
        "不可变序列-----元组 tuple元组和列表十分相似,元组和字符串一样都是不可变的。\n",
        "元组由不同的元素组成，每个元素可以存储不同类型的数据，例如字符串、数字和元组\n",
        "元组通常代表一行数据，而元组中的元素则代表不同的数据项创建元组，不定长，但一旦创建后则不能修改长度"
      ]
    },
    {
      "metadata": {
        "id": "m6BTB3LPRCLs",
        "colab_type": "code",
        "colab": {
          "base_uri": "https://localhost:8080/",
          "height": 34
        },
        "outputId": "fcd27f8c-9005-4a06-9d99-5dc51b5f5e6d"
      },
      "cell_type": "code",
      "source": [
        "tuple_name = ()\n",
        "print(tuple_name)"
      ],
      "execution_count": 1,
      "outputs": [
        {
          "output_type": "stream",
          "text": [
            "()\n"
          ],
          "name": "stdout"
        }
      ]
    }
  ]
}